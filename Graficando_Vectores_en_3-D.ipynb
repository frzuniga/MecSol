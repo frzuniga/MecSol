{
 "cells": [
  {
   "cell_type": "markdown",
   "metadata": {},
   "source": [
    "## Ejemplo de Graficación de Vectores en 3-D\n",
    "### Mecánica de Sólidos\n",
    "### R. Zúñiga  "
   ]
  },
  {
   "cell_type": "code",
   "execution_count": 1,
   "metadata": {},
   "outputs": [
    {
     "data": {
      "text/plain": [
       "\"\""
      ]
     },
     "execution_count": 1,
     "metadata": {},
     "output_type": "execute_result"
    }
   ],
   "source": [
    "# Plotting a 3D vector from https://discourse.julialang.org/t/plot-3d-vector-field/2117/2\n",
    "# Pkg.add(\"PyPlot\")\n",
    "ENV[\"PYTHON\"] = \"\"  "
   ]
  },
  {
   "cell_type": "code",
   "execution_count": 2,
   "metadata": {},
   "outputs": [],
   "source": [
    "using PyPlot"
   ]
  },
  {
   "cell_type": "code",
   "execution_count": 3,
   "metadata": {},
   "outputs": [
    {
     "data": {
      "text/plain": [
       "true"
      ]
     },
     "execution_count": 3,
     "metadata": {},
     "output_type": "execute_result"
    }
   ],
   "source": [
    "pygui(true)  # si se pone verdadero (true) se grafica en una ventana externa con GUIS y se puede rotar, \n",
    "             # falso (false) pone la gráfica en una línea siguiente"
   ]
  },
  {
   "cell_type": "code",
   "execution_count": 4,
   "metadata": {},
   "outputs": [
    {
     "data": {
      "text/plain": [
       "6-element Vector{Vector{Float64}}:\n",
       " [0.7352684338492466, 0.4663858412446494, -0.13964738364741072, -0.2673891435796051, -1.0737183725242678, -1.223391550923606, -1.3463448049162188, 0.5630348754998495, 0.7533516213047132, -1.8183801030409175]\n",
       " [0.9910781400507062, -0.39696454325873537, -0.0028587816552655917, -0.49096148502342846, -0.8393474600373056, 0.8643456337322127, -0.5049073667111712, -0.12415862818156113, 2.018969558846294, -1.2841687616281625]\n",
       " [0.18836817178930607, -0.9694797011390363, -0.5639210326381534, -0.8560599614067307, -0.6492064842635065, 0.21070628086430424, 0.258750906196838, -1.5321899771069893, 0.15697037442549386, 1.2704772913974394]\n",
       " [-0.057373324389902294, 2.072304455430878, 1.406465439333949, 0.04532783578427021, -0.8878207554411974, 0.06881035355403314, 0.0078103733879956025, 0.039530946073639654, 1.0262066365933677, 0.5684277931844081]\n",
       " [-0.13853896820557454, -1.2271058807223536, -1.1065604666543263, -0.17948773429138598, 0.45554565325771285, -1.2795740700112348, 1.387983578236634, -0.6136474576516469, 0.05930119656449543, -0.8981158599031738]\n",
       " [0.6086200907896464, 2.451350790728736, -0.09731271754880964, -2.7751047856685385, 0.4623753041798434, -1.7237736839887599, -0.33567687481513764, 1.6055835831237757, 1.6149764449125759, -1.0265095837778697]"
      ]
     },
     "execution_count": 4,
     "metadata": {},
     "output_type": "execute_result"
    }
   ],
   "source": [
    "fig = figure()\n",
    "#ax = fig[:gca]\n",
    "\n",
    "N = 10\n",
    "x,y,z,u,v,w = [randn(N) for i in 1:6];  # creamos 10 vectores aleatorios\n",
    "#z = z/4\n"
   ]
  },
  {
   "cell_type": "code",
   "execution_count": 5,
   "metadata": {},
   "outputs": [
    {
     "name": "stderr",
     "output_type": "stream",
     "text": [
      "/Users/ramon/.julia/conda/3/lib/python3.7/site-packages/matplotlib/pyplot.py:935: UserWarning: Requested projection is different from current axis projection, creating new axis with requested projection.\n",
      "  return gcf().gca(**kwargs)\n",
      "/Users/ramon/.julia/conda/3/lib/python3.7/site-packages/matplotlib/figure.py:98: MatplotlibDeprecationWarning: \n",
      "Adding an axes using the same arguments as a previous axes currently reuses the earlier instance.  In a future version, a new instance will always be created and returned.  Meanwhile, this warning can be suppressed, and the future behavior ensured, by passing a unique label to each axes instance.\n",
      "  \"Adding an axes using the same arguments as a previous axes \"\n"
     ]
    },
    {
     "data": {
      "text/plain": [
       "PyObject <mpl_toolkits.mplot3d.art3d.Line3DCollection object at 0x7fe8a13c87b8>"
      ]
     },
     "execution_count": 5,
     "metadata": {},
     "output_type": "execute_result"
    }
   ],
   "source": [
    "#ax[:quiver](x,y,z, u,v, w, lw =1.5)\n",
    "  \n",
    "xlim([-3.0, 3.0])\n",
    "ylim([-3.0, 3.0])\n",
    "zlim([-3.0, 3.0])\n",
    "\n",
    "quiver(x,y,z, u,v, w, lw =0.5) # grafica los vectores en 3D, los ejes se pueden rotar interactivamente.\n",
    "\n",
    "# si no funciona se puede usar\n",
    "#ax[:set_xlim]([0,3])\n",
    "#ax[:set_ylim]([0,3])\n",
    "#ax[:set_zlim]([0,3])"
   ]
  },
  {
   "cell_type": "code",
   "execution_count": 6,
   "metadata": {},
   "outputs": [
    {
     "data": {
      "text/plain": [
       "10-element Vector{Float64}:\n",
       "  0.7352684338492466\n",
       "  0.4663858412446494\n",
       " -0.13964738364741072\n",
       " -0.2673891435796051\n",
       " -1.0737183725242678\n",
       " -1.223391550923606\n",
       " -1.3463448049162188\n",
       "  0.5630348754998495\n",
       "  0.7533516213047132\n",
       " -1.8183801030409175"
      ]
     },
     "execution_count": 6,
     "metadata": {},
     "output_type": "execute_result"
    }
   ],
   "source": [
    "x"
   ]
  },
  {
   "cell_type": "code",
   "execution_count": 7,
   "metadata": {},
   "outputs": [
    {
     "data": {
      "text/plain": [
       "10-element Vector{Float64}:\n",
       "  0.9910781400507062\n",
       " -0.39696454325873537\n",
       " -0.0028587816552655917\n",
       " -0.49096148502342846\n",
       " -0.8393474600373056\n",
       "  0.8643456337322127\n",
       " -0.5049073667111712\n",
       " -0.12415862818156113\n",
       "  2.018969558846294\n",
       " -1.2841687616281625"
      ]
     },
     "execution_count": 7,
     "metadata": {},
     "output_type": "execute_result"
    }
   ],
   "source": [
    "y"
   ]
  },
  {
   "cell_type": "code",
   "execution_count": 8,
   "metadata": {},
   "outputs": [
    {
     "data": {
      "text/plain": [
       "10-element Vector{Float64}:\n",
       "  0.6086200907896464\n",
       "  2.451350790728736\n",
       " -0.09731271754880964\n",
       " -2.7751047856685385\n",
       "  0.4623753041798434\n",
       " -1.7237736839887599\n",
       " -0.33567687481513764\n",
       "  1.6055835831237757\n",
       "  1.6149764449125759\n",
       " -1.0265095837778697"
      ]
     },
     "execution_count": 8,
     "metadata": {},
     "output_type": "execute_result"
    }
   ],
   "source": [
    "w"
   ]
  },
  {
   "cell_type": "markdown",
   "metadata": {},
   "source": [
    "### Graficando vectores unitarios"
   ]
  },
  {
   "cell_type": "code",
   "execution_count": 9,
   "metadata": {},
   "outputs": [],
   "source": [
    "x = [0;0;0]; y = [0;0;0]; z = [0;0;0]; u = [1;0;0]; v = [0;1;0]; w = [0;0;1]; "
   ]
  },
  {
   "cell_type": "code",
   "execution_count": 10,
   "metadata": {},
   "outputs": [
    {
     "data": {
      "text/plain": [
       "(-0.0, 1.5)"
      ]
     },
     "execution_count": 10,
     "metadata": {},
     "output_type": "execute_result"
    }
   ],
   "source": [
    "fig = figure()\n",
    "ax = fig[:gca](projection=\"3d\")\n",
    "ax[:quiver](x,y,z, u,v, w) # otra forma de llama quiver\n",
    "xlim([-0.0, 1.5])\n",
    "ylim([-0.0, 1.5])\n",
    "zlim([-0.0, 1.5])"
   ]
  },
  {
   "cell_type": "code",
   "execution_count": 11,
   "metadata": {},
   "outputs": [
    {
     "name": "stdout",
     "output_type": "stream",
     "text": [
      "search: \u001b[0m\u001b[1mq\u001b[22m\u001b[0m\u001b[1mu\u001b[22m\u001b[0m\u001b[1mi\u001b[22m\u001b[0m\u001b[1mv\u001b[22m\u001b[0m\u001b[1me\u001b[22m\u001b[0m\u001b[1mr\u001b[22m \u001b[0m\u001b[1mq\u001b[22m\u001b[0m\u001b[1mu\u001b[22m\u001b[0m\u001b[1mi\u001b[22m\u001b[0m\u001b[1mv\u001b[22m\u001b[0m\u001b[1me\u001b[22m\u001b[0m\u001b[1mr\u001b[22mkey\n",
      "\n"
     ]
    },
    {
     "data": {
      "text/plain": [
       "\n",
       "Plot a 2-D field of arrows.\n",
       "\n",
       "Call signatures::\n",
       "\n",
       "  quiver(U, V, **kw)\n",
       "  quiver(U, V, C, **kw)\n",
       "  quiver(X, Y, U, V, **kw)\n",
       "  quiver(X, Y, U, V, C, **kw)\n",
       "\n",
       "*U* and *V* are the arrow data, *X* and *Y* set the location of the\n",
       "arrows, and *C* sets the color of the arrows. These arguments may be 1-D or\n",
       "2-D arrays or sequences.\n",
       "\n",
       "If *X* and *Y* are absent, they will be generated as a uniform grid.\n",
       "If *U* and *V* are 2-D arrays and *X* and *Y* are 1-D, and if ``len(X)`` and\n",
       "``len(Y)`` match the column and row dimensions of *U*, then *X* and *Y* will be\n",
       "expanded with :func:`numpy.meshgrid`.\n",
       "\n",
       "The default settings auto-scales the length of the arrows to a reasonable size.\n",
       "To change this behavior see the *scale* and *scale_units* kwargs.\n",
       "\n",
       "The defaults give a slightly swept-back arrow; to make the head a\n",
       "triangle, make *headaxislength* the same as *headlength*. To make the\n",
       "arrow more pointed, reduce *headwidth* or increase *headlength* and\n",
       "*headaxislength*. To make the head smaller relative to the shaft,\n",
       "scale down all the head parameters. You will probably do best to leave\n",
       "minshaft alone.\n",
       "\n",
       "*linewidths* and *edgecolors* can be used to customize the arrow\n",
       "outlines.\n",
       "\n",
       "Parameters\n",
       "----------\n",
       "X : 1D or 2D array, sequence, optional\n",
       "    The x coordinates of the arrow locations\n",
       "Y : 1D or 2D array, sequence, optional\n",
       "    The y coordinates of the arrow locations\n",
       "U : 1D or 2D array or masked array, sequence\n",
       "    The x components of the arrow vectors\n",
       "V : 1D or 2D array or masked array, sequence\n",
       "    The y components of the arrow vectors\n",
       "C : 1D or 2D array, sequence, optional\n",
       "    The arrow colors\n",
       "units : [ 'width' | 'height' | 'dots' | 'inches' | 'x' | 'y' | 'xy' ]\n",
       "    The arrow dimensions (except for *length*) are measured in multiples of\n",
       "    this unit.\n",
       "\n",
       "    'width' or 'height': the width or height of the axis\n",
       "\n",
       "    'dots' or 'inches': pixels or inches, based on the figure dpi\n",
       "\n",
       "    'x', 'y', or 'xy': respectively *X*, *Y*, or :math:`\\sqrt{X^2 + Y^2}`\n",
       "    in data units\n",
       "\n",
       "    The arrows scale differently depending on the units.  For\n",
       "    'x' or 'y', the arrows get larger as one zooms in; for other\n",
       "    units, the arrow size is independent of the zoom state.  For\n",
       "    'width or 'height', the arrow size increases with the width and\n",
       "    height of the axes, respectively, when the window is resized;\n",
       "    for 'dots' or 'inches', resizing does not change the arrows.\n",
       "angles : [ 'uv' | 'xy' ], array, optional\n",
       "    Method for determining the angle of the arrows. Default is 'uv'.\n",
       "\n",
       "    'uv': the arrow axis aspect ratio is 1 so that\n",
       "    if *U*==*V* the orientation of the arrow on the plot is 45 degrees\n",
       "    counter-clockwise from the horizontal axis (positive to the right).\n",
       "\n",
       "    'xy': arrows point from (x,y) to (x+u, y+v).\n",
       "    Use this for plotting a gradient field, for example.\n",
       "\n",
       "    Alternatively, arbitrary angles may be specified as an array\n",
       "    of values in degrees, counter-clockwise from the horizontal axis.\n",
       "\n",
       "    Note: inverting a data axis will correspondingly invert the\n",
       "    arrows only with ``angles='xy'``.\n",
       "scale : None, float, optional\n",
       "    Number of data units per arrow length unit, e.g., m/s per plot width; a\n",
       "    smaller scale parameter makes the arrow longer. Default is *None*.\n",
       "\n",
       "    If *None*, a simple autoscaling algorithm is used, based on the average\n",
       "    vector length and the number of vectors. The arrow length unit is given by\n",
       "    the *scale_units* parameter\n",
       "scale_units : [ 'width' | 'height' | 'dots' | 'inches' | 'x' | 'y' | 'xy' ], None, optional\n",
       "    If the *scale* kwarg is *None*, the arrow length unit. Default is *None*.\n",
       "\n",
       "    e.g. *scale_units* is 'inches', *scale* is 2.0, and\n",
       "    ``(u,v) = (1,0)``, then the vector will be 0.5 inches long.\n",
       "\n",
       "    If *scale_units* is 'width'/'height', then the vector will be half the\n",
       "    width/height of the axes.\n",
       "\n",
       "    If *scale_units* is 'x' then the vector will be 0.5 x-axis\n",
       "    units. To plot vectors in the x-y plane, with u and v having\n",
       "    the same units as x and y, use\n",
       "    ``angles='xy', scale_units='xy', scale=1``.\n",
       "width : scalar, optional\n",
       "    Shaft width in arrow units; default depends on choice of units,\n",
       "    above, and number of vectors; a typical starting value is about\n",
       "    0.005 times the width of the plot.\n",
       "headwidth : scalar, optional\n",
       "    Head width as multiple of shaft width, default is 3\n",
       "headlength : scalar, optional\n",
       "    Head length as multiple of shaft width, default is 5\n",
       "headaxislength : scalar, optional\n",
       "    Head length at shaft intersection, default is 4.5\n",
       "minshaft : scalar, optional\n",
       "    Length below which arrow scales, in units of head length. Do not\n",
       "    set this to less than 1, or small arrows will look terrible!\n",
       "    Default is 1\n",
       "minlength : scalar, optional\n",
       "    Minimum length as a multiple of shaft width; if an arrow length\n",
       "    is less than this, plot a dot (hexagon) of this diameter instead.\n",
       "    Default is 1.\n",
       "pivot : [ 'tail' | 'mid' | 'middle' | 'tip' ], optional\n",
       "    The part of the arrow that is at the grid point; the arrow rotates\n",
       "    about this point, hence the name *pivot*.\n",
       "color : [ color | color sequence ], optional\n",
       "    This is a synonym for the\n",
       "    :class:`~matplotlib.collections.PolyCollection` facecolor kwarg.\n",
       "    If *C* has been set, *color* has no effect.\n",
       "\n",
       "Notes\n",
       "-----\n",
       "Additional :class:`~matplotlib.collections.PolyCollection`\n",
       "keyword arguments:\n",
       "\n",
       "  agg_filter: a filter function, which takes a (m, n, 3) float array and a dpi value, and returns a (m, n, 3) array \n",
       "  alpha: float or None\n",
       "  animated: bool\n",
       "  antialiased: bool or sequence of bools\n",
       "  array: ndarray\n",
       "  capstyle: {'butt', 'round', 'projecting'}\n",
       "  clim: a length 2 sequence of floats; may be overridden in methods that have ``vmin`` and ``vmax`` kwargs. \n",
       "  clip_box: `.Bbox`\n",
       "  clip_on: bool\n",
       "  clip_path: [(`~matplotlib.path.Path`, `.Transform`) | `.Patch` | None] \n",
       "  cmap: colormap or registered colormap name\n",
       "  color: matplotlib color arg or sequence of rgba tuples\n",
       "  contains: callable\n",
       "  edgecolor: color or sequence of colors\n",
       "  facecolor: color or sequence of colors\n",
       "  figure: `.Figure`\n",
       "  gid: str\n",
       "  hatch: {'/', '\\\\', '|', '-', '+', 'x', 'o', 'O', '.', '*'}\n",
       "  in_layout: bool\n",
       "  joinstyle: {'miter', 'round', 'bevel'}\n",
       "  label: object\n",
       "  linestyle: {'-', '--', '-.', ':', '', (offset, on-off-seq), ...}\n",
       "  linewidth: float or sequence of floats\n",
       "  norm: `.Normalize`\n",
       "  offset_position: {'screen', 'data'}\n",
       "  offsets: float or sequence of floats\n",
       "  path_effects: `.AbstractPathEffect`\n",
       "  picker: None or bool or float or callable\n",
       "  pickradius: unknown\n",
       "  rasterized: bool or None\n",
       "  sketch_params: (scale: float, length: float, randomness: float) \n",
       "  snap: bool or None\n",
       "  transform: `.Transform`\n",
       "  url: str\n",
       "  urls: List[str] or None\n",
       "  visible: bool\n",
       "  zorder: float\n",
       "\n",
       "See Also\n",
       "--------\n",
       "quiverkey : Add a key to a quiver plot\n",
       "\n",
       "\n"
      ]
     },
     "execution_count": 11,
     "metadata": {},
     "output_type": "execute_result"
    }
   ],
   "source": [
    "?quiver  # queremos averiguar lo que hace quiver"
   ]
  },
  {
   "cell_type": "code",
   "execution_count": null,
   "metadata": {},
   "outputs": [],
   "source": []
  },
  {
   "cell_type": "code",
   "execution_count": null,
   "metadata": {},
   "outputs": [],
   "source": []
  }
 ],
 "metadata": {
  "@webio": {
   "lastCommId": null,
   "lastKernelId": null
  },
  "kernelspec": {
   "display_name": "Julia 1.8.0",
   "language": "julia",
   "name": "julia-1.8"
  },
  "language_info": {
   "file_extension": ".jl",
   "mimetype": "application/julia",
   "name": "julia",
   "version": "1.8.5"
  }
 },
 "nbformat": 4,
 "nbformat_minor": 2
}

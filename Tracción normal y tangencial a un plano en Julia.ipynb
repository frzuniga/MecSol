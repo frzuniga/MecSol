{
 "cells": [
  {
   "cell_type": "markdown",
   "metadata": {},
   "source": [
    "# Cálculo de las tracciones normal y tangencial a un plano conocidos su rumbo y echado\n",
    "\n",
    "\n",
    "#### Ramón Zúñiga, Instituto de Geociencias, UNAM\n",
    "\n",
    "\n",
    "Se asume que se conoce el tensor de esfuezo:\n",
    "\n",
    "\\begin{equation}\n",
    "\\boldsymbol{\\sigma}=\n",
    "\\begin{bmatrix} \\sigma_{11} & \\sigma_{21} & \\sigma_{31} \\\\\n",
    "                \\sigma_{12} & \\sigma_{22} & \\sigma_{32} \\\\\n",
    "                \\sigma_{13} & \\sigma_{23}  & \\sigma_{33}\n",
    "\\end{bmatrix}\n",
    "\\end{equation} \n",
    "\n",
    "\n"
   ]
  },
  {
   "cell_type": "code",
   "execution_count": 7,
   "metadata": {},
   "outputs": [
    {
     "data": {
      "text/plain": [
       "componentes_de_traccion (generic function with 1 method)"
      ]
     },
     "execution_count": 7,
     "metadata": {},
     "output_type": "execute_result"
    }
   ],
   "source": [
    "using LinearAlgebra\n",
    "\n",
    "function normal_del_plano(rumbo::Float64, echado::Float64)\n",
    "    \"\"\"\n",
    "    Calcula el vector normal a un plano dado su rumbo y echado.\n",
    "\n",
    "    Parámetros:\n",
    "    rumbo (Float64): Ángulo de rumbo en grados (medido en el sentido de las manecillas del reloj desde el norte).\n",
    "    echado (Float64): Ángulo de echado en grados (medido hacia abajo desde la horizontal).\n",
    "\n",
    "    Devuelve:\n",
    "    Vector{Float64}: Vector normal [nx, ny, nz].\n",
    "    \"\"\"\n",
    "\n",
    "    # Convertir grados a radianes\n",
    "    rumbo_rad = deg2rad(rumbo)\n",
    "    echado_rad = deg2rad(echado)\n",
    "\n",
    "    # Calcular los componentes del vector normal\n",
    "    nx = -sin(echado_rad) * sin(rumbo_rad)\n",
    "    ny = -sin(echado_rad) * cos(rumbo_rad)\n",
    "    nz = cos(echado_rad)\n",
    "\n",
    "    # Devolver el vector normal\n",
    "    return [nx, ny, nz]\n",
    "end\n",
    "\n",
    "\n",
    "\n",
    "function componentes_de_traccion(tensor_esfuerzos::Matrix{Float64}, normal::Vector{Float64})\n",
    "    \"\"\"\n",
    "    Calcula las tracciones normal y tangencial en un plano dado.\n",
    "\n",
    "    Parámetros:\n",
    "    tensor_esfuerzos (Matrix{Float64}): Tensor de esfuerzos 3x3.\n",
    "    normal (Vector{Float64}): Vector normal al plano.\n",
    "\n",
    "    Retorna:\n",
    "    Tuple: (vector de tracción normal, vector de tracción tangencial, magnitud de tracción normal, magnitud de tracción tangencial)\n",
    "    \"\"\"\n",
    "\n",
    "    # Calcular el vector de tracción: t = σ * n\n",
    "    traccion = tensor_esfuerzos * normal\n",
    "\n",
    "    # Calcular la tracción normal: tn = (t ⋅ n) * n\n",
    "    traccion_normal = (dot(traccion, normal)) * normal\n",
    "\n",
    "    # Calcular la tracción tangencial: tt = t - tn\n",
    "    traccion_tangencial = traccion - traccion_normal\n",
    "\n",
    "    # Calcular magnitudes\n",
    "    magnitud_normal = norm(traccion_normal)\n",
    "    magnitud_tangencial = norm(traccion_tangencial)\n",
    "\n",
    "    return traccion_normal, traccion_tangencial, magnitud_normal, magnitud_tangencial\n",
    "end\n"
   ]
  },
  {
   "cell_type": "code",
   "execution_count": 8,
   "metadata": {},
   "outputs": [
    {
     "name": "stdout",
     "output_type": "stream",
     "text": [
      "Ingrese el ángulo de rumbo (grados): stdin> 90\n",
      "Ingrese el ángulo de echado (grados): stdin> 90\n",
      "\n",
      "Ingrese los componentes del tensor de esfuerzos fila por fila:\n",
      "Fila 1 (valores separados por espacio): stdin> 100 0 0\n",
      "Fila 2 (valores separados por espacio): stdin> 0 30 0\n",
      "Fila 3 (valores separados por espacio): stdin> 0 0 20\n",
      "\n",
      "Vector normal al plano: [-1.0, -6.123233995736766e-17, 6.123233995736766e-17]\n",
      "Tracción normal sobre el plano: [-100.0, -6.123233995736766e-15, 6.123233995736766e-15]\n",
      "Tracción tangencial sobre el plano: [0.0, 4.2862637970157365e-15, -4.898587196589413e-15]\n",
      "Magnitud de la tracción normal: 100.0\n",
      "Magnitud de la tracción tangencial: 6.5090870220175646e-15\n"
     ]
    }
   ],
   "source": [
    "# Ejecución del programa\n",
    "try\n",
    "    print(\"Ingrese el ángulo de rumbo (grados): \")\n",
    "    rumbo = parse(Float64, readline())\n",
    "\n",
    "    print(\"Ingrese el ángulo de echado (grados): \")\n",
    "    echado = parse(Float64, readline())\n",
    "\n",
    "    # Obtener el vector normal\n",
    "    normal = normal_del_plano(rumbo, echado)\n",
    "\n",
    "    println(\"\\nIngrese los componentes del tensor de esfuerzos fila por fila:\")\n",
    "    tensor_esfuerzos = Matrix{Float64}(undef, 3, 3)\n",
    "    \n",
    "    for i in 1:3\n",
    "        print(\"Fila $i (valores separados por espacio): \")\n",
    "        tensor_esfuerzos[i, :] = parse.(Float64, split(readline()))\n",
    "    end\n",
    "\n",
    "    # Calcular tracciones normal y tangencial\n",
    "    traccion_normal, traccion_tangencial, magnitud_normal, magnitud_tangencial = componentes_de_traccion(tensor_esfuerzos, normal)\n",
    "\n",
    "    println(\"\\nVector normal al plano: \", normal)\n",
    "    println(\"Tracción normal sobre el plano: \", traccion_normal)\n",
    "    println(\"Tracción tangencial sobre el plano: \", traccion_tangencial)\n",
    "    println(\"Magnitud de la tracción normal: \", magnitud_normal)\n",
    "    println(\"Magnitud de la tracción tangencial: \", magnitud_tangencial)\n",
    "\n",
    "catch e\n",
    "    println(\"Entrada inválida. Asegúrese de ingresar valores numéricos correctamente.\")\n",
    "end"
   ]
  }
 ],
 "metadata": {
  "kernelspec": {
   "display_name": "Julia 1.10.0-rc2",
   "language": "julia",
   "name": "julia-1.10"
  },
  "language_info": {
   "file_extension": ".jl",
   "mimetype": "application/julia",
   "name": "julia",
   "version": "1.10.5"
  }
 },
 "nbformat": 4,
 "nbformat_minor": 2
}

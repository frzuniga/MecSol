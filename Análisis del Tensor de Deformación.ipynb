{
 "cells": [
  {
   "cell_type": "markdown",
   "metadata": {},
   "source": [
    "## Mecánica de Sólidos\n",
    "### Ramón Zúñiga   Instituto de Geociencias UNAM\n",
    "### **Análisis del Tensor de Deformación**\n",
    "En esta sesión, analizamos un **tensor de deformación 3D**. Calcularemos las **deformaciones principales**, sus **direcciones principales** y las visualizaremos en 3D.\n",
    "\n",
    "\\begin{equation}\n",
    "\\varepsilon =\n",
    "\\begin{bmatrix}\n",
    "\\varepsilon_{xx} & \\gamma_{xy} & \\gamma_{xz} \\\\\n",
    "\\gamma_{xy} & \\varepsilon_{yy} & \\gamma_{yz} \\\\\n",
    "\\gamma_{xz} & \\gamma_{yz} & \\varepsilon_{zz}\n",
    "\\end{bmatrix}\n",
    "\\end{equation}\n",
    "\n",
    "Para este ejemplo, usamos el siguiente **tensor de deformación**:\n",
    "\n",
    "\\begin{equation}\n",
    "\\varepsilon =\n",
    "\\begin{bmatrix}\n",
    "0.005 & 0.001 & 0.002 \\\\\n",
    "0.001 & 0.004 & 0.003 \\\\\n",
    "0.002 & 0.003 & 0.006\n",
    "\\end{bmatrix}\n",
    "\\end{equation}\n",
    "\n",
    "donde:\n",
    "\n",
    "$ (\\varepsilon_{xx}, \\varepsilon_{yy}, \\varepsilon_{zz}) $ son las **deformaciones normales** en las direcciones $ (x, y, z) $.\n",
    "$ (\\gamma_{xy}, \\gamma_{xz}, \\gamma_{yz}) $ son las **deformaciones cortantes** en los planos correspondientes.\n",
    "\n"
   ]
  },
  {
   "cell_type": "code",
   "execution_count": null,
   "metadata": {},
   "outputs": [],
   "source": [
    "# Cargar librerías necesarias\n",
    "using LinearAlgebra\n",
    "using Plots\n"
   ]
  },
  {
   "cell_type": "code",
   "execution_count": null,
   "metadata": {},
   "outputs": [],
   "source": [
    "# Definir el tensor de deformación (Matriz Simétrica 3x3)\n",
    "ϵ = [ 0.005  0.001  0.002;   # ϵ_xx  γ_xy  γ_xz\n",
    "      0.001  0.004  0.003;   # γ_xy  ϵ_yy  γ_yz\n",
    "      0.002  0.003  0.006 ]  # γ_xz  γ_yz  ϵ_zz"
   ]
  },
  {
   "cell_type": "markdown",
   "metadata": {},
   "source": [
    "\n",
    "## **Tensor de Deformación**\n",
    "El tensor de deformación en este ejemplo es:\n"
   ]
  },
  {
   "cell_type": "code",
   "execution_count": null,
   "metadata": {},
   "outputs": [],
   "source": [
    "display(ϵ)\n",
    "\n",
    "# Calcular valores y vectores propios (deformaciones principales y direcciones principales)\n",
    "valores_propios, vectores_propios = eigen(ϵ)"
   ]
  },
  {
   "cell_type": "markdown",
   "metadata": {},
   "source": [
    "\n",
    "## **Deformaciones Principales**\n",
    "Las deformaciones principales (valores propios del tensor de deformación) son:\n"
   ]
  },
  {
   "cell_type": "code",
   "execution_count": null,
   "metadata": {},
   "outputs": [],
   "source": [
    "display(valores_propios)\n"
   ]
  },
  {
   "cell_type": "markdown",
   "metadata": {},
   "source": [
    "## 📌 **Direcciones Principales de Deformación**\n",
    "Los vectores propios corresponden a las **direcciones principales de deformación**:"
   ]
  },
  {
   "cell_type": "code",
   "execution_count": null,
   "metadata": {},
   "outputs": [],
   "source": [
    "display(vectores_propios)"
   ]
  },
  {
   "cell_type": "code",
   "execution_count": null,
   "metadata": {},
   "outputs": [],
   "source": [
    "# Función para graficar los ejes principales de deformación\n",
    "function graficar_deformacion_principal(ϵ)\n",
    "  \n",
    "    # 📌 **Visualización del Tensor de Deformación**\n",
    "    # En la siguiente gráfica, se muestran los **ejes principales de deformación** en 3D.\n",
    "\n",
    "    \n",
    "    # Calcular valores y vectores propios (deformaciones principales y direcciones principales)\n",
    "    valores_propios, vectores_propios = eigen(ϵ)\n",
    "\n",
    "    # Crear el gráfico 3D con los vectores propios (ejes principales)\n",
    "    plot()\n",
    "    for i in 1:3\n",
    "        plot!([0, vectores_propios[1, i]], \n",
    "              [0, vectores_propios[2, i]], \n",
    "              [0, vectores_propios[3, i]], \n",
    "              label=\"Eje Principal $i\", linewidth=3, arrow=true, grid=true)\n",
    "    end\n",
    "\n",
    "    title!(\"Ejes Principales de Deformación\")\n",
    "    xlabel!(\"X\")\n",
    "    ylabel!(\"Y\")\n",
    "    zlabel!(\"Z\")\n",
    "end\n",
    "\n",
    "# Llamar a la función para graficar los ejes principales de deformación\n",
    "graficar_deformacion_principal(ϵ)\n"
   ]
  },
  {
   "cell_type": "markdown",
   "metadata": {},
   "source": [
    "# Deformación Volumétrica\n",
    "\n",
    "La **deformación volumétrica** ($\\varepsilon_v$) se define como la variación relativa del volumen de un cuerpo debido a una deformación. Matemáticamente, se expresa como:\n",
    "\n",
    "$$\n",
    "\\varepsilon_v = \\frac{\\Delta V}{V_0}\n",
    "$$\n",
    "\n",
    "donde:\n",
    "\n",
    "- $\\varepsilon_v$ es la deformación volumétrica,\n",
    "- $\\Delta V = V - V_0$ es el cambio de volumen,\n",
    "- $V_0$ es el volumen inicial,\n",
    "- $V$ es el volumen final después de la deformación.\n",
    "\n",
    "En un medio continuo, la deformación volumétrica también puede expresarse en términos de la **traza del tensor de deformaciones**:\n",
    "\n",
    "$$\n",
    "\\varepsilon_v = \\text{tr}(\\mathbf{E}) = E_{xx} + E_{yy} + E_{zz}\n",
    "$$\n",
    "\n",
    "donde $E_{xx}$, $E_{yy}$ y $E_{zz}$ son las componentes normales del tensor de deformación de Green-Lagrange.\n",
    "\n",
    "Para **pequeñas deformaciones**, la deformación volumétrica se aproxima a la traza del **tensor de deformaciones infinitesimales**:\n",
    "\n",
    "$$\n",
    "\\varepsilon_v = \\epsilon_{xx} + \\epsilon_{yy} + \\epsilon_{zz}\n",
    "$$\n",
    "\n",
    "donde $\\epsilon_{xx}$, $\\epsilon_{yy}$ y $\\epsilon_{zz}$ son las componentes normales del **tensor de deformaciones infinitesimales**.\n",
    "\n"
   ]
  },
  {
   "cell_type": "markdown",
   "metadata": {},
   "source": [
    "## **Cálculo de la Deformación Volumétrica**\n",
    "La **deformación volumétrica** se calcula como la suma de las deformaciones principales o como la suma de la traza del tensor de deformación original:\n",
    "\n",
    "\\begin{equation}\n",
    "\\varepsilon_v = \\varepsilon_{xx} + \\varepsilon_{yy} + \\varepsilon_{zz}\n",
    "\\end{equation}\n",
    "\n",
    "\\begin{equation}\n",
    "\\varepsilon_v = \\varepsilon_{1} + \\varepsilon_{2} + \\varepsilon_{3}\n",
    "\\end{equation}"
   ]
  },
  {
   "cell_type": "code",
   "execution_count": null,
   "metadata": {},
   "outputs": [],
   "source": [
    "# Calcular la deformación volumétrica (suma de las deformaciones principales)\n",
    "ϵsubv = sum(valores_propios)\n",
    "display(ϵsubv)"
   ]
  },
  {
   "cell_type": "code",
   "execution_count": null,
   "metadata": {},
   "outputs": [],
   "source": [
    "# Calcular la deformación volumétrica (traza del tensor de deformación)\n",
    "ϵsubv=sum(diag(ϵ))\n",
    "display(ϵsubv)"
   ]
  },
  {
   "cell_type": "code",
   "execution_count": null,
   "metadata": {},
   "outputs": [],
   "source": [
    "# Determinar si el material se expande o se contrae\n",
    "if ϵsubv  > 0\n",
    "    estado = \"El material **se expande** porque la deformación volumétrica ϵv es > 0.\"\n",
    "elseif ϵsubv  < 0\n",
    "    estado = \"El material **se contrae** porque la deformación volumétrica ϵv es < 0.\"\n",
    "else\n",
    "    estado = \"El material **no cambia su volumen** porque la deformación volumétrica ϵv es = 0.\"\n",
    "end   "
   ]
  },
  {
   "cell_type": "code",
   "execution_count": null,
   "metadata": {},
   "outputs": [],
   "source": []
  }
 ],
 "metadata": {
  "kernelspec": {
   "display_name": "Julia 1.10.0-rc2",
   "language": "julia",
   "name": "julia-1.10"
  },
  "language_info": {
   "file_extension": ".jl",
   "mimetype": "application/julia",
   "name": "julia",
   "version": "1.10.5"
  }
 },
 "nbformat": 4,
 "nbformat_minor": 2
}

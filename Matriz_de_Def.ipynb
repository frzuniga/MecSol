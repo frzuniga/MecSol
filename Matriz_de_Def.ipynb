{
 "cells": [
  {
   "cell_type": "markdown",
   "metadata": {},
   "source": [
    "### Matriz de Gradiente de Deformación, Matriz de Gradiente de Desplazamiento y Tensor de Deformación. \n",
    "#### Clase de Mecánica de Sólidos,   R. Zúñiga  2010-1. (Consultar la pag. https://courses.eas.ualberta.ca/eas421/lecturepages/straintensors.html como información complementaria).\n",
    "#### (Para correr teclear \"Shift-Enter\" en cada celda)\n",
    "#### Si se corre desde Julia Box se puede correr sin cambios, si se corre desde una instalación local de Julia se deben correr las siguientes entradas:\n",
    "#### Pkg.add(\"Plots\")\n",
    "#### Pkg.add(\"LinearAlgebra\")"
   ]
  },
  {
   "cell_type": "code",
   "execution_count": 2,
   "metadata": {},
   "outputs": [],
   "source": [
    "#using Pkg\n",
    "#Pkg.add(\"LinearAlgebra\")\n",
    "#Pkg.add(\"Plots\")\n",
    "using Plots\n",
    "using LinearAlgebra"
   ]
  },
  {
   "cell_type": "markdown",
   "metadata": {},
   "source": [
    "#### Definamos un punto o vector de posición, que llamamos x, por ejemplo:\n",
    " $ x = \\left[ {\\begin{array}{c}\n",
    "  1.0 \\\\\n",
    "   1.0 \\\\\n",
    "  \\end{array} } \\right] $"
   ]
  },
  {
   "cell_type": "code",
   "execution_count": 8,
   "metadata": {},
   "outputs": [
    {
     "data": {
      "text/plain": [
       "2-element Array{Float64,1}:\n",
       " 1.0\n",
       " 1.0"
      ]
     },
     "execution_count": 8,
     "metadata": {},
     "output_type": "execute_result"
    }
   ],
   "source": [
    "x = [1.0,1.0]"
   ]
  },
  {
   "cell_type": "markdown",
   "metadata": {},
   "source": [
    "### Vamos a trabajar ahora con una matriz de Gradiente de Deformación. \n",
    "#### La siguiente es una \"Cizalla simple¨ con valores de ejemplo\n",
    "$\n",
    "   F=\n",
    "  \\left[ {\\begin{array}{cc}\n",
    "   2.0 & 1.0 \\\\\n",
    "   0.0 & 2.0 \\\\\n",
    "  \\end{array} } \\right]\n",
    "$"
   ]
  },
  {
   "cell_type": "code",
   "execution_count": 7,
   "metadata": {},
   "outputs": [
    {
     "data": {
      "text/plain": [
       "2×2 Array{Float64,2}:\n",
       " 2.0  1.0\n",
       " 0.0  2.0"
      ]
     },
     "execution_count": 7,
     "metadata": {},
     "output_type": "execute_result"
    }
   ],
   "source": [
    "F = [ 2.0 1.0\n",
    "      0.0 2.0]"
   ]
  },
  {
   "cell_type": "markdown",
   "metadata": {},
   "source": [
    "#### Un caso de \"Cizalla pura\", sería como sigue:\n",
    "$\n",
    "   F=\n",
    "  \\left[ {\\begin{array}{cc}\n",
    "   2.0 & 0.0 \\\\\n",
    "   0.0 & 3.0 \\\\\n",
    "  \\end{array} } \\right]\n",
    "$"
   ]
  },
  {
   "cell_type": "code",
   "execution_count": 9,
   "metadata": {},
   "outputs": [
    {
     "data": {
      "text/plain": [
       "2×2 Array{Float64,2}:\n",
       " 2.0  0.0\n",
       " 0.0  3.0"
      ]
     },
     "execution_count": 9,
     "metadata": {},
     "output_type": "execute_result"
    }
   ],
   "source": [
    "FP = [ 2.0 0.0\n",
    "0.0 3.0]       # caso de cizalla pura"
   ]
  },
  {
   "cell_type": "markdown",
   "metadata": {},
   "source": [
    "### Usando la matriz de cizalla simple podemos calcular una matriz de \"Gradiente de Desplazamiento\" (la matriz que especificamos como J) como sigue:\n",
    "$\n",
    "   J= F - I=\n",
    "  \\left[ {\\begin{array}{cc}\n",
    "   2.0 & 1.0 \\\\\n",
    "   0.0 & 2.0 \\\\\n",
    "  \\end{array} } \\right]-\n",
    "  \\left[ {\\begin{array}{cc}\n",
    "   1.0 & 0.0 \\\\\n",
    "   0.0 & 1.0 \\\\\n",
    "  \\end{array} } \\right]=\n",
    "  \\left[ {\\begin{array}{cc}\n",
    "   1.0 & 1.0 \\\\\n",
    "   0.0 & 1.0 \\\\\n",
    "  \\end{array} } \\right]\n",
    "$"
   ]
  },
  {
   "cell_type": "code",
   "execution_count": 10,
   "metadata": {},
   "outputs": [
    {
     "data": {
      "text/plain": [
       "2×2 Array{Float64,2}:\n",
       " 1.0  1.0\n",
       " 0.0  1.0"
      ]
     },
     "execution_count": 10,
     "metadata": {},
     "output_type": "execute_result"
    }
   ],
   "source": [
    "J = (F-I)"
   ]
  },
  {
   "cell_type": "markdown",
   "metadata": {},
   "source": [
    "### y ahora podemos encontrar la posición del punto x desplazado a x´ durante una cizalla simple:\n",
    " $\n",
    " x'= [J] x = \n",
    "  \\left[ {\\begin{array}{cc}\n",
    "  1.0 & 1.0 \\\\\n",
    "   0.0 & 1.0 \\\\\n",
    "  \\end{array} } \\right]\n",
    "   \\left[ {\\begin{array}{c}\n",
    "  1.0 \\\\\n",
    "   1.0 \\\\\n",
    "  \\end{array} } \\right] =\n",
    "   \\left[ {\\begin{array}{c}\n",
    "  2.0 \\\\\n",
    "   1.0 \\\\\n",
    "  \\end{array} } \\right] \n",
    "  $"
   ]
  },
  {
   "cell_type": "code",
   "execution_count": 11,
   "metadata": {},
   "outputs": [
    {
     "data": {
      "text/plain": [
       "2-element Array{Float64,1}:\n",
       " 2.0\n",
       " 1.0"
      ]
     },
     "execution_count": 11,
     "metadata": {},
     "output_type": "execute_result"
    }
   ],
   "source": [
    "xp = J*x"
   ]
  },
  {
   "cell_type": "markdown",
   "metadata": {},
   "source": [
    "### Ahora veamos qué pasa con los puntos que forman un cuadrado con un vértice en el origen"
   ]
  },
  {
   "cell_type": "code",
   "execution_count": 12,
   "metadata": {},
   "outputs": [
    {
     "data": {
      "text/plain": [
       "5×2 Array{Float64,2}:\n",
       " 1.0  1.0\n",
       " 1.0  0.0\n",
       " 0.0  0.0\n",
       " 0.0  1.0\n",
       " 1.0  1.0"
      ]
     },
     "execution_count": 12,
     "metadata": {},
     "output_type": "execute_result"
    }
   ],
   "source": [
    "x1 = [1.0,1.0]; x2 = [1.0,0.0]; x3 = [0.0,0.0]; x4 = [0.0,1.0];\n",
    "X = [x1'; x2'; x3'; x4' ; x1' ]"
   ]
  },
  {
   "cell_type": "code",
   "execution_count": 13,
   "metadata": {},
   "outputs": [
    {
     "data": {
      "image/svg+xml": [
       "<?xml version=\"1.0\" encoding=\"utf-8\"?>\n",
       "<svg xmlns=\"http://www.w3.org/2000/svg\" xmlns:xlink=\"http://www.w3.org/1999/xlink\" width=\"600\" height=\"400\" viewBox=\"0 0 2400 1600\">\n",
       "<defs>\n",
       "  <clipPath id=\"clip0000\">\n",
       "    <rect x=\"0\" y=\"0\" width=\"2400\" height=\"1600\"/>\n",
       "  </clipPath>\n",
       "</defs>\n",
       "<polygon clip-path=\"url(#clip0000)\" points=\"\n",
       "0,1600 2400,1600 2400,0 0,0 \n",
       "  \" fill=\"#ffffff\" fill-rule=\"evenodd\" fill-opacity=\"1\"/>\n",
       "<defs>\n",
       "  <clipPath id=\"clip0001\">\n",
       "    <rect x=\"480\" y=\"0\" width=\"1681\" height=\"1600\"/>\n",
       "  </clipPath>\n",
       "</defs>\n",
       "<polygon clip-path=\"url(#clip0000)\" points=\"\n",
       "121.251,1503.47 2321.26,1503.47 2321.26,47.2441 121.251,47.2441 \n",
       "  \" fill=\"#ffffff\" fill-rule=\"evenodd\" fill-opacity=\"1\"/>\n",
       "<defs>\n",
       "  <clipPath id=\"clip0002\">\n",
       "    <rect x=\"121\" y=\"47\" width=\"2201\" height=\"1457\"/>\n",
       "  </clipPath>\n",
       "</defs>\n",
       "<polyline clip-path=\"url(#clip0002)\" style=\"stroke:#000000; stroke-width:2; stroke-opacity:0.1; fill:none\" points=\"\n",
       "  121.251,1503.47 121.251,47.2441 \n",
       "  \"/>\n",
       "<polyline clip-path=\"url(#clip0002)\" style=\"stroke:#000000; stroke-width:2; stroke-opacity:0.1; fill:none\" points=\"\n",
       "  854.587,1503.47 854.587,47.2441 \n",
       "  \"/>\n",
       "<polyline clip-path=\"url(#clip0002)\" style=\"stroke:#000000; stroke-width:2; stroke-opacity:0.1; fill:none\" points=\"\n",
       "  1587.92,1503.47 1587.92,47.2441 \n",
       "  \"/>\n",
       "<polyline clip-path=\"url(#clip0002)\" style=\"stroke:#000000; stroke-width:2; stroke-opacity:0.1; fill:none\" points=\"\n",
       "  2321.26,1503.47 2321.26,47.2441 \n",
       "  \"/>\n",
       "<polyline clip-path=\"url(#clip0002)\" style=\"stroke:#000000; stroke-width:2; stroke-opacity:0.1; fill:none\" points=\"\n",
       "  121.251,1503.47 2321.26,1503.47 \n",
       "  \"/>\n",
       "<polyline clip-path=\"url(#clip0002)\" style=\"stroke:#000000; stroke-width:2; stroke-opacity:0.1; fill:none\" points=\"\n",
       "  121.251,1018.06 2321.26,1018.06 \n",
       "  \"/>\n",
       "<polyline clip-path=\"url(#clip0002)\" style=\"stroke:#000000; stroke-width:2; stroke-opacity:0.1; fill:none\" points=\"\n",
       "  121.251,532.654 2321.26,532.654 \n",
       "  \"/>\n",
       "<polyline clip-path=\"url(#clip0002)\" style=\"stroke:#000000; stroke-width:2; stroke-opacity:0.1; fill:none\" points=\"\n",
       "  121.251,47.2441 2321.26,47.2441 \n",
       "  \"/>\n",
       "<polyline clip-path=\"url(#clip0000)\" style=\"stroke:#000000; stroke-width:4; stroke-opacity:1; fill:none\" points=\"\n",
       "  121.251,1503.47 2321.26,1503.47 \n",
       "  \"/>\n",
       "<polyline clip-path=\"url(#clip0000)\" style=\"stroke:#000000; stroke-width:4; stroke-opacity:1; fill:none\" points=\"\n",
       "  121.251,1503.47 121.251,47.2441 \n",
       "  \"/>\n",
       "<polyline clip-path=\"url(#clip0000)\" style=\"stroke:#000000; stroke-width:4; stroke-opacity:1; fill:none\" points=\"\n",
       "  121.251,1503.47 121.251,1481.63 \n",
       "  \"/>\n",
       "<polyline clip-path=\"url(#clip0000)\" style=\"stroke:#000000; stroke-width:4; stroke-opacity:1; fill:none\" points=\"\n",
       "  854.587,1503.47 854.587,1481.63 \n",
       "  \"/>\n",
       "<polyline clip-path=\"url(#clip0000)\" style=\"stroke:#000000; stroke-width:4; stroke-opacity:1; fill:none\" points=\"\n",
       "  1587.92,1503.47 1587.92,1481.63 \n",
       "  \"/>\n",
       "<polyline clip-path=\"url(#clip0000)\" style=\"stroke:#000000; stroke-width:4; stroke-opacity:1; fill:none\" points=\"\n",
       "  2321.26,1503.47 2321.26,1481.63 \n",
       "  \"/>\n",
       "<polyline clip-path=\"url(#clip0000)\" style=\"stroke:#000000; stroke-width:4; stroke-opacity:1; fill:none\" points=\"\n",
       "  121.251,1503.47 154.251,1503.47 \n",
       "  \"/>\n",
       "<polyline clip-path=\"url(#clip0000)\" style=\"stroke:#000000; stroke-width:4; stroke-opacity:1; fill:none\" points=\"\n",
       "  121.251,1018.06 154.251,1018.06 \n",
       "  \"/>\n",
       "<polyline clip-path=\"url(#clip0000)\" style=\"stroke:#000000; stroke-width:4; stroke-opacity:1; fill:none\" points=\"\n",
       "  121.251,532.654 154.251,532.654 \n",
       "  \"/>\n",
       "<polyline clip-path=\"url(#clip0000)\" style=\"stroke:#000000; stroke-width:4; stroke-opacity:1; fill:none\" points=\"\n",
       "  121.251,47.2441 154.251,47.2441 \n",
       "  \"/>\n",
       "<g clip-path=\"url(#clip0000)\">\n",
       "<text style=\"fill:#000000; fill-opacity:1; font-family:Arial,Helvetica Neue,Helvetica,sans-serif; font-size:48px; text-anchor:middle;\" transform=\"rotate(0, 121.251, 1557.47)\" x=\"121.251\" y=\"1557.47\">0</text>\n",
       "</g>\n",
       "<g clip-path=\"url(#clip0000)\">\n",
       "<text style=\"fill:#000000; fill-opacity:1; font-family:Arial,Helvetica Neue,Helvetica,sans-serif; font-size:48px; text-anchor:middle;\" transform=\"rotate(0, 854.587, 1557.47)\" x=\"854.587\" y=\"1557.47\">1</text>\n",
       "</g>\n",
       "<g clip-path=\"url(#clip0000)\">\n",
       "<text style=\"fill:#000000; fill-opacity:1; font-family:Arial,Helvetica Neue,Helvetica,sans-serif; font-size:48px; text-anchor:middle;\" transform=\"rotate(0, 1587.92, 1557.47)\" x=\"1587.92\" y=\"1557.47\">2</text>\n",
       "</g>\n",
       "<g clip-path=\"url(#clip0000)\">\n",
       "<text style=\"fill:#000000; fill-opacity:1; font-family:Arial,Helvetica Neue,Helvetica,sans-serif; font-size:48px; text-anchor:middle;\" transform=\"rotate(0, 2321.26, 1557.47)\" x=\"2321.26\" y=\"1557.47\">3</text>\n",
       "</g>\n",
       "<g clip-path=\"url(#clip0000)\">\n",
       "<text style=\"fill:#000000; fill-opacity:1; font-family:Arial,Helvetica Neue,Helvetica,sans-serif; font-size:48px; text-anchor:end;\" transform=\"rotate(0, 97.2505, 1520.97)\" x=\"97.2505\" y=\"1520.97\">0</text>\n",
       "</g>\n",
       "<g clip-path=\"url(#clip0000)\">\n",
       "<text style=\"fill:#000000; fill-opacity:1; font-family:Arial,Helvetica Neue,Helvetica,sans-serif; font-size:48px; text-anchor:end;\" transform=\"rotate(0, 97.2505, 1035.56)\" x=\"97.2505\" y=\"1035.56\">1</text>\n",
       "</g>\n",
       "<g clip-path=\"url(#clip0000)\">\n",
       "<text style=\"fill:#000000; fill-opacity:1; font-family:Arial,Helvetica Neue,Helvetica,sans-serif; font-size:48px; text-anchor:end;\" transform=\"rotate(0, 97.2505, 550.154)\" x=\"97.2505\" y=\"550.154\">2</text>\n",
       "</g>\n",
       "<g clip-path=\"url(#clip0000)\">\n",
       "<text style=\"fill:#000000; fill-opacity:1; font-family:Arial,Helvetica Neue,Helvetica,sans-serif; font-size:48px; text-anchor:end;\" transform=\"rotate(0, 97.2505, 64.7441)\" x=\"97.2505\" y=\"64.7441\">3</text>\n",
       "</g>\n",
       "<polyline clip-path=\"url(#clip0002)\" style=\"stroke:#008000; stroke-width:12; stroke-opacity:1; fill:none\" stroke-dasharray=\"48, 30\" points=\"\n",
       "  854.587,1018.06 854.587,1503.47 121.251,1503.47 121.251,1018.06 854.587,1018.06 \n",
       "  \"/>\n",
       "<circle clip-path=\"url(#clip0002)\" style=\"fill:#000000; stroke:none; fill-opacity:1\" cx=\"854.587\" cy=\"1018.06\" r=\"32\"/>\n",
       "<circle clip-path=\"url(#clip0002)\" style=\"fill:#008000; stroke:none; fill-opacity:1\" cx=\"854.587\" cy=\"1018.06\" r=\"28\"/>\n",
       "<circle clip-path=\"url(#clip0002)\" style=\"fill:#000000; stroke:none; fill-opacity:1\" cx=\"854.587\" cy=\"1503.47\" r=\"32\"/>\n",
       "<circle clip-path=\"url(#clip0002)\" style=\"fill:#008000; stroke:none; fill-opacity:1\" cx=\"854.587\" cy=\"1503.47\" r=\"28\"/>\n",
       "<circle clip-path=\"url(#clip0002)\" style=\"fill:#000000; stroke:none; fill-opacity:1\" cx=\"121.251\" cy=\"1503.47\" r=\"32\"/>\n",
       "<circle clip-path=\"url(#clip0002)\" style=\"fill:#008000; stroke:none; fill-opacity:1\" cx=\"121.251\" cy=\"1503.47\" r=\"28\"/>\n",
       "<circle clip-path=\"url(#clip0002)\" style=\"fill:#000000; stroke:none; fill-opacity:1\" cx=\"121.251\" cy=\"1018.06\" r=\"32\"/>\n",
       "<circle clip-path=\"url(#clip0002)\" style=\"fill:#008000; stroke:none; fill-opacity:1\" cx=\"121.251\" cy=\"1018.06\" r=\"28\"/>\n",
       "<circle clip-path=\"url(#clip0002)\" style=\"fill:#000000; stroke:none; fill-opacity:1\" cx=\"854.587\" cy=\"1018.06\" r=\"32\"/>\n",
       "<circle clip-path=\"url(#clip0002)\" style=\"fill:#008000; stroke:none; fill-opacity:1\" cx=\"854.587\" cy=\"1018.06\" r=\"28\"/>\n",
       "</svg>\n"
      ]
     },
     "execution_count": 13,
     "metadata": {},
     "output_type": "execute_result"
    }
   ],
   "source": [
    "p1 = plot(X[:,1],X[:,2], line=(3,:dash,:green),m=(8,:green), leg = false, xlims = (0,3), ylims = (0,3))"
   ]
  },
  {
   "cell_type": "markdown",
   "metadata": {},
   "source": [
    "### transformando con la matriz de Gradiente de Desplazamiento de cizalla simple\n",
    "$\n",
    " x1'= [J] x1 = \n",
    "  \\left[ {\\begin{array}{cc}\n",
    "  1.0 & 1.0 \\\\\n",
    "   0.0 & 1.0 \\\\\n",
    "  \\end{array} } \\right]\n",
    "   \\left[ {\\begin{array}{c}\n",
    "  1.0 \\\\\n",
    "   1.0 \\\\\n",
    "  \\end{array} } \\right] =\n",
    "   \\left[ {\\begin{array}{c}\n",
    "  2.0 \\\\\n",
    "   1.0 \\\\\n",
    "  \\end{array} } \\right] \n",
    "  $\n",
    "  ### y así sucesivamente con cada punto"
   ]
  },
  {
   "cell_type": "code",
   "execution_count": 14,
   "metadata": {},
   "outputs": [
    {
     "data": {
      "text/plain": [
       "5×2 Array{Float64,2}:\n",
       " 2.0  1.0\n",
       " 1.0  0.0\n",
       " 0.0  0.0\n",
       " 1.0  1.0\n",
       " 2.0  1.0"
      ]
     },
     "execution_count": 14,
     "metadata": {},
     "output_type": "execute_result"
    }
   ],
   "source": [
    "x1p = J*x1; x2p = J*x2; x3p = J*x3; x4p = J*x4;\n",
    "XP = [x1p'; x2p'; x3p'; x4p' ; x1p']"
   ]
  },
  {
   "cell_type": "markdown",
   "metadata": {},
   "source": [
    "### El resultado es el cudrado rojo con los puntos desplazados, el verde son los puntos originales "
   ]
  },
  {
   "cell_type": "code",
   "execution_count": 15,
   "metadata": {},
   "outputs": [
    {
     "data": {
      "image/svg+xml": [
       "<?xml version=\"1.0\" encoding=\"utf-8\"?>\n",
       "<svg xmlns=\"http://www.w3.org/2000/svg\" xmlns:xlink=\"http://www.w3.org/1999/xlink\" width=\"600\" height=\"400\" viewBox=\"0 0 2400 1600\">\n",
       "<defs>\n",
       "  <clipPath id=\"clip0400\">\n",
       "    <rect x=\"0\" y=\"0\" width=\"2400\" height=\"1600\"/>\n",
       "  </clipPath>\n",
       "</defs>\n",
       "<polygon clip-path=\"url(#clip0400)\" points=\"\n",
       "0,1600 2400,1600 2400,0 0,0 \n",
       "  \" fill=\"#ffffff\" fill-rule=\"evenodd\" fill-opacity=\"1\"/>\n",
       "<defs>\n",
       "  <clipPath id=\"clip0401\">\n",
       "    <rect x=\"480\" y=\"0\" width=\"1681\" height=\"1600\"/>\n",
       "  </clipPath>\n",
       "</defs>\n",
       "<polygon clip-path=\"url(#clip0400)\" points=\"\n",
       "121.251,1503.47 2321.26,1503.47 2321.26,47.2441 121.251,47.2441 \n",
       "  \" fill=\"#ffffff\" fill-rule=\"evenodd\" fill-opacity=\"1\"/>\n",
       "<defs>\n",
       "  <clipPath id=\"clip0402\">\n",
       "    <rect x=\"121\" y=\"47\" width=\"2201\" height=\"1457\"/>\n",
       "  </clipPath>\n",
       "</defs>\n",
       "<polyline clip-path=\"url(#clip0402)\" style=\"stroke:#000000; stroke-width:2; stroke-opacity:0.1; fill:none\" points=\"\n",
       "  121.251,1503.47 121.251,47.2441 \n",
       "  \"/>\n",
       "<polyline clip-path=\"url(#clip0402)\" style=\"stroke:#000000; stroke-width:2; stroke-opacity:0.1; fill:none\" points=\"\n",
       "  854.587,1503.47 854.587,47.2441 \n",
       "  \"/>\n",
       "<polyline clip-path=\"url(#clip0402)\" style=\"stroke:#000000; stroke-width:2; stroke-opacity:0.1; fill:none\" points=\"\n",
       "  1587.92,1503.47 1587.92,47.2441 \n",
       "  \"/>\n",
       "<polyline clip-path=\"url(#clip0402)\" style=\"stroke:#000000; stroke-width:2; stroke-opacity:0.1; fill:none\" points=\"\n",
       "  2321.26,1503.47 2321.26,47.2441 \n",
       "  \"/>\n",
       "<polyline clip-path=\"url(#clip0402)\" style=\"stroke:#000000; stroke-width:2; stroke-opacity:0.1; fill:none\" points=\"\n",
       "  121.251,1503.47 2321.26,1503.47 \n",
       "  \"/>\n",
       "<polyline clip-path=\"url(#clip0402)\" style=\"stroke:#000000; stroke-width:2; stroke-opacity:0.1; fill:none\" points=\"\n",
       "  121.251,1018.06 2321.26,1018.06 \n",
       "  \"/>\n",
       "<polyline clip-path=\"url(#clip0402)\" style=\"stroke:#000000; stroke-width:2; stroke-opacity:0.1; fill:none\" points=\"\n",
       "  121.251,532.654 2321.26,532.654 \n",
       "  \"/>\n",
       "<polyline clip-path=\"url(#clip0402)\" style=\"stroke:#000000; stroke-width:2; stroke-opacity:0.1; fill:none\" points=\"\n",
       "  121.251,47.2441 2321.26,47.2441 \n",
       "  \"/>\n",
       "<polyline clip-path=\"url(#clip0400)\" style=\"stroke:#000000; stroke-width:4; stroke-opacity:1; fill:none\" points=\"\n",
       "  121.251,1503.47 2321.26,1503.47 \n",
       "  \"/>\n",
       "<polyline clip-path=\"url(#clip0400)\" style=\"stroke:#000000; stroke-width:4; stroke-opacity:1; fill:none\" points=\"\n",
       "  121.251,1503.47 121.251,47.2441 \n",
       "  \"/>\n",
       "<polyline clip-path=\"url(#clip0400)\" style=\"stroke:#000000; stroke-width:4; stroke-opacity:1; fill:none\" points=\"\n",
       "  121.251,1503.47 121.251,1481.63 \n",
       "  \"/>\n",
       "<polyline clip-path=\"url(#clip0400)\" style=\"stroke:#000000; stroke-width:4; stroke-opacity:1; fill:none\" points=\"\n",
       "  854.587,1503.47 854.587,1481.63 \n",
       "  \"/>\n",
       "<polyline clip-path=\"url(#clip0400)\" style=\"stroke:#000000; stroke-width:4; stroke-opacity:1; fill:none\" points=\"\n",
       "  1587.92,1503.47 1587.92,1481.63 \n",
       "  \"/>\n",
       "<polyline clip-path=\"url(#clip0400)\" style=\"stroke:#000000; stroke-width:4; stroke-opacity:1; fill:none\" points=\"\n",
       "  2321.26,1503.47 2321.26,1481.63 \n",
       "  \"/>\n",
       "<polyline clip-path=\"url(#clip0400)\" style=\"stroke:#000000; stroke-width:4; stroke-opacity:1; fill:none\" points=\"\n",
       "  121.251,1503.47 154.251,1503.47 \n",
       "  \"/>\n",
       "<polyline clip-path=\"url(#clip0400)\" style=\"stroke:#000000; stroke-width:4; stroke-opacity:1; fill:none\" points=\"\n",
       "  121.251,1018.06 154.251,1018.06 \n",
       "  \"/>\n",
       "<polyline clip-path=\"url(#clip0400)\" style=\"stroke:#000000; stroke-width:4; stroke-opacity:1; fill:none\" points=\"\n",
       "  121.251,532.654 154.251,532.654 \n",
       "  \"/>\n",
       "<polyline clip-path=\"url(#clip0400)\" style=\"stroke:#000000; stroke-width:4; stroke-opacity:1; fill:none\" points=\"\n",
       "  121.251,47.2441 154.251,47.2441 \n",
       "  \"/>\n",
       "<g clip-path=\"url(#clip0400)\">\n",
       "<text style=\"fill:#000000; fill-opacity:1; font-family:Arial,Helvetica Neue,Helvetica,sans-serif; font-size:48px; text-anchor:middle;\" transform=\"rotate(0, 121.251, 1557.47)\" x=\"121.251\" y=\"1557.47\">0</text>\n",
       "</g>\n",
       "<g clip-path=\"url(#clip0400)\">\n",
       "<text style=\"fill:#000000; fill-opacity:1; font-family:Arial,Helvetica Neue,Helvetica,sans-serif; font-size:48px; text-anchor:middle;\" transform=\"rotate(0, 854.587, 1557.47)\" x=\"854.587\" y=\"1557.47\">1</text>\n",
       "</g>\n",
       "<g clip-path=\"url(#clip0400)\">\n",
       "<text style=\"fill:#000000; fill-opacity:1; font-family:Arial,Helvetica Neue,Helvetica,sans-serif; font-size:48px; text-anchor:middle;\" transform=\"rotate(0, 1587.92, 1557.47)\" x=\"1587.92\" y=\"1557.47\">2</text>\n",
       "</g>\n",
       "<g clip-path=\"url(#clip0400)\">\n",
       "<text style=\"fill:#000000; fill-opacity:1; font-family:Arial,Helvetica Neue,Helvetica,sans-serif; font-size:48px; text-anchor:middle;\" transform=\"rotate(0, 2321.26, 1557.47)\" x=\"2321.26\" y=\"1557.47\">3</text>\n",
       "</g>\n",
       "<g clip-path=\"url(#clip0400)\">\n",
       "<text style=\"fill:#000000; fill-opacity:1; font-family:Arial,Helvetica Neue,Helvetica,sans-serif; font-size:48px; text-anchor:end;\" transform=\"rotate(0, 97.2505, 1520.97)\" x=\"97.2505\" y=\"1520.97\">0</text>\n",
       "</g>\n",
       "<g clip-path=\"url(#clip0400)\">\n",
       "<text style=\"fill:#000000; fill-opacity:1; font-family:Arial,Helvetica Neue,Helvetica,sans-serif; font-size:48px; text-anchor:end;\" transform=\"rotate(0, 97.2505, 1035.56)\" x=\"97.2505\" y=\"1035.56\">1</text>\n",
       "</g>\n",
       "<g clip-path=\"url(#clip0400)\">\n",
       "<text style=\"fill:#000000; fill-opacity:1; font-family:Arial,Helvetica Neue,Helvetica,sans-serif; font-size:48px; text-anchor:end;\" transform=\"rotate(0, 97.2505, 550.154)\" x=\"97.2505\" y=\"550.154\">2</text>\n",
       "</g>\n",
       "<g clip-path=\"url(#clip0400)\">\n",
       "<text style=\"fill:#000000; fill-opacity:1; font-family:Arial,Helvetica Neue,Helvetica,sans-serif; font-size:48px; text-anchor:end;\" transform=\"rotate(0, 97.2505, 64.7441)\" x=\"97.2505\" y=\"64.7441\">3</text>\n",
       "</g>\n",
       "<polyline clip-path=\"url(#clip0402)\" style=\"stroke:#008000; stroke-width:12; stroke-opacity:1; fill:none\" stroke-dasharray=\"48, 30\" points=\"\n",
       "  854.587,1018.06 854.587,1503.47 121.251,1503.47 121.251,1018.06 854.587,1018.06 \n",
       "  \"/>\n",
       "<circle clip-path=\"url(#clip0402)\" style=\"fill:#000000; stroke:none; fill-opacity:1\" cx=\"854.587\" cy=\"1018.06\" r=\"32\"/>\n",
       "<circle clip-path=\"url(#clip0402)\" style=\"fill:#008000; stroke:none; fill-opacity:1\" cx=\"854.587\" cy=\"1018.06\" r=\"28\"/>\n",
       "<circle clip-path=\"url(#clip0402)\" style=\"fill:#000000; stroke:none; fill-opacity:1\" cx=\"854.587\" cy=\"1503.47\" r=\"32\"/>\n",
       "<circle clip-path=\"url(#clip0402)\" style=\"fill:#008000; stroke:none; fill-opacity:1\" cx=\"854.587\" cy=\"1503.47\" r=\"28\"/>\n",
       "<circle clip-path=\"url(#clip0402)\" style=\"fill:#000000; stroke:none; fill-opacity:1\" cx=\"121.251\" cy=\"1503.47\" r=\"32\"/>\n",
       "<circle clip-path=\"url(#clip0402)\" style=\"fill:#008000; stroke:none; fill-opacity:1\" cx=\"121.251\" cy=\"1503.47\" r=\"28\"/>\n",
       "<circle clip-path=\"url(#clip0402)\" style=\"fill:#000000; stroke:none; fill-opacity:1\" cx=\"121.251\" cy=\"1018.06\" r=\"32\"/>\n",
       "<circle clip-path=\"url(#clip0402)\" style=\"fill:#008000; stroke:none; fill-opacity:1\" cx=\"121.251\" cy=\"1018.06\" r=\"28\"/>\n",
       "<circle clip-path=\"url(#clip0402)\" style=\"fill:#000000; stroke:none; fill-opacity:1\" cx=\"854.587\" cy=\"1018.06\" r=\"32\"/>\n",
       "<circle clip-path=\"url(#clip0402)\" style=\"fill:#008000; stroke:none; fill-opacity:1\" cx=\"854.587\" cy=\"1018.06\" r=\"28\"/>\n",
       "<polyline clip-path=\"url(#clip0402)\" style=\"stroke:#ff0000; stroke-width:16; stroke-opacity:1; fill:none\" stroke-dasharray=\"64, 40\" points=\"\n",
       "  1587.92,1018.06 854.587,1503.47 121.251,1503.47 854.587,1018.06 1587.92,1018.06 \n",
       "  \"/>\n",
       "<circle clip-path=\"url(#clip0402)\" style=\"fill:#000000; stroke:none; fill-opacity:1\" cx=\"1587.92\" cy=\"1018.06\" r=\"32\"/>\n",
       "<circle clip-path=\"url(#clip0402)\" style=\"fill:#ff0000; stroke:none; fill-opacity:1\" cx=\"1587.92\" cy=\"1018.06\" r=\"28\"/>\n",
       "<circle clip-path=\"url(#clip0402)\" style=\"fill:#000000; stroke:none; fill-opacity:1\" cx=\"854.587\" cy=\"1503.47\" r=\"32\"/>\n",
       "<circle clip-path=\"url(#clip0402)\" style=\"fill:#ff0000; stroke:none; fill-opacity:1\" cx=\"854.587\" cy=\"1503.47\" r=\"28\"/>\n",
       "<circle clip-path=\"url(#clip0402)\" style=\"fill:#000000; stroke:none; fill-opacity:1\" cx=\"121.251\" cy=\"1503.47\" r=\"32\"/>\n",
       "<circle clip-path=\"url(#clip0402)\" style=\"fill:#ff0000; stroke:none; fill-opacity:1\" cx=\"121.251\" cy=\"1503.47\" r=\"28\"/>\n",
       "<circle clip-path=\"url(#clip0402)\" style=\"fill:#000000; stroke:none; fill-opacity:1\" cx=\"854.587\" cy=\"1018.06\" r=\"32\"/>\n",
       "<circle clip-path=\"url(#clip0402)\" style=\"fill:#ff0000; stroke:none; fill-opacity:1\" cx=\"854.587\" cy=\"1018.06\" r=\"28\"/>\n",
       "<circle clip-path=\"url(#clip0402)\" style=\"fill:#000000; stroke:none; fill-opacity:1\" cx=\"1587.92\" cy=\"1018.06\" r=\"32\"/>\n",
       "<circle clip-path=\"url(#clip0402)\" style=\"fill:#ff0000; stroke:none; fill-opacity:1\" cx=\"1587.92\" cy=\"1018.06\" r=\"28\"/>\n",
       "</svg>\n"
      ]
     },
     "execution_count": 15,
     "metadata": {},
     "output_type": "execute_result"
    }
   ],
   "source": [
    "p1 = plot(X[:,1],X[:,2], line=(3,:dash,:green),m=(8,:green), leg = false, xlims = (0,3), ylims = (0,3))\n",
    "plot!(XP[:,1],XP[:,2],line=(4,:dash,:red),m=(8,:red), xlims = (0,3), ylims = (0,3))"
   ]
  },
  {
   "cell_type": "markdown",
   "metadata": {},
   "source": [
    "### Ahora veamos qué pasa al transformar con la matriz de Gradiente de Deformación\n",
    "$\n",
    " x1'= [F] x1 = \n",
    "  \\left[ {\\begin{array}{cc}\n",
    "  2.0 & 1.0 \\\\\n",
    "   0.0 & 2.0 \\\\\n",
    "  \\end{array} } \\right]\n",
    "   \\left[ {\\begin{array}{c}\n",
    "  1.0 \\\\\n",
    "   1.0 \\\\\n",
    "  \\end{array} } \\right] =\n",
    "   \\left[ {\\begin{array}{c}\n",
    "  3.0 \\\\\n",
    "   2.0 \\\\\n",
    "  \\end{array} } \\right] \n",
    "  $\n",
    "  ### y así sucesivamente con cada punto"
   ]
  },
  {
   "cell_type": "code",
   "execution_count": 16,
   "metadata": {},
   "outputs": [
    {
     "data": {
      "text/plain": [
       "5×2 Array{Float64,2}:\n",
       " 3.0  2.0\n",
       " 2.0  0.0\n",
       " 0.0  0.0\n",
       " 1.0  2.0\n",
       " 3.0  2.0"
      ]
     },
     "execution_count": 16,
     "metadata": {},
     "output_type": "execute_result"
    }
   ],
   "source": [
    "x1pp = F*x1; x2pp = F*x2; x3pp = F*x3; x4pp = F*x4;\n",
    "XPP = [x1pp'; x2pp'; x3pp'; x4pp'; x1pp' ]"
   ]
  },
  {
   "cell_type": "code",
   "execution_count": 17,
   "metadata": {},
   "outputs": [
    {
     "data": {
      "image/svg+xml": [
       "<?xml version=\"1.0\" encoding=\"utf-8\"?>\n",
       "<svg xmlns=\"http://www.w3.org/2000/svg\" xmlns:xlink=\"http://www.w3.org/1999/xlink\" width=\"600\" height=\"400\" viewBox=\"0 0 2400 1600\">\n",
       "<defs>\n",
       "  <clipPath id=\"clip0800\">\n",
       "    <rect x=\"0\" y=\"0\" width=\"2400\" height=\"1600\"/>\n",
       "  </clipPath>\n",
       "</defs>\n",
       "<polygon clip-path=\"url(#clip0800)\" points=\"\n",
       "0,1600 2400,1600 2400,0 0,0 \n",
       "  \" fill=\"#ffffff\" fill-rule=\"evenodd\" fill-opacity=\"1\"/>\n",
       "<defs>\n",
       "  <clipPath id=\"clip0801\">\n",
       "    <rect x=\"480\" y=\"0\" width=\"1681\" height=\"1600\"/>\n",
       "  </clipPath>\n",
       "</defs>\n",
       "<polygon clip-path=\"url(#clip0800)\" points=\"\n",
       "121.251,1503.47 2321.26,1503.47 2321.26,47.2441 121.251,47.2441 \n",
       "  \" fill=\"#ffffff\" fill-rule=\"evenodd\" fill-opacity=\"1\"/>\n",
       "<defs>\n",
       "  <clipPath id=\"clip0802\">\n",
       "    <rect x=\"121\" y=\"47\" width=\"2201\" height=\"1457\"/>\n",
       "  </clipPath>\n",
       "</defs>\n",
       "<polyline clip-path=\"url(#clip0802)\" style=\"stroke:#000000; stroke-width:2; stroke-opacity:0.1; fill:none\" points=\"\n",
       "  183.515,1503.47 183.515,47.2441 \n",
       "  \"/>\n",
       "<polyline clip-path=\"url(#clip0802)\" style=\"stroke:#000000; stroke-width:2; stroke-opacity:0.1; fill:none\" points=\"\n",
       "  875.342,1503.47 875.342,47.2441 \n",
       "  \"/>\n",
       "<polyline clip-path=\"url(#clip0802)\" style=\"stroke:#000000; stroke-width:2; stroke-opacity:0.1; fill:none\" points=\"\n",
       "  1567.17,1503.47 1567.17,47.2441 \n",
       "  \"/>\n",
       "<polyline clip-path=\"url(#clip0802)\" style=\"stroke:#000000; stroke-width:2; stroke-opacity:0.1; fill:none\" points=\"\n",
       "  2259,1503.47 2259,47.2441 \n",
       "  \"/>\n",
       "<polyline clip-path=\"url(#clip0802)\" style=\"stroke:#000000; stroke-width:2; stroke-opacity:0.1; fill:none\" points=\"\n",
       "  121.251,1503.47 2321.26,1503.47 \n",
       "  \"/>\n",
       "<polyline clip-path=\"url(#clip0802)\" style=\"stroke:#000000; stroke-width:2; stroke-opacity:0.1; fill:none\" points=\"\n",
       "  121.251,1018.06 2321.26,1018.06 \n",
       "  \"/>\n",
       "<polyline clip-path=\"url(#clip0802)\" style=\"stroke:#000000; stroke-width:2; stroke-opacity:0.1; fill:none\" points=\"\n",
       "  121.251,532.654 2321.26,532.654 \n",
       "  \"/>\n",
       "<polyline clip-path=\"url(#clip0802)\" style=\"stroke:#000000; stroke-width:2; stroke-opacity:0.1; fill:none\" points=\"\n",
       "  121.251,47.2441 2321.26,47.2441 \n",
       "  \"/>\n",
       "<polyline clip-path=\"url(#clip0800)\" style=\"stroke:#000000; stroke-width:4; stroke-opacity:1; fill:none\" points=\"\n",
       "  121.251,1503.47 2321.26,1503.47 \n",
       "  \"/>\n",
       "<polyline clip-path=\"url(#clip0800)\" style=\"stroke:#000000; stroke-width:4; stroke-opacity:1; fill:none\" points=\"\n",
       "  121.251,1503.47 121.251,47.2441 \n",
       "  \"/>\n",
       "<polyline clip-path=\"url(#clip0800)\" style=\"stroke:#000000; stroke-width:4; stroke-opacity:1; fill:none\" points=\"\n",
       "  183.515,1503.47 183.515,1481.63 \n",
       "  \"/>\n",
       "<polyline clip-path=\"url(#clip0800)\" style=\"stroke:#000000; stroke-width:4; stroke-opacity:1; fill:none\" points=\"\n",
       "  875.342,1503.47 875.342,1481.63 \n",
       "  \"/>\n",
       "<polyline clip-path=\"url(#clip0800)\" style=\"stroke:#000000; stroke-width:4; stroke-opacity:1; fill:none\" points=\"\n",
       "  1567.17,1503.47 1567.17,1481.63 \n",
       "  \"/>\n",
       "<polyline clip-path=\"url(#clip0800)\" style=\"stroke:#000000; stroke-width:4; stroke-opacity:1; fill:none\" points=\"\n",
       "  2259,1503.47 2259,1481.63 \n",
       "  \"/>\n",
       "<polyline clip-path=\"url(#clip0800)\" style=\"stroke:#000000; stroke-width:4; stroke-opacity:1; fill:none\" points=\"\n",
       "  121.251,1503.47 154.251,1503.47 \n",
       "  \"/>\n",
       "<polyline clip-path=\"url(#clip0800)\" style=\"stroke:#000000; stroke-width:4; stroke-opacity:1; fill:none\" points=\"\n",
       "  121.251,1018.06 154.251,1018.06 \n",
       "  \"/>\n",
       "<polyline clip-path=\"url(#clip0800)\" style=\"stroke:#000000; stroke-width:4; stroke-opacity:1; fill:none\" points=\"\n",
       "  121.251,532.654 154.251,532.654 \n",
       "  \"/>\n",
       "<polyline clip-path=\"url(#clip0800)\" style=\"stroke:#000000; stroke-width:4; stroke-opacity:1; fill:none\" points=\"\n",
       "  121.251,47.2441 154.251,47.2441 \n",
       "  \"/>\n",
       "<g clip-path=\"url(#clip0800)\">\n",
       "<text style=\"fill:#000000; fill-opacity:1; font-family:Arial,Helvetica Neue,Helvetica,sans-serif; font-size:48px; text-anchor:middle;\" transform=\"rotate(0, 183.515, 1557.47)\" x=\"183.515\" y=\"1557.47\">0</text>\n",
       "</g>\n",
       "<g clip-path=\"url(#clip0800)\">\n",
       "<text style=\"fill:#000000; fill-opacity:1; font-family:Arial,Helvetica Neue,Helvetica,sans-serif; font-size:48px; text-anchor:middle;\" transform=\"rotate(0, 875.342, 1557.47)\" x=\"875.342\" y=\"1557.47\">1</text>\n",
       "</g>\n",
       "<g clip-path=\"url(#clip0800)\">\n",
       "<text style=\"fill:#000000; fill-opacity:1; font-family:Arial,Helvetica Neue,Helvetica,sans-serif; font-size:48px; text-anchor:middle;\" transform=\"rotate(0, 1567.17, 1557.47)\" x=\"1567.17\" y=\"1557.47\">2</text>\n",
       "</g>\n",
       "<g clip-path=\"url(#clip0800)\">\n",
       "<text style=\"fill:#000000; fill-opacity:1; font-family:Arial,Helvetica Neue,Helvetica,sans-serif; font-size:48px; text-anchor:middle;\" transform=\"rotate(0, 2259, 1557.47)\" x=\"2259\" y=\"1557.47\">3</text>\n",
       "</g>\n",
       "<g clip-path=\"url(#clip0800)\">\n",
       "<text style=\"fill:#000000; fill-opacity:1; font-family:Arial,Helvetica Neue,Helvetica,sans-serif; font-size:48px; text-anchor:end;\" transform=\"rotate(0, 97.2505, 1520.97)\" x=\"97.2505\" y=\"1520.97\">0</text>\n",
       "</g>\n",
       "<g clip-path=\"url(#clip0800)\">\n",
       "<text style=\"fill:#000000; fill-opacity:1; font-family:Arial,Helvetica Neue,Helvetica,sans-serif; font-size:48px; text-anchor:end;\" transform=\"rotate(0, 97.2505, 1035.56)\" x=\"97.2505\" y=\"1035.56\">1</text>\n",
       "</g>\n",
       "<g clip-path=\"url(#clip0800)\">\n",
       "<text style=\"fill:#000000; fill-opacity:1; font-family:Arial,Helvetica Neue,Helvetica,sans-serif; font-size:48px; text-anchor:end;\" transform=\"rotate(0, 97.2505, 550.154)\" x=\"97.2505\" y=\"550.154\">2</text>\n",
       "</g>\n",
       "<g clip-path=\"url(#clip0800)\">\n",
       "<text style=\"fill:#000000; fill-opacity:1; font-family:Arial,Helvetica Neue,Helvetica,sans-serif; font-size:48px; text-anchor:end;\" transform=\"rotate(0, 97.2505, 64.7441)\" x=\"97.2505\" y=\"64.7441\">3</text>\n",
       "</g>\n",
       "<polyline clip-path=\"url(#clip0802)\" style=\"stroke:#008000; stroke-width:12; stroke-opacity:1; fill:none\" stroke-dasharray=\"48, 30\" points=\"\n",
       "  875.342,1018.06 875.342,1503.47 183.515,1503.47 183.515,1018.06 875.342,1018.06 \n",
       "  \"/>\n",
       "<circle clip-path=\"url(#clip0802)\" style=\"fill:#000000; stroke:none; fill-opacity:1\" cx=\"875.342\" cy=\"1018.06\" r=\"32\"/>\n",
       "<circle clip-path=\"url(#clip0802)\" style=\"fill:#008000; stroke:none; fill-opacity:1\" cx=\"875.342\" cy=\"1018.06\" r=\"28\"/>\n",
       "<circle clip-path=\"url(#clip0802)\" style=\"fill:#000000; stroke:none; fill-opacity:1\" cx=\"875.342\" cy=\"1503.47\" r=\"32\"/>\n",
       "<circle clip-path=\"url(#clip0802)\" style=\"fill:#008000; stroke:none; fill-opacity:1\" cx=\"875.342\" cy=\"1503.47\" r=\"28\"/>\n",
       "<circle clip-path=\"url(#clip0802)\" style=\"fill:#000000; stroke:none; fill-opacity:1\" cx=\"183.515\" cy=\"1503.47\" r=\"32\"/>\n",
       "<circle clip-path=\"url(#clip0802)\" style=\"fill:#008000; stroke:none; fill-opacity:1\" cx=\"183.515\" cy=\"1503.47\" r=\"28\"/>\n",
       "<circle clip-path=\"url(#clip0802)\" style=\"fill:#000000; stroke:none; fill-opacity:1\" cx=\"183.515\" cy=\"1018.06\" r=\"32\"/>\n",
       "<circle clip-path=\"url(#clip0802)\" style=\"fill:#008000; stroke:none; fill-opacity:1\" cx=\"183.515\" cy=\"1018.06\" r=\"28\"/>\n",
       "<circle clip-path=\"url(#clip0802)\" style=\"fill:#000000; stroke:none; fill-opacity:1\" cx=\"875.342\" cy=\"1018.06\" r=\"32\"/>\n",
       "<circle clip-path=\"url(#clip0802)\" style=\"fill:#008000; stroke:none; fill-opacity:1\" cx=\"875.342\" cy=\"1018.06\" r=\"28\"/>\n",
       "<polyline clip-path=\"url(#clip0802)\" style=\"stroke:#ff0000; stroke-width:16; stroke-opacity:1; fill:none\" stroke-dasharray=\"64, 40\" points=\"\n",
       "  2259,532.654 1567.17,1503.47 183.515,1503.47 875.342,532.654 2259,532.654 \n",
       "  \"/>\n",
       "<circle clip-path=\"url(#clip0802)\" style=\"fill:#000000; stroke:none; fill-opacity:1\" cx=\"2259\" cy=\"532.654\" r=\"32\"/>\n",
       "<circle clip-path=\"url(#clip0802)\" style=\"fill:#ff0000; stroke:none; fill-opacity:1\" cx=\"2259\" cy=\"532.654\" r=\"28\"/>\n",
       "<circle clip-path=\"url(#clip0802)\" style=\"fill:#000000; stroke:none; fill-opacity:1\" cx=\"1567.17\" cy=\"1503.47\" r=\"32\"/>\n",
       "<circle clip-path=\"url(#clip0802)\" style=\"fill:#ff0000; stroke:none; fill-opacity:1\" cx=\"1567.17\" cy=\"1503.47\" r=\"28\"/>\n",
       "<circle clip-path=\"url(#clip0802)\" style=\"fill:#000000; stroke:none; fill-opacity:1\" cx=\"183.515\" cy=\"1503.47\" r=\"32\"/>\n",
       "<circle clip-path=\"url(#clip0802)\" style=\"fill:#ff0000; stroke:none; fill-opacity:1\" cx=\"183.515\" cy=\"1503.47\" r=\"28\"/>\n",
       "<circle clip-path=\"url(#clip0802)\" style=\"fill:#000000; stroke:none; fill-opacity:1\" cx=\"875.342\" cy=\"532.654\" r=\"32\"/>\n",
       "<circle clip-path=\"url(#clip0802)\" style=\"fill:#ff0000; stroke:none; fill-opacity:1\" cx=\"875.342\" cy=\"532.654\" r=\"28\"/>\n",
       "<circle clip-path=\"url(#clip0802)\" style=\"fill:#000000; stroke:none; fill-opacity:1\" cx=\"2259\" cy=\"532.654\" r=\"32\"/>\n",
       "<circle clip-path=\"url(#clip0802)\" style=\"fill:#ff0000; stroke:none; fill-opacity:1\" cx=\"2259\" cy=\"532.654\" r=\"28\"/>\n",
       "</svg>\n"
      ]
     },
     "execution_count": 17,
     "metadata": {},
     "output_type": "execute_result"
    }
   ],
   "source": [
    "p1 = plot(X[:,1],X[:,2], line=(3,:dash,:green),m=(8,:green))\n",
    "plot!(XPP[:,1],XPP[:,2],line=(4,:dash,:red),m=(8,:red), leg = false, ylims = ((0,3)))"
   ]
  },
  {
   "cell_type": "markdown",
   "metadata": {},
   "source": [
    "### Podemos ver que además de la cizalla, se produce un cambio de volumen (expansión)\n",
    "\n",
    "## Tensor de Deformación\n",
    "### Vamos a crear un tensor de Deformación, promediando los valores fuera de la diagonal de la matriz de Gradiente de Deformación, de manera que sea simétrica, es decir:\n",
    "$\n",
    "   D=\n",
    "  \\left[ {\\begin{array}{cc}\n",
    "   2.0 & (1.0+0.0)/2 \\\\\n",
    "   (1.0+0.0)/2 & 2.0 \\\\\n",
    "  \\end{array} } \\right] = \n",
    "  \\left[ {\\begin{array}{cc}\n",
    "   2.0 & 0.5 \\\\\n",
    "   0.5 & 2.0 \\\\\n",
    "  \\end{array} } \\right] \n",
    "$\n",
    "### Notar que esta matriz es simétrica, mientras que las anteriores no lo son"
   ]
  },
  {
   "cell_type": "code",
   "execution_count": 18,
   "metadata": {},
   "outputs": [
    {
     "data": {
      "text/plain": [
       "2×2 Array{Float64,2}:\n",
       " 2.0  0.5\n",
       " 0.5  2.0"
      ]
     },
     "execution_count": 18,
     "metadata": {},
     "output_type": "execute_result"
    }
   ],
   "source": [
    "D = [ 2.0 (F[1,2]+F[2,1])/2\n",
    "      (F[1,2]+F[2,1])/2 2.0]"
   ]
  },
  {
   "cell_type": "markdown",
   "metadata": {},
   "source": [
    "### Y ahora transformamos nuestro cuadrado usando el Tensor de Deformación, y vemos qué pasa\n",
    "$\n",
    " x1''= [D] x1 = \n",
    "  \\left[ {\\begin{array}{cc}\n",
    "  2.0 & 0.5 \\\\\n",
    "   0.5 & 2.0 \\\\\n",
    "  \\end{array} } \\right]\n",
    "   \\left[ {\\begin{array}{c}\n",
    "  1.0 \\\\\n",
    "   1.0 \\\\\n",
    "  \\end{array} } \\right] =\n",
    "   \\left[ {\\begin{array}{c}\n",
    "  2.5 \\\\\n",
    "   2.5 \\\\\n",
    "  \\end{array} } \\right] \n",
    "  $\n",
    "  ### y así sucesivamente con cada punto"
   ]
  },
  {
   "cell_type": "code",
   "execution_count": 19,
   "metadata": {},
   "outputs": [
    {
     "data": {
      "text/plain": [
       "5×2 Array{Float64,2}:\n",
       " 2.5  2.5\n",
       " 2.0  0.5\n",
       " 0.0  0.0\n",
       " 0.5  2.0\n",
       " 2.5  2.5"
      ]
     },
     "execution_count": 19,
     "metadata": {},
     "output_type": "execute_result"
    }
   ],
   "source": [
    "x1pp = D*x1; x2pp = D*x2; x3pp = D*x3; x4pp = D*x4;\n",
    "XPP = [x1pp'; x2pp'; x3pp'; x4pp'; x1pp' ]"
   ]
  },
  {
   "cell_type": "code",
   "execution_count": 20,
   "metadata": {},
   "outputs": [
    {
     "data": {
      "image/svg+xml": [
       "<?xml version=\"1.0\" encoding=\"utf-8\"?>\n",
       "<svg xmlns=\"http://www.w3.org/2000/svg\" xmlns:xlink=\"http://www.w3.org/1999/xlink\" width=\"600\" height=\"400\" viewBox=\"0 0 2400 1600\">\n",
       "<defs>\n",
       "  <clipPath id=\"clip1200\">\n",
       "    <rect x=\"0\" y=\"0\" width=\"2400\" height=\"1600\"/>\n",
       "  </clipPath>\n",
       "</defs>\n",
       "<polygon clip-path=\"url(#clip1200)\" points=\"\n",
       "0,1600 2400,1600 2400,0 0,0 \n",
       "  \" fill=\"#ffffff\" fill-rule=\"evenodd\" fill-opacity=\"1\"/>\n",
       "<defs>\n",
       "  <clipPath id=\"clip1201\">\n",
       "    <rect x=\"480\" y=\"0\" width=\"1681\" height=\"1600\"/>\n",
       "  </clipPath>\n",
       "</defs>\n",
       "<polygon clip-path=\"url(#clip1200)\" points=\"\n",
       "161.394,1503.47 2321.26,1503.47 2321.26,47.2441 161.394,47.2441 \n",
       "  \" fill=\"#ffffff\" fill-rule=\"evenodd\" fill-opacity=\"1\"/>\n",
       "<defs>\n",
       "  <clipPath id=\"clip1202\">\n",
       "    <rect x=\"161\" y=\"47\" width=\"2161\" height=\"1457\"/>\n",
       "  </clipPath>\n",
       "</defs>\n",
       "<polyline clip-path=\"url(#clip1202)\" style=\"stroke:#000000; stroke-width:2; stroke-opacity:0.1; fill:none\" points=\"\n",
       "  222.522,1503.47 222.522,47.2441 \n",
       "  \"/>\n",
       "<polyline clip-path=\"url(#clip1202)\" style=\"stroke:#000000; stroke-width:2; stroke-opacity:0.1; fill:none\" points=\"\n",
       "  630.044,1503.47 630.044,47.2441 \n",
       "  \"/>\n",
       "<polyline clip-path=\"url(#clip1202)\" style=\"stroke:#000000; stroke-width:2; stroke-opacity:0.1; fill:none\" points=\"\n",
       "  1037.57,1503.47 1037.57,47.2441 \n",
       "  \"/>\n",
       "<polyline clip-path=\"url(#clip1202)\" style=\"stroke:#000000; stroke-width:2; stroke-opacity:0.1; fill:none\" points=\"\n",
       "  1445.09,1503.47 1445.09,47.2441 \n",
       "  \"/>\n",
       "<polyline clip-path=\"url(#clip1202)\" style=\"stroke:#000000; stroke-width:2; stroke-opacity:0.1; fill:none\" points=\"\n",
       "  1852.61,1503.47 1852.61,47.2441 \n",
       "  \"/>\n",
       "<polyline clip-path=\"url(#clip1202)\" style=\"stroke:#000000; stroke-width:2; stroke-opacity:0.1; fill:none\" points=\"\n",
       "  2260.13,1503.47 2260.13,47.2441 \n",
       "  \"/>\n",
       "<polyline clip-path=\"url(#clip1202)\" style=\"stroke:#000000; stroke-width:2; stroke-opacity:0.1; fill:none\" points=\"\n",
       "  161.394,1462.26 2321.26,1462.26 \n",
       "  \"/>\n",
       "<polyline clip-path=\"url(#clip1202)\" style=\"stroke:#000000; stroke-width:2; stroke-opacity:0.1; fill:none\" points=\"\n",
       "  161.394,1187.5 2321.26,1187.5 \n",
       "  \"/>\n",
       "<polyline clip-path=\"url(#clip1202)\" style=\"stroke:#000000; stroke-width:2; stroke-opacity:0.1; fill:none\" points=\"\n",
       "  161.394,912.74 2321.26,912.74 \n",
       "  \"/>\n",
       "<polyline clip-path=\"url(#clip1202)\" style=\"stroke:#000000; stroke-width:2; stroke-opacity:0.1; fill:none\" points=\"\n",
       "  161.394,637.979 2321.26,637.979 \n",
       "  \"/>\n",
       "<polyline clip-path=\"url(#clip1202)\" style=\"stroke:#000000; stroke-width:2; stroke-opacity:0.1; fill:none\" points=\"\n",
       "  161.394,363.219 2321.26,363.219 \n",
       "  \"/>\n",
       "<polyline clip-path=\"url(#clip1202)\" style=\"stroke:#000000; stroke-width:2; stroke-opacity:0.1; fill:none\" points=\"\n",
       "  161.394,88.4582 2321.26,88.4582 \n",
       "  \"/>\n",
       "<polyline clip-path=\"url(#clip1200)\" style=\"stroke:#000000; stroke-width:4; stroke-opacity:1; fill:none\" points=\"\n",
       "  161.394,1503.47 2321.26,1503.47 \n",
       "  \"/>\n",
       "<polyline clip-path=\"url(#clip1200)\" style=\"stroke:#000000; stroke-width:4; stroke-opacity:1; fill:none\" points=\"\n",
       "  161.394,1503.47 161.394,47.2441 \n",
       "  \"/>\n",
       "<polyline clip-path=\"url(#clip1200)\" style=\"stroke:#000000; stroke-width:4; stroke-opacity:1; fill:none\" points=\"\n",
       "  222.522,1503.47 222.522,1481.63 \n",
       "  \"/>\n",
       "<polyline clip-path=\"url(#clip1200)\" style=\"stroke:#000000; stroke-width:4; stroke-opacity:1; fill:none\" points=\"\n",
       "  630.044,1503.47 630.044,1481.63 \n",
       "  \"/>\n",
       "<polyline clip-path=\"url(#clip1200)\" style=\"stroke:#000000; stroke-width:4; stroke-opacity:1; fill:none\" points=\"\n",
       "  1037.57,1503.47 1037.57,1481.63 \n",
       "  \"/>\n",
       "<polyline clip-path=\"url(#clip1200)\" style=\"stroke:#000000; stroke-width:4; stroke-opacity:1; fill:none\" points=\"\n",
       "  1445.09,1503.47 1445.09,1481.63 \n",
       "  \"/>\n",
       "<polyline clip-path=\"url(#clip1200)\" style=\"stroke:#000000; stroke-width:4; stroke-opacity:1; fill:none\" points=\"\n",
       "  1852.61,1503.47 1852.61,1481.63 \n",
       "  \"/>\n",
       "<polyline clip-path=\"url(#clip1200)\" style=\"stroke:#000000; stroke-width:4; stroke-opacity:1; fill:none\" points=\"\n",
       "  2260.13,1503.47 2260.13,1481.63 \n",
       "  \"/>\n",
       "<polyline clip-path=\"url(#clip1200)\" style=\"stroke:#000000; stroke-width:4; stroke-opacity:1; fill:none\" points=\"\n",
       "  161.394,1462.26 193.792,1462.26 \n",
       "  \"/>\n",
       "<polyline clip-path=\"url(#clip1200)\" style=\"stroke:#000000; stroke-width:4; stroke-opacity:1; fill:none\" points=\"\n",
       "  161.394,1187.5 193.792,1187.5 \n",
       "  \"/>\n",
       "<polyline clip-path=\"url(#clip1200)\" style=\"stroke:#000000; stroke-width:4; stroke-opacity:1; fill:none\" points=\"\n",
       "  161.394,912.74 193.792,912.74 \n",
       "  \"/>\n",
       "<polyline clip-path=\"url(#clip1200)\" style=\"stroke:#000000; stroke-width:4; stroke-opacity:1; fill:none\" points=\"\n",
       "  161.394,637.979 193.792,637.979 \n",
       "  \"/>\n",
       "<polyline clip-path=\"url(#clip1200)\" style=\"stroke:#000000; stroke-width:4; stroke-opacity:1; fill:none\" points=\"\n",
       "  161.394,363.219 193.792,363.219 \n",
       "  \"/>\n",
       "<polyline clip-path=\"url(#clip1200)\" style=\"stroke:#000000; stroke-width:4; stroke-opacity:1; fill:none\" points=\"\n",
       "  161.394,88.4582 193.792,88.4582 \n",
       "  \"/>\n",
       "<g clip-path=\"url(#clip1200)\">\n",
       "<text style=\"fill:#000000; fill-opacity:1; font-family:Arial,Helvetica Neue,Helvetica,sans-serif; font-size:48px; text-anchor:middle;\" transform=\"rotate(0, 222.522, 1557.47)\" x=\"222.522\" y=\"1557.47\">0.0</text>\n",
       "</g>\n",
       "<g clip-path=\"url(#clip1200)\">\n",
       "<text style=\"fill:#000000; fill-opacity:1; font-family:Arial,Helvetica Neue,Helvetica,sans-serif; font-size:48px; text-anchor:middle;\" transform=\"rotate(0, 630.044, 1557.47)\" x=\"630.044\" y=\"1557.47\">0.5</text>\n",
       "</g>\n",
       "<g clip-path=\"url(#clip1200)\">\n",
       "<text style=\"fill:#000000; fill-opacity:1; font-family:Arial,Helvetica Neue,Helvetica,sans-serif; font-size:48px; text-anchor:middle;\" transform=\"rotate(0, 1037.57, 1557.47)\" x=\"1037.57\" y=\"1557.47\">1.0</text>\n",
       "</g>\n",
       "<g clip-path=\"url(#clip1200)\">\n",
       "<text style=\"fill:#000000; fill-opacity:1; font-family:Arial,Helvetica Neue,Helvetica,sans-serif; font-size:48px; text-anchor:middle;\" transform=\"rotate(0, 1445.09, 1557.47)\" x=\"1445.09\" y=\"1557.47\">1.5</text>\n",
       "</g>\n",
       "<g clip-path=\"url(#clip1200)\">\n",
       "<text style=\"fill:#000000; fill-opacity:1; font-family:Arial,Helvetica Neue,Helvetica,sans-serif; font-size:48px; text-anchor:middle;\" transform=\"rotate(0, 1852.61, 1557.47)\" x=\"1852.61\" y=\"1557.47\">2.0</text>\n",
       "</g>\n",
       "<g clip-path=\"url(#clip1200)\">\n",
       "<text style=\"fill:#000000; fill-opacity:1; font-family:Arial,Helvetica Neue,Helvetica,sans-serif; font-size:48px; text-anchor:middle;\" transform=\"rotate(0, 2260.13, 1557.47)\" x=\"2260.13\" y=\"1557.47\">2.5</text>\n",
       "</g>\n",
       "<g clip-path=\"url(#clip1200)\">\n",
       "<text style=\"fill:#000000; fill-opacity:1; font-family:Arial,Helvetica Neue,Helvetica,sans-serif; font-size:48px; text-anchor:end;\" transform=\"rotate(0, 137.394, 1479.76)\" x=\"137.394\" y=\"1479.76\">0.0</text>\n",
       "</g>\n",
       "<g clip-path=\"url(#clip1200)\">\n",
       "<text style=\"fill:#000000; fill-opacity:1; font-family:Arial,Helvetica Neue,Helvetica,sans-serif; font-size:48px; text-anchor:end;\" transform=\"rotate(0, 137.394, 1205)\" x=\"137.394\" y=\"1205\">0.5</text>\n",
       "</g>\n",
       "<g clip-path=\"url(#clip1200)\">\n",
       "<text style=\"fill:#000000; fill-opacity:1; font-family:Arial,Helvetica Neue,Helvetica,sans-serif; font-size:48px; text-anchor:end;\" transform=\"rotate(0, 137.394, 930.24)\" x=\"137.394\" y=\"930.24\">1.0</text>\n",
       "</g>\n",
       "<g clip-path=\"url(#clip1200)\">\n",
       "<text style=\"fill:#000000; fill-opacity:1; font-family:Arial,Helvetica Neue,Helvetica,sans-serif; font-size:48px; text-anchor:end;\" transform=\"rotate(0, 137.394, 655.479)\" x=\"137.394\" y=\"655.479\">1.5</text>\n",
       "</g>\n",
       "<g clip-path=\"url(#clip1200)\">\n",
       "<text style=\"fill:#000000; fill-opacity:1; font-family:Arial,Helvetica Neue,Helvetica,sans-serif; font-size:48px; text-anchor:end;\" transform=\"rotate(0, 137.394, 380.719)\" x=\"137.394\" y=\"380.719\">2.0</text>\n",
       "</g>\n",
       "<g clip-path=\"url(#clip1200)\">\n",
       "<text style=\"fill:#000000; fill-opacity:1; font-family:Arial,Helvetica Neue,Helvetica,sans-serif; font-size:48px; text-anchor:end;\" transform=\"rotate(0, 137.394, 105.958)\" x=\"137.394\" y=\"105.958\">2.5</text>\n",
       "</g>\n",
       "<polyline clip-path=\"url(#clip1202)\" style=\"stroke:#008000; stroke-width:12; stroke-opacity:1; fill:none\" stroke-dasharray=\"48, 30\" points=\"\n",
       "  1037.57,912.74 1037.57,1462.26 222.522,1462.26 222.522,912.74 1037.57,912.74 \n",
       "  \"/>\n",
       "<circle clip-path=\"url(#clip1202)\" style=\"fill:#000000; stroke:none; fill-opacity:1\" cx=\"1037.57\" cy=\"912.74\" r=\"32\"/>\n",
       "<circle clip-path=\"url(#clip1202)\" style=\"fill:#008000; stroke:none; fill-opacity:1\" cx=\"1037.57\" cy=\"912.74\" r=\"28\"/>\n",
       "<circle clip-path=\"url(#clip1202)\" style=\"fill:#000000; stroke:none; fill-opacity:1\" cx=\"1037.57\" cy=\"1462.26\" r=\"32\"/>\n",
       "<circle clip-path=\"url(#clip1202)\" style=\"fill:#008000; stroke:none; fill-opacity:1\" cx=\"1037.57\" cy=\"1462.26\" r=\"28\"/>\n",
       "<circle clip-path=\"url(#clip1202)\" style=\"fill:#000000; stroke:none; fill-opacity:1\" cx=\"222.522\" cy=\"1462.26\" r=\"32\"/>\n",
       "<circle clip-path=\"url(#clip1202)\" style=\"fill:#008000; stroke:none; fill-opacity:1\" cx=\"222.522\" cy=\"1462.26\" r=\"28\"/>\n",
       "<circle clip-path=\"url(#clip1202)\" style=\"fill:#000000; stroke:none; fill-opacity:1\" cx=\"222.522\" cy=\"912.74\" r=\"32\"/>\n",
       "<circle clip-path=\"url(#clip1202)\" style=\"fill:#008000; stroke:none; fill-opacity:1\" cx=\"222.522\" cy=\"912.74\" r=\"28\"/>\n",
       "<circle clip-path=\"url(#clip1202)\" style=\"fill:#000000; stroke:none; fill-opacity:1\" cx=\"1037.57\" cy=\"912.74\" r=\"32\"/>\n",
       "<circle clip-path=\"url(#clip1202)\" style=\"fill:#008000; stroke:none; fill-opacity:1\" cx=\"1037.57\" cy=\"912.74\" r=\"28\"/>\n",
       "<polyline clip-path=\"url(#clip1202)\" style=\"stroke:#ff0000; stroke-width:16; stroke-opacity:1; fill:none\" stroke-dasharray=\"64, 40\" points=\"\n",
       "  2260.13,88.4582 1852.61,1187.5 222.522,1462.26 630.044,363.219 2260.13,88.4582 \n",
       "  \"/>\n",
       "<circle clip-path=\"url(#clip1202)\" style=\"fill:#000000; stroke:none; fill-opacity:1\" cx=\"2260.13\" cy=\"88.4582\" r=\"32\"/>\n",
       "<circle clip-path=\"url(#clip1202)\" style=\"fill:#ff0000; stroke:none; fill-opacity:1\" cx=\"2260.13\" cy=\"88.4582\" r=\"28\"/>\n",
       "<circle clip-path=\"url(#clip1202)\" style=\"fill:#000000; stroke:none; fill-opacity:1\" cx=\"1852.61\" cy=\"1187.5\" r=\"32\"/>\n",
       "<circle clip-path=\"url(#clip1202)\" style=\"fill:#ff0000; stroke:none; fill-opacity:1\" cx=\"1852.61\" cy=\"1187.5\" r=\"28\"/>\n",
       "<circle clip-path=\"url(#clip1202)\" style=\"fill:#000000; stroke:none; fill-opacity:1\" cx=\"222.522\" cy=\"1462.26\" r=\"32\"/>\n",
       "<circle clip-path=\"url(#clip1202)\" style=\"fill:#ff0000; stroke:none; fill-opacity:1\" cx=\"222.522\" cy=\"1462.26\" r=\"28\"/>\n",
       "<circle clip-path=\"url(#clip1202)\" style=\"fill:#000000; stroke:none; fill-opacity:1\" cx=\"630.044\" cy=\"363.219\" r=\"32\"/>\n",
       "<circle clip-path=\"url(#clip1202)\" style=\"fill:#ff0000; stroke:none; fill-opacity:1\" cx=\"630.044\" cy=\"363.219\" r=\"28\"/>\n",
       "<circle clip-path=\"url(#clip1202)\" style=\"fill:#000000; stroke:none; fill-opacity:1\" cx=\"2260.13\" cy=\"88.4582\" r=\"32\"/>\n",
       "<circle clip-path=\"url(#clip1202)\" style=\"fill:#ff0000; stroke:none; fill-opacity:1\" cx=\"2260.13\" cy=\"88.4582\" r=\"28\"/>\n",
       "</svg>\n"
      ]
     },
     "execution_count": 20,
     "metadata": {},
     "output_type": "execute_result"
    }
   ],
   "source": [
    "p1 = plot(X[:,1],X[:,2], line=(3,:dash,:green),m=(8,:green))\n",
    "plot!(XPP[:,1],XPP[:,2],line=(4,:dash,:red),m=(8,:red), leg = false)"
   ]
  },
  {
   "cell_type": "markdown",
   "metadata": {},
   "source": [
    "### Puede verse que se obtendría el mismo caso de cizalla simple, pero añadiendo una pequeña rotación"
   ]
  },
  {
   "cell_type": "code",
   "execution_count": null,
   "metadata": {},
   "outputs": [],
   "source": []
  }
 ],
 "metadata": {
  "kernelspec": {
   "display_name": "Julia 1.1.0",
   "language": "julia",
   "name": "julia-1.1"
  },
  "language_info": {
   "file_extension": ".jl",
   "mimetype": "application/julia",
   "name": "julia",
   "version": "1.1.0"
  }
 },
 "nbformat": 4,
 "nbformat_minor": 2
}

{
 "cells": [
  {
   "cell_type": "markdown",
   "metadata": {},
   "source": [
    "## Ejemplo de Graficación de Vectores en 3-D"
   ]
  },
  {
   "cell_type": "code",
   "execution_count": 12,
   "metadata": {},
   "outputs": [
    {
     "data": {
      "text/plain": [
       "\"\""
      ]
     },
     "execution_count": 12,
     "metadata": {},
     "output_type": "execute_result"
    }
   ],
   "source": [
    "# Plotting a 3D vector from https://discourse.julialang.org/t/plot-3d-vector-field/2117/2\n",
    "# Pkg.add(\"PyPlot\")\n",
    "ENV[\"PYTHON\"] = \"\"  "
   ]
  },
  {
   "cell_type": "code",
   "execution_count": 13,
   "metadata": {},
   "outputs": [],
   "source": [
    "using PyPlot"
   ]
  },
  {
   "cell_type": "code",
   "execution_count": 14,
   "metadata": {},
   "outputs": [
    {
     "data": {
      "text/plain": [
       "true"
      ]
     },
     "execution_count": 14,
     "metadata": {},
     "output_type": "execute_result"
    }
   ],
   "source": [
    "pygui(true)  # si se pone verdadero (true) se grafica en una ventana externa con GUIS y se puede rotar, \n",
    "             # falso (false) pone la gráfica en una línea siguiente"
   ]
  },
  {
   "cell_type": "code",
   "execution_count": 23,
   "metadata": {},
   "outputs": [
    {
     "data": {
      "text/plain": [
       "6-element Array{Array{Float64,1},1}:\n",
       " [0.578388, -1.2378, -0.356011, -0.3565, -1.49092, -0.748104, 1.74181, -1.06256, -0.823306, 0.0445061]      \n",
       " [0.389055, -0.969275, 0.918467, 0.869351, -1.91836, 0.0481208, -0.679387, -0.299784, -2.34664, -0.489825]  \n",
       " [2.71506, 1.09198, -0.197594, -0.152802, -1.66561, -1.4256, -0.51507, -0.810114, -1.33307, 0.803452]       \n",
       " [0.370396, -0.997358, -1.02773, -0.884841, -1.50362, 0.969794, 1.13833, 2.08618, 1.34304, 0.0508885]       \n",
       " [0.160082, 0.209857, 0.750425, 0.0349448, 1.48211, 0.746672, 0.581531, 1.2078, 1.20058, 1.13832]           \n",
       " [0.667515, -0.0442909, 0.0866367, -0.151029, 0.0140627, -0.189368, 2.68642, -0.813921, -0.96062, 0.0575188]"
      ]
     },
     "execution_count": 23,
     "metadata": {},
     "output_type": "execute_result"
    }
   ],
   "source": [
    "fig = figure()\n",
    "#ax = fig[:gca]\n",
    "\n",
    "N = 10\n",
    "x,y,z,u,v,w = [randn(N) for i in 1:6]  # creamos 10 vectores aleatorios\n",
    "#z = z/4\n"
   ]
  },
  {
   "cell_type": "code",
   "execution_count": 24,
   "metadata": {},
   "outputs": [
    {
     "data": {
      "text/plain": [
       "PyObject <mpl_toolkits.mplot3d.art3d.Line3DCollection object at 0x14a4e0390>"
      ]
     },
     "execution_count": 24,
     "metadata": {},
     "output_type": "execute_result"
    }
   ],
   "source": [
    "#ax[:quiver](x,y,z, u,v, w, lw =1.5)\n",
    "  \n",
    "xlim([-3.0, 3.0])\n",
    "ylim([-3.0, 3.0])\n",
    "zlim([-3.0, 3.0])\n",
    "\n",
    "quiver(x,y,z, u,v, w, lw =0.5) # grafica los vectores en 3D, los ejes se pueden rotar interactivamente.\n",
    "\n",
    "# si no funciona se puede usar\n",
    "#ax[:set_xlim]([0,3])\n",
    "#ax[:set_ylim]([0,3])\n",
    "#ax[:set_zlim]([0,3])"
   ]
  },
  {
   "cell_type": "code",
   "execution_count": 17,
   "metadata": {},
   "outputs": [
    {
     "data": {
      "text/plain": [
       "3-element Array{Float64,1}:\n",
       " -1.2304563452959387\n",
       "  2.0235273010394703\n",
       "  1.2085486738567535"
      ]
     },
     "execution_count": 17,
     "metadata": {},
     "output_type": "execute_result"
    }
   ],
   "source": [
    "x"
   ]
  },
  {
   "cell_type": "code",
   "execution_count": 18,
   "metadata": {},
   "outputs": [
    {
     "data": {
      "text/plain": [
       "3-element Array{Float64,1}:\n",
       " 1.9839901505660311\n",
       " 0.7255842255849367\n",
       " 0.5569370016035591"
      ]
     },
     "execution_count": 18,
     "metadata": {},
     "output_type": "execute_result"
    }
   ],
   "source": [
    "y"
   ]
  },
  {
   "cell_type": "code",
   "execution_count": 19,
   "metadata": {},
   "outputs": [
    {
     "data": {
      "text/plain": [
       "3-element Array{Float64,1}:\n",
       "  0.2398131714866754\n",
       "  0.7872746939412101\n",
       " -1.060724485896114 "
      ]
     },
     "execution_count": 19,
     "metadata": {},
     "output_type": "execute_result"
    }
   ],
   "source": [
    "w"
   ]
  },
  {
   "cell_type": "markdown",
   "metadata": {},
   "source": [
    "### Graficando vectores unitarios"
   ]
  },
  {
   "cell_type": "code",
   "execution_count": 20,
   "metadata": {},
   "outputs": [],
   "source": [
    "x = [0;0;0]; y = [0;0;0]; z = [0;0;0]; u = [1;0;0]; v = [0;1;0]; w = [0;0;1]; "
   ]
  },
  {
   "cell_type": "code",
   "execution_count": 21,
   "metadata": {},
   "outputs": [
    {
     "name": "stderr",
     "output_type": "stream",
     "text": [
      "┌ Warning: `getindex(f::Figure, x)` is deprecated, use `getproperty(f, x)` instead.\n",
      "│   caller = top-level scope at In[21]:2\n",
      "└ @ Core In[21]:2\n",
      "┌ Warning: `getindex(o::PyObject, s::Symbol)` is deprecated in favor of dot overloading (`getproperty`) so elements should now be accessed as e.g. `o.s` instead of `o[:s]`.\n",
      "│   caller = top-level scope at In[21]:3\n",
      "└ @ Core In[21]:3\n"
     ]
    },
    {
     "data": {
      "text/plain": [
       "(-0.0, 1.5)"
      ]
     },
     "execution_count": 21,
     "metadata": {},
     "output_type": "execute_result"
    }
   ],
   "source": [
    "fig = figure()\n",
    "ax = fig[:gca](projection=\"3d\")\n",
    "ax[:quiver](x,y,z, u,v, w)\n",
    "xlim([-0.0, 1.5])\n",
    "ylim([-0.0, 1.5])\n",
    "zlim([-0.0, 1.5])"
   ]
  },
  {
   "cell_type": "code",
   "execution_count": 22,
   "metadata": {},
   "outputs": [
    {
     "name": "stdout",
     "output_type": "stream",
     "text": [
      "search: \u001b[0m\u001b[1mq\u001b[22m\u001b[0m\u001b[1mu\u001b[22m\u001b[0m\u001b[1mi\u001b[22m\u001b[0m\u001b[1mv\u001b[22m\u001b[0m\u001b[1me\u001b[22m\u001b[0m\u001b[1mr\u001b[22m \u001b[0m\u001b[1mq\u001b[22m\u001b[0m\u001b[1mu\u001b[22m\u001b[0m\u001b[1mi\u001b[22m\u001b[0m\u001b[1mv\u001b[22m\u001b[0m\u001b[1me\u001b[22m\u001b[0m\u001b[1mr\u001b[22mkey\n",
      "\n"
     ]
    },
    {
     "data": {
      "text/plain": [
       "\n",
       "Plot a 2-D field of arrows.\n",
       "\n",
       "Call signatures::\n",
       "\n",
       "  quiver(U, V, **kw)\n",
       "  quiver(U, V, C, **kw)\n",
       "  quiver(X, Y, U, V, **kw)\n",
       "  quiver(X, Y, U, V, C, **kw)\n",
       "\n",
       "*U* and *V* are the arrow data, *X* and *Y* set the location of the\n",
       "arrows, and *C* sets the color of the arrows. These arguments may be 1-D or\n",
       "2-D arrays or sequences.\n",
       "\n",
       "If *X* and *Y* are absent, they will be generated as a uniform grid.\n",
       "If *U* and *V* are 2-D arrays and *X* and *Y* are 1-D, and if ``len(X)`` and\n",
       "``len(Y)`` match the column and row dimensions of *U*, then *X* and *Y* will be\n",
       "expanded with :func:`numpy.meshgrid`.\n",
       "\n",
       "The default settings auto-scales the length of the arrows to a reasonable size.\n",
       "To change this behavior see the *scale* and *scale_units* kwargs.\n",
       "\n",
       "The defaults give a slightly swept-back arrow; to make the head a\n",
       "triangle, make *headaxislength* the same as *headlength*. To make the\n",
       "arrow more pointed, reduce *headwidth* or increase *headlength* and\n",
       "*headaxislength*. To make the head smaller relative to the shaft,\n",
       "scale down all the head parameters. You will probably do best to leave\n",
       "minshaft alone.\n",
       "\n",
       "*linewidths* and *edgecolors* can be used to customize the arrow\n",
       "outlines.\n",
       "\n",
       "Parameters\n",
       "----------\n",
       "X : 1D or 2D array, sequence, optional\n",
       "    The x coordinates of the arrow locations\n",
       "Y : 1D or 2D array, sequence, optional\n",
       "    The y coordinates of the arrow locations\n",
       "U : 1D or 2D array or masked array, sequence\n",
       "    The x components of the arrow vectors\n",
       "V : 1D or 2D array or masked array, sequence\n",
       "    The y components of the arrow vectors\n",
       "C : 1D or 2D array, sequence, optional\n",
       "    The arrow colors\n",
       "units : [ 'width' | 'height' | 'dots' | 'inches' | 'x' | 'y' | 'xy' ]\n",
       "    The arrow dimensions (except for *length*) are measured in multiples of\n",
       "    this unit.\n",
       "\n",
       "    'width' or 'height': the width or height of the axis\n",
       "\n",
       "    'dots' or 'inches': pixels or inches, based on the figure dpi\n",
       "\n",
       "    'x', 'y', or 'xy': respectively *X*, *Y*, or :math:`\\sqrt{X^2 + Y^2}`\n",
       "    in data units\n",
       "\n",
       "    The arrows scale differently depending on the units.  For\n",
       "    'x' or 'y', the arrows get larger as one zooms in; for other\n",
       "    units, the arrow size is independent of the zoom state.  For\n",
       "    'width or 'height', the arrow size increases with the width and\n",
       "    height of the axes, respectively, when the window is resized;\n",
       "    for 'dots' or 'inches', resizing does not change the arrows.\n",
       "angles : [ 'uv' | 'xy' ], array, optional\n",
       "    Method for determining the angle of the arrows. Default is 'uv'.\n",
       "\n",
       "    'uv': the arrow axis aspect ratio is 1 so that\n",
       "    if *U*==*V* the orientation of the arrow on the plot is 45 degrees\n",
       "    counter-clockwise from the horizontal axis (positive to the right).\n",
       "\n",
       "    'xy': arrows point from (x,y) to (x+u, y+v).\n",
       "    Use this for plotting a gradient field, for example.\n",
       "\n",
       "    Alternatively, arbitrary angles may be specified as an array\n",
       "    of values in degrees, counter-clockwise from the horizontal axis.\n",
       "\n",
       "    Note: inverting a data axis will correspondingly invert the\n",
       "    arrows only with ``angles='xy'``.\n",
       "scale : None, float, optional\n",
       "    Number of data units per arrow length unit, e.g., m/s per plot width; a\n",
       "    smaller scale parameter makes the arrow longer. Default is *None*.\n",
       "\n",
       "    If *None*, a simple autoscaling algorithm is used, based on the average\n",
       "    vector length and the number of vectors. The arrow length unit is given by\n",
       "    the *scale_units* parameter\n",
       "scale_units : [ 'width' | 'height' | 'dots' | 'inches' | 'x' | 'y' | 'xy' ], None, optional\n",
       "    If the *scale* kwarg is *None*, the arrow length unit. Default is *None*.\n",
       "\n",
       "    e.g. *scale_units* is 'inches', *scale* is 2.0, and\n",
       "    ``(u,v) = (1,0)``, then the vector will be 0.5 inches long.\n",
       "\n",
       "    If *scale_units* is 'width'/'height', then the vector will be half the\n",
       "    width/height of the axes.\n",
       "\n",
       "    If *scale_units* is 'x' then the vector will be 0.5 x-axis\n",
       "    units. To plot vectors in the x-y plane, with u and v having\n",
       "    the same units as x and y, use\n",
       "    ``angles='xy', scale_units='xy', scale=1``.\n",
       "width : scalar, optional\n",
       "    Shaft width in arrow units; default depends on choice of units,\n",
       "    above, and number of vectors; a typical starting value is about\n",
       "    0.005 times the width of the plot.\n",
       "headwidth : scalar, optional\n",
       "    Head width as multiple of shaft width, default is 3\n",
       "headlength : scalar, optional\n",
       "    Head length as multiple of shaft width, default is 5\n",
       "headaxislength : scalar, optional\n",
       "    Head length at shaft intersection, default is 4.5\n",
       "minshaft : scalar, optional\n",
       "    Length below which arrow scales, in units of head length. Do not\n",
       "    set this to less than 1, or small arrows will look terrible!\n",
       "    Default is 1\n",
       "minlength : scalar, optional\n",
       "    Minimum length as a multiple of shaft width; if an arrow length\n",
       "    is less than this, plot a dot (hexagon) of this diameter instead.\n",
       "    Default is 1.\n",
       "pivot : [ 'tail' | 'mid' | 'middle' | 'tip' ], optional\n",
       "    The part of the arrow that is at the grid point; the arrow rotates\n",
       "    about this point, hence the name *pivot*.\n",
       "color : [ color | color sequence ], optional\n",
       "    This is a synonym for the\n",
       "    :class:`~matplotlib.collections.PolyCollection` facecolor kwarg.\n",
       "    If *C* has been set, *color* has no effect.\n",
       "\n",
       "Notes\n",
       "-----\n",
       "Additional :class:`~matplotlib.collections.PolyCollection`\n",
       "keyword arguments:\n",
       "\n",
       "  agg_filter: a filter function, which takes a (m, n, 3) float array and a dpi value, and returns a (m, n, 3) array \n",
       "  alpha: float or None\n",
       "  animated: bool\n",
       "  antialiased: bool or sequence of bools\n",
       "  array: ndarray\n",
       "  capstyle: {'butt', 'round', 'projecting'}\n",
       "  clim: a length 2 sequence of floats; may be overridden in methods that have ``vmin`` and ``vmax`` kwargs. \n",
       "  clip_box: `.Bbox`\n",
       "  clip_on: bool\n",
       "  clip_path: [(`~matplotlib.path.Path`, `.Transform`) | `.Patch` | None] \n",
       "  cmap: colormap or registered colormap name\n",
       "  color: matplotlib color arg or sequence of rgba tuples\n",
       "  contains: callable\n",
       "  edgecolor: color or sequence of colors\n",
       "  facecolor: color or sequence of colors\n",
       "  figure: `.Figure`\n",
       "  gid: str\n",
       "  hatch: {'/', '\\\\', '|', '-', '+', 'x', 'o', 'O', '.', '*'}\n",
       "  in_layout: bool\n",
       "  joinstyle: {'miter', 'round', 'bevel'}\n",
       "  label: object\n",
       "  linestyle: {'-', '--', '-.', ':', '', (offset, on-off-seq), ...}\n",
       "  linewidth: float or sequence of floats\n",
       "  norm: `.Normalize`\n",
       "  offset_position: {'screen', 'data'}\n",
       "  offsets: float or sequence of floats\n",
       "  path_effects: `.AbstractPathEffect`\n",
       "  picker: None or bool or float or callable\n",
       "  pickradius: unknown\n",
       "  rasterized: bool or None\n",
       "  sketch_params: (scale: float, length: float, randomness: float) \n",
       "  snap: bool or None\n",
       "  transform: `.Transform`\n",
       "  url: str\n",
       "  urls: List[str] or None\n",
       "  visible: bool\n",
       "  zorder: float\n",
       "\n",
       "See Also\n",
       "--------\n",
       "quiverkey : Add a key to a quiver plot\n",
       "\n",
       "\n"
      ]
     },
     "execution_count": 22,
     "metadata": {},
     "output_type": "execute_result"
    }
   ],
   "source": [
    "?quiver  # queremos averiguar lo que hace quiver"
   ]
  },
  {
   "cell_type": "code",
   "execution_count": null,
   "metadata": {},
   "outputs": [],
   "source": []
  },
  {
   "cell_type": "code",
   "execution_count": null,
   "metadata": {},
   "outputs": [],
   "source": []
  }
 ],
 "metadata": {
  "@webio": {
   "lastCommId": null,
   "lastKernelId": null
  },
  "kernelspec": {
   "display_name": "Julia 1.1.0",
   "language": "julia",
   "name": "julia-1.1"
  },
  "language_info": {
   "file_extension": ".jl",
   "mimetype": "application/julia",
   "name": "julia",
   "version": "1.1.0"
  }
 },
 "nbformat": 4,
 "nbformat_minor": 2
}

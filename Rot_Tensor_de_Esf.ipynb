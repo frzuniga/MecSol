{
 "cells": [
  {
   "cell_type": "markdown",
   "metadata": {},
   "source": [
    "### Ejemplos de Rotación de Tensor de Esfuerzos. \n",
    "#### Clase de Mecánica de Sólidos,   R. Zúñiga  \n",
    "#### (Para correr teclear \"Shift-Enter\" en cada celda)\n",
    "#### Si se corre desde Julia Box se puede correr sin cambios, si se corre desde una instalación local de Julia se deben correr las siguientes entradas:\n",
    "#### Pkg.add(\"Plots\")\n",
    "#### Pkg.add(\"LinearAlgebra\")"
   ]
  },
  {
   "cell_type": "code",
   "execution_count": 8,
   "metadata": {},
   "outputs": [],
   "source": [
    "#using Pkg\n",
    "#Pkg.add(\"LinearAlgebra\")\n",
    "#Pkg.add(\"Plots\")\n",
    "using Plots\n",
    "using LinearAlgebra"
   ]
  },
  {
   "cell_type": "markdown",
   "metadata": {},
   "source": [
    "### Vamos a trabajar ahora con un tensor (matriz) de esfuerzos. \n",
    "#### Supongamos un bloque de material que está sometido a esfuerzos normales en sólo dos direcciones (sólo dos elementos de la diagonal no son cero)\n",
    "\n",
    "$\n",
    "   \\sigma=\n",
    "  \\left[ {\\begin{array}{cc}\n",
    "   1.0 & 0.0 & 0.0\\\\\n",
    "   0.0 & -1.0 & 0.0\\\\\n",
    "   0.0 & 0.0 & 0.0\\\\\n",
    "  \\end{array} } \\right]\n",
    "$"
   ]
  },
  {
   "cell_type": "code",
   "execution_count": 9,
   "metadata": {},
   "outputs": [
    {
     "data": {
      "text/plain": [
       "3×3 Matrix{Float64}:\n",
       " 1.0   0.0  0.0\n",
       " 0.0  -1.0  0.0\n",
       " 0.0   0.0  0.0"
      ]
     },
     "execution_count": 9,
     "metadata": {},
     "output_type": "execute_result"
    }
   ],
   "source": [
    "σ = [ 1.0 0.0 0.0\n",
    "      0.0 -1.0 0.0\n",
    "      0.0 0.0 0.0]"
   ]
  },
  {
   "cell_type": "markdown",
   "metadata": {},
   "source": [
    "#### Vamos a efectuar una rotación como sigue:\n",
    "$\n",
    "   \\sigma' = F . \\sigma . [F]^T=\n",
    "$"
   ]
  },
  {
   "cell_type": "markdown",
   "metadata": {},
   "source": [
    "#### Donde F es una matriz de transformación:\n",
    "$\n",
    "   F =\n",
    "  \\left[ {\\begin{array}{cc}\n",
    "   cos \\theta & sin \\theta & 0 \\\\\n",
    "   -sin \\theta & cos \\theta & 0.0 \\\\\n",
    "   0.0 & 0.0 & 1.0 \\\\\n",
    "  \\end{array} } \\right]\n",
    "$"
   ]
  },
  {
   "cell_type": "code",
   "execution_count": 10,
   "metadata": {},
   "outputs": [
    {
     "data": {
      "text/plain": [
       "3×3 Matrix{Float64}:\n",
       "  0.707107  0.707107  0.0\n",
       " -0.707107  0.707107  0.0\n",
       "  0.0       0.0       1.0"
      ]
     },
     "execution_count": 10,
     "metadata": {},
     "output_type": "execute_result"
    }
   ],
   "source": [
    "θ = π/4                    # veamos qué pasa para un ángulo θ de 45 grados\n",
    "F = [ cos(θ) sin(θ) 0.0\n",
    "    -sin(θ) cos(θ)   0.0\n",
    "      0.0 0.0 1.0]       "
   ]
  },
  {
   "cell_type": "code",
   "execution_count": 11,
   "metadata": {},
   "outputs": [
    {
     "data": {
      "text/plain": [
       "3×3 Matrix{Float64}:\n",
       "  2.22045e-16  -1.0          0.0\n",
       " -1.0          -2.22045e-16  0.0\n",
       "  0.0           0.0          0.0"
      ]
     },
     "execution_count": 11,
     "metadata": {},
     "output_type": "execute_result"
    }
   ],
   "source": [
    "σ1 = F*σ*transpose(F)"
   ]
  },
  {
   "cell_type": "markdown",
   "metadata": {},
   "source": [
    "#### Lo que resulta ahora es un tensor con componentes sólo en dos elementos fuera de la diagonal (los valores de la diagonal son prácticamente cero considerando una cierta precisión), o sea un tensor con únicamente esfuerzos de corte\n",
    "$\n",
    "   \\sigma'=\n",
    "  \\left[ {\\begin{array}{cc}\n",
    "   0.0 & -1.0 & 0.0\\\\\n",
    "   -1.0 & 0.0 & 0.0\\\\\n",
    "   0.0 & 0.0 & 0.0\\\\\n",
    "  \\end{array} } \\right]\n",
    "$"
   ]
  },
  {
   "cell_type": "markdown",
   "metadata": {},
   "source": [
    "### Este ejercicio nos dice que es posible rotar un tensor de esfuerzo de esfuerzos normales y encontrar uno con sólo esfuerzos de cizalla si usamos una direccción adecuada."
   ]
  },
  {
   "cell_type": "markdown",
   "metadata": {},
   "source": [
    "### Rotación en tres dimensiones\n",
    "#### Ref:  https://web.mit.edu/course/3/3.11/www/modules/trans.pdf"
   ]
  },
  {
   "cell_type": "markdown",
   "metadata": {},
   "source": [
    "Para rotar un tensor en tres dimensiones, tendríamos que efectuar la rotación en tres pasos:\n",
    "Primero, rotamos los ejes originales por un ángulo ψ alrededor del eje z para obtener un nuevo marco que podríamos llamar x', y', z. Después, rotamos este nuevo marco por un ángulo θ alrededor del eje x' para obtener otro marco que podríamos llamar x', y'', z'. Finalmente, rotamos este marco por un ángulo φ alrededor del eje z', para obtener el marco final. \n",
    "Estas tres transformaciones corresponden a la matriz de transformación.\n",
    "\n",
    "$\n",
    "   F=\n",
    "  \\left[ {\\begin{array}{cc}\n",
    "   cos \\psi & sin \\psi & 0.0\\\\\n",
    "   -sin \\psi & cos \\psi & 0.0\\\\\n",
    "   0.0 & 0.0 & 1\\\\\n",
    "  \\end{array} } \\right]\n",
    "  \\left[ {\\begin{array}{cc}\n",
    "  1 & 0.0 & 0.0\\\\\n",
    "  0.0 & cos \\theta & sin \\theta\\\\\n",
    "   0.0 & -sin \\theta & cos \\theta\\\\\n",
    "  \\end{array} } \\right]\n",
    "   \\left[ {\\begin{array}{cc}\n",
    "  cos \\phi & sin \\phi\\ & 0.0\\\\\n",
    "  -sin \\phi & cos \\phi & 0.0\\\\\n",
    "   0.0 & 0.0 & 1\\\\\n",
    "  \\end{array} } \\right]\n",
    "$\n"
   ]
  },
  {
   "cell_type": "markdown",
   "metadata": {},
   "source": [
    "## Εsfuerzos principales"
   ]
  },
  {
   "cell_type": "markdown",
   "metadata": {},
   "source": [
    "### En el siguiente ejercicio, vamos a calcular los esfuerzos principales del tensor σ1 que teníamos antes"
   ]
  },
  {
   "cell_type": "code",
   "execution_count": 12,
   "metadata": {},
   "outputs": [
    {
     "data": {
      "text/plain": [
       "3×3 Matrix{Float64}:\n",
       "  0.0  -1.0  0.0\n",
       " -1.0   0.0  0.0\n",
       "  0.0   0.0  0.0"
      ]
     },
     "execution_count": 12,
     "metadata": {},
     "output_type": "execute_result"
    }
   ],
   "source": [
    "σ1 = [ 0.0 -1.0 0.0\n",
    "      -1.0 0.0 0.0\n",
    "      0.0 0.0 0.0]"
   ]
  },
  {
   "cell_type": "code",
   "execution_count": 13,
   "metadata": {},
   "outputs": [
    {
     "name": "stdout",
     "output_type": "stream",
     "text": [
      "[-0.9999999999999989, 0.0, 1.0]"
     ]
    }
   ],
   "source": [
    "data = eigen(σ1)\n",
    "print(data.values)\n"
   ]
  },
  {
   "cell_type": "code",
   "execution_count": 14,
   "metadata": {},
   "outputs": [
    {
     "name": "stdout",
     "output_type": "stream",
     "text": [
      "[0.7071067811865477 0.0 -0.7071067811865475; 0.7071067811865475 0.0 0.7071067811865477; 0.0 1.0 0.0]"
     ]
    }
   ],
   "source": [
    "print(data.vectors)"
   ]
  },
  {
   "cell_type": "markdown",
   "metadata": {},
   "source": [
    "#### Notar que a pesar de que el tensor de esfuerzo original corresponde a sólo valores de esfuerzos de corte, los valores principales corresponden a esfuerzos normales que ordenamos de acuerdo al máximo y ai mínimo.\n",
    "$\n",
    "   \\sigma=\n",
    "  \\left[ {\\begin{array}{cc}\n",
    "   1.0 & 0.0 & 0.0\\\\\n",
    "   0.0 & 0.0 & 0.0\\\\\n",
    "   0.0 & 0.0 & -1.0\\\\\n",
    "  \\end{array} } \\right]\n",
    "$"
   ]
  },
  {
   "cell_type": "markdown",
   "metadata": {},
   "source": [
    "#### los vectores principales dan la dirección de cada vector."
   ]
  },
  {
   "cell_type": "code",
   "execution_count": null,
   "metadata": {},
   "outputs": [],
   "source": []
  }
 ],
 "metadata": {
  "kernelspec": {
   "display_name": "Julia 1.11.2",
   "language": "julia",
   "name": "julia-1.11"
  },
  "language_info": {
   "file_extension": ".jl",
   "mimetype": "application/julia",
   "name": "julia",
   "version": "1.11.2"
  }
 },
 "nbformat": 4,
 "nbformat_minor": 2
}

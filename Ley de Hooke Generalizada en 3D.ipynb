{
 "cells": [
  {
   "cell_type": "markdown",
   "metadata": {},
   "source": [
    " ## Mecánica de Sólidos\n",
    "## Ramón Zúñiga   Instituto de Geociencias UNAM\n",
    "\n",
    "## Ley de Hooke Generalizada \n",
    "\n"
   ]
  },
  {
   "cell_type": "markdown",
   "metadata": {},
   "source": [
    "### Para el caso **1D**, la **Ley de Hooke**  establece que el **esfuerzo** $ \\sigma $ es proporcional a la **deformación** $ \\varepsilon $ simplemente como:\n",
    "\n",
    "\\begin{equation}\n",
    "\\sigma = E \\varepsilon\n",
    "\\end{equation}\n",
    "\n",
    "donde:\n",
    "\n",
    "- $ E $ es el **módulo de elasticidad** o **módulo de Young**.\n",
    "- $ \\sigma $ es el **esfuerzo normal**.\n",
    "- $ \\varepsilon $ es la **deformación normal**.\n",
    "\n",
    "#### éste sería el caso de un resorte ideal."
   ]
  },
  {
   "cell_type": "markdown",
   "metadata": {},
   "source": [
    "### La **Ley de Hooke** en **tres dimensiones**, se expresa en forma matricial como:\n",
    "\n",
    "\\begin{equation}\n",
    "\\boldsymbol{\\sigma} = \\mathbf{C} \\boldsymbol{\\varepsilon}\n",
    "\\end{equation}\n",
    "\n",
    "donde:\n",
    "\n",
    "- $ \\boldsymbol{\\sigma} $ es el **tensor de esfuerzos**.\n",
    "- $ \\boldsymbol{\\varepsilon} $ es el **tensor de deformaciones**.\n",
    "- $ \\mathbf{C} $ es el **tensor de rigidez elástica** (o matriz constitutiva).\n",
    "\n",
    "\n",
    "#### Puede observarse que se trata de una relación lineal. Sólo se puede aplicar en las condiciones en que el material responda linealmente. \n",
    "\n",
    "### **Rango de Deformaciones para la Aplicación de la Ley de Elasticidad en Rocas**\n",
    "\n",
    "La **Ley de Elasticidad** en rocas se aplica dentro del **régimen elástico**, donde la relación entre el esfuerzo $ \\sigma $ y la deformación $ \\varepsilon $ es **lineal y reversible**. Este régimen ocurre para **deformaciones pequeñas**, antes de que la roca experimente **fluencia, fractura o comportamiento inelástico**.\n",
    "\n",
    "#### ** Rango Típico de Deformaciones en Rocas**\n",
    "Para la mayoría de las **rocas ígneas y metamórficas**:\n",
    "\\begin{equation}\n",
    "10^{-6} \\leq \\varepsilon \\leq 10^{-3}\n",
    "\\end{equation}\n",
    "\n",
    "Para **rocas sedimentarias** más deformables:\n",
    "\\begin{equation}\n",
    "10^{-5} \\leq \\varepsilon \\leq 10^{-2}\n",
    "\\end{equation}\n",
    "\n",
    "donde:\n",
    "\n",
    "- $ \\varepsilon $ es la **deformación unitaria** (sin unidades, expresada en fracción o porcentaje).\n",
    "- $ 10^{-6} $ representa **1 $\\varepsilon$ (microdeformación)** o **0.0001%**.\n",
    "- $ 10^{-3} $ representa **0.1% de deformación**.\n",
    "\n",
    "#### ** Causas del Rango de Aplicabilidad**\n",
    "- Para **deformaciones menores a $ 10^{-6} $**, los efectos de microfisuras, anisotropía y efectos de escala pueden hacer que el comportamiento no sea perfectamente elástico.\n",
    "- Para **deformaciones mayores a $ 10^{-3} $ (0.1%)**, muchas rocas comienzan a **mostrar comportamiento inelástico**, como **fluencia, daño microestructural o fractura**.\n",
    "\n",
    "---\n",
    "\n",
    "#### ** Factores que Afectan el Rango de Aplicabilidad**\n",
    "1. **Tipo de roca**  \n",
    "   - Rocas duras (granito, basalto): **se mantienen elásticas en deformaciones menores a $ 10^{-3} $**.\n",
    "   - Rocas más blandas (caliza, arenisca): **pueden seguir siendo elásticas hasta $ 10^{-2} $**.\n",
    "\n",
    "2. **Presión de confinamiento**  \n",
    "   - A **mayor presión**, la roca puede mantener comportamiento elástico en **deformaciones más grandes**.\n",
    "\n",
    "3. **Tasa de deformación**  \n",
    "   - A **deformaciones rápidas**, el comportamiento es más elástico.\n",
    "   - A **deformaciones lentas**, la roca puede desarrollar **fluencia o deformación viscosa**.\n",
    "\n",
    "---\n",
    "\n",
    "####  **Observaciones generales**\n",
    "- La **Ley de Elasticidad** en rocas es válida en un rango de **$ 10^{-6} $ a $ 10^{-3} $** para la mayoría de las rocas.\n",
    "- Para **rocas sedimentarias más blandas**, el rango puede extenderse hasta **$ 10^{-2} $**.\n",
    "- Para **deformaciones mayores**, se requieren modelos inelásticos como **plasticidad o daño acumulativo**.\n",
    "\n",
    "---\n",
    "\n",
    "\n",
    "### **Módulos Elásticos**\n",
    "\n",
    "En el caso de **materiales anisotrópicos homogéneos** se requiere conocer 21 módulos o constantes eláticas.\n",
    "Para el caso de **materiales isotrópicos homogéneos** los módulos o constantes eláticas son sólo dos. \n",
    "Los materiales elásticos pueden describirse mediante diferentes módulos elásticos, dependiendo del tipo de deformación analizada. Algunas de las alternativas son:\n",
    "\n",
    "- **Módulo de Young** \n",
    " $\n",
    "  E = \\frac{\\sigma}{\\varepsilon}\n",
    " $\n",
    "  donde $ \\sigma $ es el esfuerzo normal y $ \\varepsilon $ es la deformación normal.\n",
    "\n",
    "- **Módulo de Corte** (o módulo de rigidez equivalente a la constante de Lamé $ \\mu $):\n",
    "$\n",
    "  G = \\frac{\\tau}{\\gamma}\n",
    "$\n",
    "  donde $ \\tau $ es el esfuerzo cortante y $ \\gamma $ es la deformación cortante.\n",
    "\n",
    "- **Módulo de Compresibilidad** \n",
    "$\n",
    "  K = \\frac{- p}{\\varepsilon_v}\n",
    "$\n",
    "  donde $ p $ es la presión (esfuerzo compresivo) y $ \\varepsilon_v $ es la deformación volumétrica.\n",
    "  \n",
    "- **Constantes de Lamé**\n",
    "$\n",
    "\\lambda\n",
    "$\n",
    "no tiene definición física y se encuentra por medio de relaciones entre otros módulos.\n",
    "$\n",
    "\\mu\n",
    "$\n",
    "es el módulo de rigidez o corte especificado anteriormente.\n",
    "\n",
    "- **Relación entre los módulos en materiales isotrópicos**:\n",
    "\n",
    "\\begin{equation}\n",
    " E = 2G(1 + \\nu)\n",
    "\\end{equation}\n",
    "\n",
    "\\begin{equation}\n",
    " K = \\frac{E}{3(1 - 2\\nu)}\n",
    "\\end{equation}\n",
    "\n",
    "\n",
    "\\begin{equation}\n",
    "\\lambda = \\frac{E \\nu}{(1 + \\nu)(1 - 2\\nu)}\n",
    "\\end{equation}\n",
    "\n",
    "donde: $ \\nu $ es el **coeficiente de Poisson**.\n",
    "\n",
    "\n",
    "#### **Coeficiente de Poisson**\n",
    "\n",
    "El **coeficiente de Poisson** $ \\nu $ es una medida de la deformación transversal que experimenta un material cuando se somete a una carga en una dirección específica. Se define como la razón entre la **deformación lateral** y la **deformación axial**:\n",
    "\n",
    "\\begin{equation}\n",
    "\\nu = - \\frac{\\varepsilon_{\\text{lat}}}{\\varepsilon_{\\text{ax}}}\n",
    "\\end{equation}\n",
    "\n",
    "donde:\n",
    "\n",
    "- $ \\nu $ es el **coeficiente de Poisson** (adimensional).\n",
    "- $ \\varepsilon_{\\text{lat}} $ es la **deformación lateral** (perpendicular a la carga).\n",
    "- $ \\varepsilon_{\\text{ax}} $ es la **deformación axial** (paralela a la carga).\n",
    "\n",
    "Para materiales **isotrópicos**, el coeficiente de Poisson está relacionado con el **módulo de Young** $E$ y el **módulo de corte** $G$ por la ecuación:\n",
    "\n",
    "\\begin{equation}\n",
    "\\nu = \\frac{E}{2G} - 1\n",
    "\\end{equation}\n",
    "\n",
    "Además, la relación entre $ \\nu $ y el **módulo de compresibilidad** $K$ es:\n",
    "\n",
    "\\begin{equation}\n",
    "\\nu = \\frac{3K - 2G}{2(3K + G)}\n",
    "\\end{equation}\n",
    "\n",
    "El valor típico del **coeficiente de Poisson** para materiales elásticos se encuentra en el rango:\n",
    "$\n",
    "0 \\leq \\nu \\leq 0.5\n",
    "$\n",
    "\n",
    "donde:\n",
    "\n",
    "- **$ \\nu = 0.5 $** para un material **incompresible** (como el caucho). También se emplea como valor para sedimentos saturados, ya que el contenido de agua los hace prácticamennte incompresibles.\n",
    "- **$ \\nu \\approx 0.3 $** para metales y muchas rocas.\n",
    "- **$ \\nu \\approx 0.2 $** para materiales más frágiles como la cerámica o algunos tipos de rocas sedimentarias.\n"
   ]
  },
  {
   "cell_type": "markdown",
   "metadata": {},
   "source": [
    "## **Tensor de Rigidez para un material isotrópico**\n",
    "\n",
    "El tensor de rigidez $ \\mathbf{C} $ es el conjunto de valores de las constantes o módulos elásticos. Para el caso 3D de un **material isotrópico**, sólo se requieren dos constantes. Para este caso el tensor de rigidez, usando los módulos de Lammé, se define como:\n",
    "\n",
    "\\begin{equation}\n",
    "\\mathbf{C} =\n",
    "\\begin{bmatrix}\n",
    "\\lambda + 2\\mu & \\lambda & \\lambda & 0 & 0 & 0 \\\\\n",
    "\\lambda & \\lambda + 2\\mu & \\lambda & 0 & 0 & 0 \\\\\n",
    "\\lambda & \\lambda & \\lambda + 2\\mu & 0 & 0 & 0 \\\\\n",
    "0 & 0 & 0 & \\mu & 0 & 0 \\\\\n",
    "0 & 0 & 0 & 0 & \\mu & 0 \\\\\n",
    "0 & 0 & 0 & 0 & 0 & \\mu\n",
    "\\end{bmatrix}\n",
    "\\end{equation}\n"
   ]
  },
  {
   "cell_type": "markdown",
   "metadata": {},
   "source": [
    "###  **Ley de Hooke Generalizada en Notación Indicial con Constantes de Lamé**\n",
    "\n",
    "\n",
    "\n",
    "La **Ley de Hooke en 3D** para un material **isotrópico** se expresa en términos de las **constantes de Lamé** $ \\lambda $ y $ \\mu $:\n",
    "\n",
    "\\begin{equation}\n",
    "\\sigma_{ij} = \\lambda \\delta_{ij} \\varepsilon_{kk} + 2\\mu \\varepsilon_{ij}\n",
    "\\end{equation}\n",
    "\n",
    "donde:\n",
    "\n",
    "$ \\sigma_{ij} $ es el **tensor de esfuerzos**.\n",
    "$ \\varepsilon_{ij} $ es el **tensor de deformaciones**.\n",
    "$ \\lambda, \\mu $ son las **constantes de Lamé**:\n",
    "$ \\lambda = \\frac{E \\nu}{(1 + \\nu)(1 - 2\\nu)} $\n",
    "$  \\mu = \\frac{E}{2(1 + \\nu)} $  (también llamado **módulo de corte o rigidez**).\n",
    "$  \\delta_{ij}  $ es el **delta de Kronecker**, que es = 1 si $ (i = j) $; = 0 si $ i \\neq j $.\n",
    "$ \\varepsilon_{kk} = \\sum_{m=1}^{3} \\varepsilon_{mm} $ es la **deformación volumétrica** o **traza del tensor de deformaciones**.\n"
   ]
  },
  {
   "cell_type": "markdown",
   "metadata": {},
   "source": [
    "### Ejemplo de empleo de la Ley de Hooke con valores de las propiedades del material ( valores de módulos elásticos aproximados de una roca). \n",
    "Estos pueden provenir de mediciones previas. Si se han medido otros módulos se pueden emplear relaciones entre ellos como se ve en el ejemplo."
   ]
  },
  {
   "cell_type": "code",
   "execution_count": 47,
   "metadata": {},
   "outputs": [
    {
     "data": {
      "text/plain": [
       "4.0e10"
      ]
     },
     "execution_count": 47,
     "metadata": {},
     "output_type": "execute_result"
    }
   ],
   "source": [
    "E = 40e9   # Módulo de Young en Pascales (Pa)\n"
   ]
  },
  {
   "cell_type": "code",
   "execution_count": 48,
   "metadata": {},
   "outputs": [
    {
     "data": {
      "text/plain": [
       "0.27"
      ]
     },
     "execution_count": 48,
     "metadata": {},
     "output_type": "execute_result"
    }
   ],
   "source": [
    "ν = 0.27     # Coeficiente de Poisson\n"
   ]
  },
  {
   "cell_type": "markdown",
   "metadata": {},
   "source": [
    "### Construir la matriz de rigidez elástica C para un material isotrópico"
   ]
  },
  {
   "cell_type": "code",
   "execution_count": 49,
   "metadata": {},
   "outputs": [
    {
     "data": {
      "text/plain": [
       "1.848681958233482e10"
      ]
     },
     "execution_count": 49,
     "metadata": {},
     "output_type": "execute_result"
    }
   ],
   "source": [
    "\n",
    "λ = (E * ν) / ((1 + ν) * (1 - 2ν))  # Primera constante de Lamé\n"
   ]
  },
  {
   "cell_type": "code",
   "execution_count": 50,
   "metadata": {},
   "outputs": [
    {
     "data": {
      "text/plain": [
       "1.5748031496062992e10"
      ]
     },
     "execution_count": 50,
     "metadata": {},
     "output_type": "execute_result"
    }
   ],
   "source": [
    "μ = E / (2 * (1 + ν))               # Segunda constante de Lamé (módulo de corte)\n"
   ]
  },
  {
   "cell_type": "code",
   "execution_count": 51,
   "metadata": {},
   "outputs": [],
   "source": [
    "C = [\n",
    "    λ + 2μ   λ        λ        0    0    0;\n",
    "    λ        λ + 2μ   λ        0    0    0;\n",
    "    λ        λ        λ + 2μ   0    0    0;\n",
    "    0        0        0        μ    0    0;\n",
    "    0        0        0        0    μ    0;\n",
    "    0        0        0        0    0    μ;\n",
    "]\n",
    ";"
   ]
  },
  {
   "cell_type": "code",
   "execution_count": 52,
   "metadata": {},
   "outputs": [
    {
     "data": {
      "text/plain": [
       "6×6 Matrix{Float64}:\n",
       " 4.99829e10  1.84868e10  1.84868e10  0.0        0.0        0.0\n",
       " 1.84868e10  4.99829e10  1.84868e10  0.0        0.0        0.0\n",
       " 1.84868e10  1.84868e10  4.99829e10  0.0        0.0        0.0\n",
       " 0.0         0.0         0.0         1.5748e10  0.0        0.0\n",
       " 0.0         0.0         0.0         0.0        1.5748e10  0.0\n",
       " 0.0         0.0         0.0         0.0        0.0        1.5748e10"
      ]
     },
     "metadata": {},
     "output_type": "display_data"
    }
   ],
   "source": [
    "display(C)"
   ]
  },
  {
   "cell_type": "markdown",
   "metadata": {},
   "source": [
    "### Definimos un tensor de deformaciones (Ejemplo)"
   ]
  },
  {
   "cell_type": "code",
   "execution_count": 53,
   "metadata": {},
   "outputs": [
    {
     "data": {
      "text/plain": [
       "6-element Vector{Float64}:\n",
       " 0.001\n",
       " 0.0005\n",
       " 0.0002\n",
       " 0.0\n",
       " 0.0\n",
       " 0.0"
      ]
     },
     "execution_count": 53,
     "metadata": {},
     "output_type": "execute_result"
    }
   ],
   "source": [
    "ε = [0.001, 0.0005, 0.0002, 0, 0, 0]  # Deformaciones en formato vector\n"
   ]
  },
  {
   "cell_type": "markdown",
   "metadata": {},
   "source": [
    "###  **Cálculo de los Esfuerzos**\n",
    "\n",
    "Aplicando la Ley de Hooke:\n",
    "\n",
    "\\begin{equation}\n",
    "\\boldsymbol{\\sigma} = \\mathbf{C} \\boldsymbol{\\varepsilon}\n",
    "\\end{equation}\n",
    "\n",
    "obtenemos:\n",
    "\n",
    "\\begin{equation}\n",
    "\\boldsymbol{\\sigma} =\n",
    "\\begin{bmatrix}\n",
    "\\sigma_{xx} \\\\\n",
    "\\sigma_{yy} \\\\\n",
    "\\sigma_{zz} \\\\\n",
    "\\tau_{xy} \\\\\n",
    "\\tau_{yz} \\\\\n",
    "\\tau_{xz}\n",
    "\\end{bmatrix}\n",
    "\\end{equation}\n"
   ]
  },
  {
   "cell_type": "code",
   "execution_count": 54,
   "metadata": {},
   "outputs": [],
   "source": [
    "σ = C * ε ; # Calculamos el tensor de esfuerzos usando la Ley de Hooke"
   ]
  },
  {
   "cell_type": "code",
   "execution_count": 55,
   "metadata": {},
   "outputs": [
    {
     "data": {
      "text/plain": [
       "6-element Vector{Float64}:\n",
       " 6.292365628209518e7\n",
       " 4.7175624786032185e7\n",
       " 3.772680588839439e7\n",
       " 0.0\n",
       " 0.0\n",
       " 0.0"
      ]
     },
     "metadata": {},
     "output_type": "display_data"
    }
   ],
   "source": [
    "display(σ)"
   ]
  },
  {
   "cell_type": "markdown",
   "metadata": {},
   "source": [
    "### Puede verse que las deformaciones introducidas como ejemplo, que son sólo deformaciones normales, serían causadas en una roca típica por esfuerzos del orden de $\\sigma_{xx} = 63$, $ \\sigma_{yy} = 47 $ y $ \\sigma_{zz} = 37 $ MPa, y sólo se deben a esfuerzos normales, como es esperado. "
   ]
  },
  {
   "cell_type": "code",
   "execution_count": null,
   "metadata": {},
   "outputs": [],
   "source": []
  }
 ],
 "metadata": {
  "kernelspec": {
   "display_name": "Julia 1.11.2",
   "language": "julia",
   "name": "julia-1.11"
  },
  "language_info": {
   "file_extension": ".jl",
   "mimetype": "application/julia",
   "name": "julia",
   "version": "1.11.2"
  }
 },
 "nbformat": 4,
 "nbformat_minor": 2
}

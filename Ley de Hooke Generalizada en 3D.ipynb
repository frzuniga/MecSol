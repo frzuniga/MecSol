{
 "cells": [
  {
   "cell_type": "markdown",
   "metadata": {},
   "source": [
    " ## Mecánica de Sólidos\n",
    "## Ramón Zúñiga   Instituto de Geociencias UNAM\n",
    "\n",
    "## Ley de Hooke Generalizada \n",
    "\n"
   ]
  },
  {
   "cell_type": "markdown",
   "metadata": {},
   "source": [
    "### Para el caso **1D**, la **Ley de Hooke**  establece que el **esfuerzo** $ \\sigma $ es proporcional a la **deformación** $ \\varepsilon $ simplemente como:\n",
    "\n",
    "\\begin{equation}\n",
    "\\sigma = E \\varepsilon\n",
    "\\end{equation}\n",
    "\n",
    "donde:\n",
    "\n",
    "- $ E $ es el **módulo de elasticidad** o **módulo de Young**.\n",
    "- $ \\sigma $ es el **esfuerzo normal**.\n",
    "- $ \\varepsilon $ es la **deformación normal**.\n",
    "\n",
    "#### éste sería el caso de un resorte ideal."
   ]
  },
  {
   "cell_type": "markdown",
   "metadata": {},
   "source": [
    "### La **Ley de Hooke** en **tres dimensiones**, se expresa en forma matricial como:\n",
    "\n",
    "\\begin{equation}\n",
    "\\boldsymbol{\\sigma} = \\mathbf{C} \\boldsymbol{\\varepsilon}\n",
    "\\end{equation}\n",
    "\n",
    "donde:\n",
    "\n",
    "- $ \\boldsymbol{\\sigma} $ es el **tensor de esfuerzos**.\n",
    "- $ \\boldsymbol{\\varepsilon} $ es el **tensor de deformaciones**.\n",
    "- $ \\mathbf{C} $ es el **tensor de rigidez elástica** (o matriz constitutiva).\n",
    "\n",
    "---\n"
   ]
  },
  {
   "cell_type": "markdown",
   "metadata": {},
   "source": [
    "## **Tensor de Rigidez**\n",
    "\n",
    "El tensor de rigidez $ \\mathbf{C} $ es el conjunto de valores de las constantes o módulos elásticos. Para el caso 3D de un **material isotrópico**, sólo se requieren dos constantes. Para este caso el tensor de rigidez, usando los módulos de Lammé, se define como:\n",
    "\n",
    "\\begin{equation}\n",
    "\\mathbf{C} =\n",
    "\\begin{bmatrix}\n",
    "\\lambda + 2\\mu & \\lambda & \\lambda & 0 & 0 & 0 \\\\\n",
    "\\lambda & \\lambda + 2\\mu & \\lambda & 0 & 0 & 0 \\\\\n",
    "\\lambda & \\lambda & \\lambda + 2\\mu & 0 & 0 & 0 \\\\\n",
    "0 & 0 & 0 & \\mu & 0 & 0 \\\\\n",
    "0 & 0 & 0 & 0 & \\mu & 0 \\\\\n",
    "0 & 0 & 0 & 0 & 0 & \\mu\n",
    "\\end{bmatrix}\n",
    "\\end{equation}\n"
   ]
  },
  {
   "cell_type": "markdown",
   "metadata": {},
   "source": [
    "### Vamos a usra valores de las propiedades del material (Ejemplo: valores aproximados de una roca). \n",
    "Estos pueden provenir de mediciones previas. Si se han medido otros módulos se pueden emplear relaciones entre ellos como se ve en el ejemplo."
   ]
  },
  {
   "cell_type": "code",
   "execution_count": 65,
   "metadata": {},
   "outputs": [
    {
     "data": {
      "text/plain": [
       "4.0e10"
      ]
     },
     "execution_count": 65,
     "metadata": {},
     "output_type": "execute_result"
    }
   ],
   "source": [
    "E = 40e9   # Módulo de Young en Pascales (Pa)\n"
   ]
  },
  {
   "cell_type": "code",
   "execution_count": 66,
   "metadata": {},
   "outputs": [
    {
     "data": {
      "text/plain": [
       "0.27"
      ]
     },
     "execution_count": 66,
     "metadata": {},
     "output_type": "execute_result"
    }
   ],
   "source": [
    "ν = 0.27     # Coeficiente de Poisson\n"
   ]
  },
  {
   "cell_type": "markdown",
   "metadata": {},
   "source": [
    "### Construir la matriz de rigidez elástica C para un material isotrópico"
   ]
  },
  {
   "cell_type": "code",
   "execution_count": 67,
   "metadata": {},
   "outputs": [
    {
     "data": {
      "text/plain": [
       "1.848681958233482e10"
      ]
     },
     "execution_count": 67,
     "metadata": {},
     "output_type": "execute_result"
    }
   ],
   "source": [
    "\n",
    "λ = (E * ν) / ((1 + ν) * (1 - 2ν))  # Primera constante de Lamé\n"
   ]
  },
  {
   "cell_type": "code",
   "execution_count": 68,
   "metadata": {},
   "outputs": [
    {
     "data": {
      "text/plain": [
       "1.5748031496062992e10"
      ]
     },
     "execution_count": 68,
     "metadata": {},
     "output_type": "execute_result"
    }
   ],
   "source": [
    "μ = E / (2 * (1 + ν))               # Segunda constante de Lamé (módulo de corte)\n"
   ]
  },
  {
   "cell_type": "code",
   "execution_count": 69,
   "metadata": {},
   "outputs": [],
   "source": [
    "C = [\n",
    "    λ + 2μ   λ        λ        0    0    0;\n",
    "    λ        λ + 2μ   λ        0    0    0;\n",
    "    λ        λ        λ + 2μ   0    0    0;\n",
    "    0        0        0        μ    0    0;\n",
    "    0        0        0        0    μ    0;\n",
    "    0        0        0        0    0    μ;\n",
    "]\n",
    ";"
   ]
  },
  {
   "cell_type": "code",
   "execution_count": 70,
   "metadata": {},
   "outputs": [
    {
     "data": {
      "text/plain": [
       "6×6 Matrix{Float64}:\n",
       " 4.99829e10  1.84868e10  1.84868e10  0.0        0.0        0.0\n",
       " 1.84868e10  4.99829e10  1.84868e10  0.0        0.0        0.0\n",
       " 1.84868e10  1.84868e10  4.99829e10  0.0        0.0        0.0\n",
       " 0.0         0.0         0.0         1.5748e10  0.0        0.0\n",
       " 0.0         0.0         0.0         0.0        1.5748e10  0.0\n",
       " 0.0         0.0         0.0         0.0        0.0        1.5748e10"
      ]
     },
     "metadata": {},
     "output_type": "display_data"
    }
   ],
   "source": [
    "display(C)"
   ]
  },
  {
   "cell_type": "markdown",
   "metadata": {},
   "source": [
    "### Definimos un tensor de deformaciones (Ejemplo)"
   ]
  },
  {
   "cell_type": "code",
   "execution_count": 71,
   "metadata": {},
   "outputs": [
    {
     "data": {
      "text/plain": [
       "6-element Vector{Float64}:\n",
       " 0.001\n",
       " 0.0005\n",
       " 0.0002\n",
       " 0.0\n",
       " 0.0\n",
       " 0.0"
      ]
     },
     "execution_count": 71,
     "metadata": {},
     "output_type": "execute_result"
    }
   ],
   "source": [
    "ε = [0.001, 0.0005, 0.0002, 0, 0, 0]  # Deformaciones en formato vector\n"
   ]
  },
  {
   "cell_type": "markdown",
   "metadata": {},
   "source": [
    "##  **Cálculo de los Esfuerzos**\n",
    "\n",
    "Aplicando la Ley de Hooke:\n",
    "\n",
    "\\begin{equation}\n",
    "\\boldsymbol{\\sigma} = \\mathbf{C} \\boldsymbol{\\varepsilon}\n",
    "\\end{equation}\n",
    "\n",
    "obtenemos:\n",
    "\n",
    "\\begin{equation}\n",
    "\\boldsymbol{\\sigma} =\n",
    "\\begin{bmatrix}\n",
    "\\sigma_{xx} \\\\\n",
    "\\sigma_{yy} \\\\\n",
    "\\sigma_{zz} \\\\\n",
    "\\tau_{xy} \\\\\n",
    "\\tau_{yz} \\\\\n",
    "\\tau_{xz}\n",
    "\\end{bmatrix}\n",
    "\\end{equation}\n"
   ]
  },
  {
   "cell_type": "markdown",
   "metadata": {},
   "source": [
    "\n",
    "###  Calculamos el tensor de esfuerzos usando la Ley de Hooke"
   ]
  },
  {
   "cell_type": "code",
   "execution_count": 72,
   "metadata": {},
   "outputs": [],
   "source": [
    "σ = C * ε ;"
   ]
  },
  {
   "cell_type": "code",
   "execution_count": 73,
   "metadata": {},
   "outputs": [
    {
     "data": {
      "text/plain": [
       "6-element Vector{Float64}:\n",
       " 6.292365628209518e7\n",
       " 4.7175624786032185e7\n",
       " 3.772680588839439e7\n",
       " 0.0\n",
       " 0.0\n",
       " 0.0"
      ]
     },
     "metadata": {},
     "output_type": "display_data"
    }
   ],
   "source": [
    "display(σ)"
   ]
  },
  {
   "cell_type": "markdown",
   "metadata": {},
   "source": [
    "#### Puede verse que las deformaciones introducidas como ejemplo, que son sólo deformaciones normales, serían causadas en una roca típica por esfuerzos del orden de $\\sigma_{xx} = 63$, $ \\sigma_{yy} = 47 $ y $ \\sigma_{zz} = 37 $ MPa, y sólo se deben a esfuerzos normales. "
   ]
  },
  {
   "cell_type": "code",
   "execution_count": null,
   "metadata": {},
   "outputs": [],
   "source": []
  }
 ],
 "metadata": {
  "kernelspec": {
   "display_name": "Julia 1.10.0-rc2",
   "language": "julia",
   "name": "julia-1.10"
  },
  "language_info": {
   "file_extension": ".jl",
   "mimetype": "application/julia",
   "name": "julia",
   "version": "1.10.5"
  }
 },
 "nbformat": 4,
 "nbformat_minor": 2
}

{
 "cells": [
  {
   "cell_type": "markdown",
   "metadata": {},
   "source": [
    "### Mecánica de Sólidos\n",
    "###  Transformación de coordenadas .\n",
    "\n",
    "#### En esta libreta se usan los paquetes ReferenceFrameRotations y StaticArrays  para generar Matrices de Cosenos directores\n",
    "#### https://juliaspace.github.io/ReferenceFrameRotations.jl/stable/"
   ]
  },
  {
   "cell_type": "code",
   "execution_count": 79,
   "metadata": {},
   "outputs": [],
   "source": [
    "#using Pkg\n",
    "\n",
    "#Pkg.add(\"ReferenceFrameRotations\")\n",
    "#Pkg.add(\"StaticArrays\")"
   ]
  },
  {
   "cell_type": "code",
   "execution_count": 80,
   "metadata": {},
   "outputs": [],
   "source": [
    "using ReferenceFrameRotations\n",
    "using StaticArrays\n",
    "ENV[\"PYTHON\"] = \"\"  \n",
    "using PyPlot"
   ]
  },
  {
   "cell_type": "code",
   "execution_count": 81,
   "metadata": {},
   "outputs": [
    {
     "data": {
      "text/plain": [
       "3-element Array{Int64,1}:\n",
       " 1\n",
       " 1\n",
       " 1"
      ]
     },
     "execution_count": 81,
     "metadata": {},
     "output_type": "execute_result"
    }
   ],
   "source": [
    "a = π/4;    # definimos un ángulo de rotación\n",
    "#v = [sqrt(3)/3;sqrt(3)/3;sqrt(3)/3]    # definimos un vector \n",
    "v = [1;1;1] "
   ]
  },
  {
   "cell_type": "code",
   "execution_count": 82,
   "metadata": {},
   "outputs": [
    {
     "data": {
      "text/plain": [
       "3×3 SArray{Tuple{3,3},Float64,2,9}:\n",
       "  1.0        1.0       -0.414214\n",
       " -0.414214   1.0        1.0     \n",
       "  1.0       -0.414214   1.0     "
      ]
     },
     "execution_count": 82,
     "metadata": {},
     "output_type": "execute_result"
    }
   ],
   "source": [
    "MCD = angleaxis_to_dcm(a,v)      #  esto nos encuentra la matriz de consenos directores para ese vector  "
   ]
  },
  {
   "cell_type": "code",
   "execution_count": 83,
   "metadata": {},
   "outputs": [],
   "source": [
    "# newv = MCD*v   #   probamos la transformación"
   ]
  },
  {
   "cell_type": "code",
   "execution_count": 84,
   "metadata": {},
   "outputs": [
    {
     "data": {
      "text/plain": [
       "SArray{Tuple{3,3},Float64,2,9}"
      ]
     },
     "execution_count": 84,
     "metadata": {},
     "output_type": "execute_result"
    }
   ],
   "source": [
    "typeof(MCD)"
   ]
  },
  {
   "cell_type": "code",
   "execution_count": 85,
   "metadata": {},
   "outputs": [
    {
     "data": {
      "text/plain": [
       "3×3 SArray{Tuple{3,3},Int64,2,9}:\n",
       " 1  0  0\n",
       " 0  1  0\n",
       " 0  0  1"
      ]
     },
     "execution_count": 85,
     "metadata": {},
     "output_type": "execute_result"
    }
   ],
   "source": [
    "dcm=DCM([1 0 0; 0 1 0; 0 0 1])    # usamos como ejemplo esta matriz de cosenos directores"
   ]
  },
  {
   "cell_type": "code",
   "execution_count": 86,
   "metadata": {},
   "outputs": [
    {
     "data": {
      "text/plain": [
       "EulerAngles{Float64}:\n",
       "\u001b[32;1m  R(X): \u001b[0m  0.0000 rad (   0.0000 deg)\n",
       "\u001b[33;1m  R(Y): \u001b[0m  0.0000 rad (   0.0000 deg)\n",
       "\u001b[34;1m  R(Z): \u001b[0m  0.0000 rad (   0.0000 deg)"
      ]
     },
     "execution_count": 86,
     "metadata": {},
     "output_type": "execute_result"
    }
   ],
   "source": [
    "dcm_to_angle(dcm, :XYZ)    #  lo cual nos da los angulos de rotación con respecto a cada eje"
   ]
  },
  {
   "cell_type": "code",
   "execution_count": 87,
   "metadata": {},
   "outputs": [
    {
     "data": {
      "text/plain": [
       "EulerAngles{Float64}:\n",
       "\u001b[32;1m  R(X): \u001b[0m  0.7854 rad (  45.0000 deg)\n",
       "\u001b[33;1m  R(Y): \u001b[0m  1.5708 rad (  90.0000 deg)\n",
       "\u001b[34;1m  R(Z): \u001b[0m  0.0000 rad (   0.0000 deg)"
      ]
     },
     "execution_count": 87,
     "metadata": {},
     "output_type": "execute_result"
    }
   ],
   "source": [
    "dcm_to_angle(MCD, :XYZ)  # probando con la matriz generada anteriormente"
   ]
  },
  {
   "cell_type": "code",
   "execution_count": 88,
   "metadata": {},
   "outputs": [
    {
     "data": {
      "text/plain": [
       "3×3 SArray{Tuple{3,3},Float64,2,9}:\n",
       "  0.5        0.853553  0.146447\n",
       " -0.5        0.146447  0.853553\n",
       "  0.707107  -0.5       0.5     "
      ]
     },
     "execution_count": 88,
     "metadata": {},
     "output_type": "execute_result"
    }
   ],
   "source": [
    "dcm = angle_to_dcm(pi/4, pi/4, pi/4, :XYZ) # conversión de ángulos de Euler a MCD"
   ]
  },
  {
   "cell_type": "code",
   "execution_count": 89,
   "metadata": {},
   "outputs": [
    {
     "data": {
      "text/plain": [
       "EulerAngles{Float64}:\n",
       "\u001b[32;1m  R(X): \u001b[0m  0.7854 rad (  45.0000 deg)\n",
       "\u001b[33;1m  R(Y): \u001b[0m  0.7854 rad (  45.0000 deg)\n",
       "\u001b[34;1m  R(Z): \u001b[0m  0.7854 rad (  45.0000 deg)"
      ]
     },
     "execution_count": 89,
     "metadata": {},
     "output_type": "execute_result"
    }
   ],
   "source": [
    "dcm_to_angle(dcm, :XYZ)        #.  :XYZ especifica la secuencia de rotación"
   ]
  },
  {
   "cell_type": "code",
   "execution_count": 90,
   "metadata": {},
   "outputs": [
    {
     "data": {
      "text/plain": [
       "3×3 SArray{Tuple{3,3},Float64,2,9}:\n",
       " 0.5       -0.5        0.707107\n",
       " 0.853553   0.146447  -0.5     \n",
       " 0.146447   0.853553   0.5     "
      ]
     },
     "execution_count": 90,
     "metadata": {},
     "output_type": "execute_result"
    }
   ],
   "source": [
    "idcm = inv(dcm)  # calculamos la inversa de la matriz de cosenos directores"
   ]
  },
  {
   "cell_type": "code",
   "execution_count": 91,
   "metadata": {},
   "outputs": [
    {
     "data": {
      "text/plain": [
       "3-element Array{Int64,1}:\n",
       " 1\n",
       " 0\n",
       " 0"
      ]
     },
     "execution_count": 91,
     "metadata": {},
     "output_type": "execute_result"
    }
   ],
   "source": [
    "vu = [1;0;0]   # definimos un vector unitario"
   ]
  },
  {
   "cell_type": "code",
   "execution_count": 92,
   "metadata": {},
   "outputs": [
    {
     "data": {
      "text/plain": [
       "3-element SArray{Tuple{3},Float64,1,3}:\n",
       " 0.7071067811865476\n",
       " 0.5000000000000002\n",
       " 1.5               "
      ]
     },
     "execution_count": 92,
     "metadata": {},
     "output_type": "execute_result"
    }
   ],
   "source": [
    "vuprima = idcm*v # calculamos el vector en el sistema coordenado rotado"
   ]
  },
  {
   "cell_type": "markdown",
   "metadata": {},
   "source": [
    "#### Vamos a graficar el vector original y el rotado"
   ]
  },
  {
   "cell_type": "code",
   "execution_count": 93,
   "metadata": {},
   "outputs": [
    {
     "data": {
      "text/plain": [
       "true"
      ]
     },
     "execution_count": 93,
     "metadata": {},
     "output_type": "execute_result"
    }
   ],
   "source": [
    "pygui(true)  # para generar la ventana de graficación externa"
   ]
  },
  {
   "cell_type": "markdown",
   "metadata": {},
   "source": [
    "#### Definimos los extremos del vector para usar quiver"
   ]
  },
  {
   "cell_type": "code",
   "execution_count": 94,
   "metadata": {},
   "outputs": [
    {
     "data": {
      "text/plain": [
       "PyObject <mpl_toolkits.mplot3d.art3d.Line3DCollection object at 0x140c220f0>"
      ]
     },
     "execution_count": 94,
     "metadata": {},
     "output_type": "execute_result"
    }
   ],
   "source": [
    "x = [0;0;0]; y = [0;0;0]; z = [0;0;0]; u = [1;0;0]; v = [0;0;0]; w = [0;0;0]; \n",
    "fig = figure()\n",
    "xlim([-0.0, 1.5])\n",
    "ylim([-0.0, 1.5])\n",
    "zlim([-0.0, 1.5])\n",
    "quiver(x,y,z, u,v, w, lw =0.5)  # esto para inicializar quiver"
   ]
  },
  {
   "cell_type": "code",
   "execution_count": 95,
   "metadata": {},
   "outputs": [
    {
     "name": "stderr",
     "output_type": "stream",
     "text": [
      "┌ Warning: `getindex(f::Figure, x)` is deprecated, use `getproperty(f, x)` instead.\n",
      "│   caller = top-level scope at In[95]:2\n",
      "└ @ Core In[95]:2\n",
      "┌ Warning: `getindex(o::PyObject, s::Symbol)` is deprecated in favor of dot overloading (`getproperty`) so elements should now be accessed as e.g. `o.s` instead of `o[:s]`.\n",
      "│   caller = top-level scope at In[95]:3\n",
      "└ @ Core In[95]:3\n"
     ]
    },
    {
     "data": {
      "text/plain": [
       "(-0.0, 1.5)"
      ]
     },
     "execution_count": 95,
     "metadata": {},
     "output_type": "execute_result"
    }
   ],
   "source": [
    "fig = figure()\n",
    "ax = fig[:gca](projection=\"3d\")  # grafica los vectores en 3D, los ejes se pueden girar interactivamente.\n",
    "ax[:quiver](x,y,z, u,v, w)\n",
    "xlim([-0.0, 1.5])\n",
    "ylim([-0.0, 1.5])\n",
    "zlim([-0.0, 1.5])\n",
    "\n"
   ]
  },
  {
   "cell_type": "markdown",
   "metadata": {},
   "source": [
    "#### usando los componentes del vector encontrado anteriormente"
   ]
  },
  {
   "cell_type": "code",
   "execution_count": 96,
   "metadata": {},
   "outputs": [],
   "source": [
    "u = [vuprima[1];0;0]; v = [vuprima[2];0;0]; w = [vuprima[3];0;0];"
   ]
  },
  {
   "cell_type": "code",
   "execution_count": 97,
   "metadata": {},
   "outputs": [
    {
     "name": "stderr",
     "output_type": "stream",
     "text": [
      "┌ Warning: `getindex(f::Figure, x)` is deprecated, use `getproperty(f, x)` instead.\n",
      "│   caller = top-level scope at In[97]:2\n",
      "└ @ Core In[97]:2\n",
      "┌ Warning: `getindex(o::PyObject, s::Symbol)` is deprecated in favor of dot overloading (`getproperty`) so elements should now be accessed as e.g. `o.s` instead of `o[:s]`.\n",
      "│   caller = top-level scope at In[97]:3\n",
      "└ @ Core In[97]:3\n"
     ]
    },
    {
     "data": {
      "text/plain": [
       "(-0.0, 1.5)"
      ]
     },
     "execution_count": 97,
     "metadata": {},
     "output_type": "execute_result"
    }
   ],
   "source": [
    "fig = figure()\n",
    "ax = fig[:gca](projection=\"3d\")\n",
    "ax[:quiver](x,y,z, u,v, w)\n",
    "xlim([-0.0, 1.5])\n",
    "ylim([-0.0, 1.5])\n",
    "zlim([-0.0, 1.5])\n"
   ]
  },
  {
   "cell_type": "markdown",
   "metadata": {},
   "source": [
    "#### Notar que lo que hemos hecho es rotar el sistema de coordenadas, no el vector."
   ]
  },
  {
   "cell_type": "code",
   "execution_count": null,
   "metadata": {},
   "outputs": [],
   "source": []
  }
 ],
 "metadata": {
  "@webio": {
   "lastCommId": null,
   "lastKernelId": null
  },
  "kernelspec": {
   "display_name": "Julia 1.1.0",
   "language": "julia",
   "name": "julia-1.1"
  },
  "language_info": {
   "file_extension": ".jl",
   "mimetype": "application/julia",
   "name": "julia",
   "version": "1.1.0"
  }
 },
 "nbformat": 4,
 "nbformat_minor": 2
}

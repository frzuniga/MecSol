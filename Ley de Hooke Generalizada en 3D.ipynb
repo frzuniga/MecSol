{
 "cells": [
  {
   "cell_type": "markdown",
   "metadata": {},
   "source": [
    " \n",
    "## Mecánica de Sólidos\n",
    "## Ramón Zúñiga   Instituto de Geociencias UNAM\n",
    "\n",
    "## Ley de Hooke Generalizada en 3D\n",
    "\n",
    "\n",
    "\n",
    "### La **Ley de Hooke** en **tres dimensiones**, se expresa en forma matricial como:\n",
    "\n",
    "\\begin{equation}\n",
    "\\boldsymbol{\\sigma} = \\mathbf{C} \\boldsymbol{\\varepsilon}\n",
    "\\end{equation}\n",
    "\n",
    "donde:\n",
    "\n",
    "- $ \\boldsymbol{\\sigma} $ es el **tensor de esfuerzos**.\n",
    "- $ \\boldsymbol{\\varepsilon} $ es el **tensor de deformaciones**.\n",
    "- $ \\mathbf{C} $ es el **tensor de rigidez elástica** (o matriz constitutiva).\n",
    "\n",
    "---\n",
    "\n",
    "### Definir propiedades del material (Ejemplo: valores aproximados de una roca)\n"
   ]
  },
  {
   "cell_type": "code",
   "execution_count": 81,
   "metadata": {},
   "outputs": [
    {
     "data": {
      "text/plain": [
       "4.0e10"
      ]
     },
     "execution_count": 81,
     "metadata": {},
     "output_type": "execute_result"
    }
   ],
   "source": [
    "E = 40e9   # Módulo de Young en Pascales (Pa)\n"
   ]
  },
  {
   "cell_type": "code",
   "execution_count": 82,
   "metadata": {},
   "outputs": [
    {
     "data": {
      "text/plain": [
       "0.27"
      ]
     },
     "execution_count": 82,
     "metadata": {},
     "output_type": "execute_result"
    }
   ],
   "source": [
    "ν = 0.27     # Coeficiente de Poisson\n"
   ]
  },
  {
   "cell_type": "markdown",
   "metadata": {},
   "source": [
    "### Construir la matriz de rigidez elástica C para un material isotrópico"
   ]
  },
  {
   "cell_type": "code",
   "execution_count": 83,
   "metadata": {},
   "outputs": [
    {
     "data": {
      "text/plain": [
       "1.848681958233482e10"
      ]
     },
     "execution_count": 83,
     "metadata": {},
     "output_type": "execute_result"
    }
   ],
   "source": [
    "\n",
    "λ = (E * ν) / ((1 + ν) * (1 - 2ν))  # Primera constante de Lamé\n"
   ]
  },
  {
   "cell_type": "code",
   "execution_count": 84,
   "metadata": {},
   "outputs": [
    {
     "data": {
      "text/plain": [
       "1.5748031496062992e10"
      ]
     },
     "execution_count": 84,
     "metadata": {},
     "output_type": "execute_result"
    }
   ],
   "source": [
    "μ = E / (2 * (1 + ν))               # Segunda constante de Lamé (módulo de corte)\n"
   ]
  },
  {
   "cell_type": "code",
   "execution_count": 85,
   "metadata": {},
   "outputs": [
    {
     "data": {
      "text/plain": [
       "6×6 Matrix{Float64}:\n",
       " 4.99829e10  1.84868e10  1.84868e10  0.0        0.0        0.0\n",
       " 1.84868e10  4.99829e10  1.84868e10  0.0        0.0        0.0\n",
       " 1.84868e10  1.84868e10  4.99829e10  0.0        0.0        0.0\n",
       " 0.0         0.0         0.0         1.5748e10  0.0        0.0\n",
       " 0.0         0.0         0.0         0.0        1.5748e10  0.0\n",
       " 0.0         0.0         0.0         0.0        0.0        1.5748e10"
      ]
     },
     "execution_count": 85,
     "metadata": {},
     "output_type": "execute_result"
    }
   ],
   "source": [
    "C = [\n",
    "    λ + 2μ   λ        λ        0    0    0;\n",
    "    λ        λ + 2μ   λ        0    0    0;\n",
    "    λ        λ        λ + 2μ   0    0    0;\n",
    "    0        0        0        μ    0    0;\n",
    "    0        0        0        0    μ    0;\n",
    "    0        0        0        0    0    μ;\n",
    "]\n"
   ]
  },
  {
   "cell_type": "markdown",
   "metadata": {},
   "source": [
    "## **Tensor de Rigidez**\n",
    "\n",
    "El tensor de rigidez $ \\mathbf{C} $ en 3D para un **material isotrópico** se define como:\n",
    "\n",
    "\\begin{equation}\n",
    "\\mathbf{C} =\n",
    "\\begin{bmatrix}\n",
    "\\lambda + 2\\mu & \\lambda & \\lambda & 0 & 0 & 0 \\\\\n",
    "\\lambda & \\lambda + 2\\mu & \\lambda & 0 & 0 & 0 \\\\\n",
    "\\lambda & \\lambda & \\lambda + 2\\mu & 0 & 0 & 0 \\\\\n",
    "0 & 0 & 0 & \\mu & 0 & 0 \\\\\n",
    "0 & 0 & 0 & 0 & \\mu & 0 \\\\\n",
    "0 & 0 & 0 & 0 & 0 & \\mu\n",
    "\\end{bmatrix}\n",
    "\\end{equation}\n"
   ]
  },
  {
   "cell_type": "code",
   "execution_count": 86,
   "metadata": {},
   "outputs": [
    {
     "data": {
      "text/plain": [
       "6×6 Matrix{Float64}:\n",
       " 4.99829e10  1.84868e10  1.84868e10  0.0        0.0        0.0\n",
       " 1.84868e10  4.99829e10  1.84868e10  0.0        0.0        0.0\n",
       " 1.84868e10  1.84868e10  4.99829e10  0.0        0.0        0.0\n",
       " 0.0         0.0         0.0         1.5748e10  0.0        0.0\n",
       " 0.0         0.0         0.0         0.0        1.5748e10  0.0\n",
       " 0.0         0.0         0.0         0.0        0.0        1.5748e10"
      ]
     },
     "metadata": {},
     "output_type": "display_data"
    }
   ],
   "source": [
    "display(C)"
   ]
  },
  {
   "cell_type": "markdown",
   "metadata": {},
   "source": [
    "### Definir un tensor de deformaciones (Ejemplo)"
   ]
  },
  {
   "cell_type": "code",
   "execution_count": 87,
   "metadata": {},
   "outputs": [
    {
     "data": {
      "text/plain": [
       "6-element Vector{Float64}:\n",
       " 0.001\n",
       " 0.0005\n",
       " 0.0002\n",
       " 0.0\n",
       " 0.0\n",
       " 0.0"
      ]
     },
     "execution_count": 87,
     "metadata": {},
     "output_type": "execute_result"
    }
   ],
   "source": [
    "ε = [0.001, 0.0005, 0.0002, 0, 0, 0]  # Deformaciones en formato vector\n"
   ]
  },
  {
   "cell_type": "markdown",
   "metadata": {},
   "source": [
    "\n",
    "###  Calcular el tensor de esfuerzos usando la Ley de Hooke"
   ]
  },
  {
   "cell_type": "code",
   "execution_count": 88,
   "metadata": {},
   "outputs": [
    {
     "data": {
      "text/plain": [
       "6-element Vector{Float64}:\n",
       " 6.292365628209518e7\n",
       " 4.7175624786032185e7\n",
       " 3.772680588839439e7\n",
       " 0.0\n",
       " 0.0\n",
       " 0.0"
      ]
     },
     "execution_count": 88,
     "metadata": {},
     "output_type": "execute_result"
    }
   ],
   "source": [
    "σ = C * ε"
   ]
  },
  {
   "cell_type": "markdown",
   "metadata": {},
   "source": [
    "##  **Cálculo de los Esfuerzos**\n",
    "\n",
    "Aplicando la Ley de Hooke:\n",
    "\n",
    "\\begin{equation}\n",
    "\\boldsymbol{\\sigma} = \\mathbf{C} \\boldsymbol{\\varepsilon}\n",
    "\\end{equation}\n",
    "\n",
    "obtenemos:\n",
    "\n",
    "\\begin{equation}\n",
    "\\boldsymbol{\\sigma} =\n",
    "\\begin{bmatrix}\n",
    "\\sigma_{xx} \\\\\n",
    "\\sigma_{yy} \\\\\n",
    "\\sigma_{zz} \\\\\n",
    "\\tau_{xy} \\\\\n",
    "\\tau_{yz} \\\\\n",
    "\\tau_{xz}\n",
    "\\end{bmatrix}\n",
    "\\end{equation}\n"
   ]
  },
  {
   "cell_type": "code",
   "execution_count": 89,
   "metadata": {},
   "outputs": [
    {
     "data": {
      "text/plain": [
       "6-element Vector{Float64}:\n",
       " 6.292365628209518e7\n",
       " 4.7175624786032185e7\n",
       " 3.772680588839439e7\n",
       " 0.0\n",
       " 0.0\n",
       " 0.0"
      ]
     },
     "metadata": {},
     "output_type": "display_data"
    }
   ],
   "source": [
    "\n",
    "display(σ)\n"
   ]
  },
  {
   "cell_type": "markdown",
   "metadata": {},
   "source": [
    "## La **Ley de Hooke** en **1D** establece que el **esfuerzo** $ \\sigma $ es proporcional a la **deformación** $ \\varepsilon $ simplemente como:\n",
    "\n",
    "\\begin{equation}\n",
    "\\sigma = E \\varepsilon\n",
    "\\end{equation}\n",
    "\n",
    "donde:\n",
    "\n",
    "- $ E $ es el **módulo de elasticidad** o **módulo de Young**.\n",
    "- $ \\sigma $ es el **esfuerzo normal**.\n",
    "- $ \\varepsilon $ es la **deformación normal**."
   ]
  },
  {
   "cell_type": "code",
   "execution_count": null,
   "metadata": {},
   "outputs": [],
   "source": []
  }
 ],
 "metadata": {
  "kernelspec": {
   "display_name": "Julia 1.10.0-rc2",
   "language": "julia",
   "name": "julia-1.10"
  },
  "language_info": {
   "file_extension": ".jl",
   "mimetype": "application/julia",
   "name": "julia",
   "version": "1.10.5"
  }
 },
 "nbformat": 4,
 "nbformat_minor": 2
}

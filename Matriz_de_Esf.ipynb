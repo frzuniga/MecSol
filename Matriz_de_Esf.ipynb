{
 "cells": [
  {
   "cell_type": "markdown",
   "metadata": {},
   "source": [
    "### Ejemplos de Matriz Esfuerzos. \n",
    "#### Clase de Mecánica de Sólidos,   R. Zúñiga  2020-1. \n",
    "#### (Para correr teclear \"Shift-Enter\" en cada celda)\n",
    "#### Si se corre desde Julia Box se puede correr sin cambios, si se corre desde una instalación local de Julia se deben correr las siguientes entradas:\n",
    "#### Pkg.add(\"Plots\")\n",
    "#### Pkg.add(\"LinearAlgebra\")"
   ]
  },
  {
   "cell_type": "code",
   "execution_count": 26,
   "metadata": {},
   "outputs": [],
   "source": [
    "#using Pkg\n",
    "#Pkg.add(\"LinearAlgebra\")\n",
    "#Pkg.add(\"Plots\")\n",
    "#using Plots\n",
    "using LinearAlgebra"
   ]
  },
  {
   "cell_type": "markdown",
   "metadata": {},
   "source": [
    "### Vamos a trabajar ahora con una matriz de esfuerzos. \n",
    "#### Supongamos un bloque de material que está sometido a esfuerzos normales en sólo dos direcciones (sólo dos elementos de la diagonal no son cero)\n",
    "\n",
    "$\n",
    "   \\sigma=\n",
    "  \\left[ {\\begin{array}{cc}\n",
    "   1.0 & 0.0 & 0.0\\\\\n",
    "   0.0 & -1.0 & 0.0\\\\\n",
    "   0.0 & 0.0 & 0.0\\\\\n",
    "  \\end{array} } \\right]\n",
    "$"
   ]
  },
  {
   "cell_type": "code",
   "execution_count": 27,
   "metadata": {},
   "outputs": [
    {
     "data": {
      "text/plain": [
       "3×3 Array{Float64,2}:\n",
       " 1.0   0.0  0.0\n",
       " 0.0  -1.0  0.0\n",
       " 0.0   0.0  0.0"
      ]
     },
     "execution_count": 27,
     "metadata": {},
     "output_type": "execute_result"
    }
   ],
   "source": [
    "σ = [ 1.0 0.0 0.0\n",
    "      0.0 -1.0 0.0\n",
    "      0.0 0.0 0.0]"
   ]
  },
  {
   "cell_type": "markdown",
   "metadata": {},
   "source": [
    "#### Vamos a efectuar una rotación como sigue:\n",
    "$\n",
    "   \\sigma' = F * \\sigma * [F]^T=\n",
    "$"
   ]
  },
  {
   "cell_type": "markdown",
   "metadata": {},
   "source": [
    "#### Donde F es una matriz de transformación:\n",
    "$\n",
    "   F =\n",
    "  \\left[ {\\begin{array}{cc}\n",
    "   cos \\theta & sin \\theta & 0 \\\\\n",
    "   -sin \\theta & cos \\theta & 0.0 \\\\\n",
    "   0.0 & 0.0 & 1.0 \\\\\n",
    "  \\end{array} } \\right]\n",
    "$"
   ]
  },
  {
   "cell_type": "code",
   "execution_count": 28,
   "metadata": {},
   "outputs": [
    {
     "data": {
      "text/plain": [
       "3×3 Array{Float64,2}:\n",
       "  0.707107  0.707107  0.0\n",
       " -0.707107  0.707107  0.0\n",
       "  0.0       0.0       1.0"
      ]
     },
     "execution_count": 28,
     "metadata": {},
     "output_type": "execute_result"
    }
   ],
   "source": [
    "θ = π/4                    # veamos qué pasa para un ángulo \\theta\n",
    "F = [ cos(θ) sin(θ) 0.0\n",
    "    -sin(θ) cos(θ)   0.0\n",
    "      0.0 0.0 1.0]       "
   ]
  },
  {
   "cell_type": "code",
   "execution_count": 29,
   "metadata": {},
   "outputs": [
    {
     "data": {
      "text/plain": [
       "3×3 Array{Float64,2}:\n",
       "  2.22045e-16  -1.0          0.0\n",
       " -1.0          -2.22045e-16  0.0\n",
       "  0.0           0.0          0.0"
      ]
     },
     "execution_count": 29,
     "metadata": {},
     "output_type": "execute_result"
    }
   ],
   "source": [
    "σ1 = F*σ*transpose(F)"
   ]
  },
  {
   "cell_type": "markdown",
   "metadata": {},
   "source": [
    "#### Lo que resulta ahora es un tensor con componentes sólo en dos elementos fuera de la diagonal (los valores de la diagonal son prácticamente cero)\n",
    "$\n",
    "   \\sigma'=\n",
    "  \\left[ {\\begin{array}{cc}\n",
    "   0.0 & -1.0 & 0.0\\\\\n",
    "   -1.0 & 0.0 & 0.0\\\\\n",
    "   0.0 & 0.0 & 0.0\\\\\n",
    "  \\end{array} } \\right]\n",
    "$"
   ]
  },
  {
   "cell_type": "markdown",
   "metadata": {},
   "source": [
    "### Este ejercicio nos dice que es posible rotar un tensor de esfuerzo de esfuerzos normales y encontrar uno con sólo esfuerzos de cizalla si usamos una direccción adecuada."
   ]
  },
  {
   "cell_type": "code",
   "execution_count": null,
   "metadata": {},
   "outputs": [],
   "source": []
  }
 ],
 "metadata": {
  "kernelspec": {
   "display_name": "Julia 1.1.0",
   "language": "julia",
   "name": "julia-1.1"
  },
  "language_info": {
   "file_extension": ".jl",
   "mimetype": "application/julia",
   "name": "julia",
   "version": "1.1.0"
  }
 },
 "nbformat": 4,
 "nbformat_minor": 2
}

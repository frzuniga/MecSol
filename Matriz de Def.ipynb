{
 "cells": [
  {
   "cell_type": "markdown",
   "metadata": {},
   "source": [
    "### Matriz de Gradiente de Deformación, Matriz de Gradiente de Desplazamiento y Tensor de Deformación. \n",
    "#### Clase de Mecánica de Sólidos,   2021-2. \n",
    "#### R. Zúñiga, M. Cerca.\n",
    "(Consultar la pag. https://courses.eas.ualberta.ca/eas421/lecturepages/straintensors.html como información complementaria). <p>\n",
    "(Para correr teclear \"Shift-Enter\" en cada celda) <br />\n",
    "Si se corre desde Julia Box se puede correr sin cambios, si se corre desde una instalación local de Julia se deben instalar los siguientes paquetes mediante:\n",
    "using Pkg<br /> Pkg.add(\"Plots\")<br /> Pkg.add(\"LinearAlgebra\")"
   ]
  },
  {
   "cell_type": "code",
   "execution_count": 1,
   "metadata": {
    "collapsed": true
   },
   "outputs": [
    {
     "name": "stderr",
     "output_type": "stream",
     "text": [
      "\u001b[32m\u001b[1m   Updating\u001b[22m\u001b[39m registry at `~/.julia/registries/General`\n"
     ]
    },
    {
     "name": "stdout",
     "output_type": "stream",
     "text": [
      "\u001b[?25l\u001b[2K"
     ]
    },
    {
     "name": "stderr",
     "output_type": "stream",
     "text": [
      "\u001b[32m\u001b[1m   Updating\u001b[22m\u001b[39m git-repo `https://github.com/JuliaRegistries/General.git`\n"
     ]
    },
    {
     "name": "stdout",
     "output_type": "stream",
     "text": [
      "\u001b[?25h"
     ]
    },
    {
     "name": "stderr",
     "output_type": "stream",
     "text": [
      "\u001b[32m\u001b[1m  Resolving\u001b[22m\u001b[39m package versions...\n",
      "\u001b[32m\u001b[1mNo Changes\u001b[22m\u001b[39m to `~/.julia/environments/v1.5/Project.toml`\n",
      "\u001b[32m\u001b[1mNo Changes\u001b[22m\u001b[39m to `~/.julia/environments/v1.5/Manifest.toml`\n",
      "\u001b[32m\u001b[1m  Resolving\u001b[22m\u001b[39m package versions...\n",
      "\u001b[32m\u001b[1mNo Changes\u001b[22m\u001b[39m to `~/.julia/environments/v1.5/Project.toml`\n",
      "\u001b[32m\u001b[1mNo Changes\u001b[22m\u001b[39m to `~/.julia/environments/v1.5/Manifest.toml`\n"
     ]
    }
   ],
   "source": [
    "#using Pkg\n",
    "#Pkg.add(\"LinearAlgebra\")\n",
    "#Pkg.add(\"Plots\")\n",
    "using Plots\n",
    "using LinearAlgebra"
   ]
  },
  {
   "cell_type": "markdown",
   "metadata": {},
   "source": [
    "#### Definamos un punto o vector de posición, que llamamos x, por ejemplo:\n",
    " $ x = \\left[ {\\begin{array}{c}\n",
    "  1.0 \\\\\n",
    "   1.0 \\\\\n",
    "  \\end{array} } \\right] $"
   ]
  },
  {
   "cell_type": "code",
   "execution_count": 2,
   "metadata": {},
   "outputs": [
    {
     "data": {
      "text/plain": [
       "2-element Array{Float64,1}:\n",
       " 1.0\n",
       " 1.0"
      ]
     },
     "execution_count": 2,
     "metadata": {},
     "output_type": "execute_result"
    }
   ],
   "source": [
    "x = [1.0,1.0]"
   ]
  },
  {
   "cell_type": "markdown",
   "metadata": {},
   "source": [
    "### Vamos a trabajar ahora con una matriz de Gradiente de Deformación. \n",
    "#### La siguiente es una \"Cizalla simple¨ con valores de ejemplo\n",
    "$\n",
    "   F=\n",
    "  \\left[ {\\begin{array}{cc}\n",
    "   2.0 & 1.0 \\\\\n",
    "   0.0 & 2.0 \\\\\n",
    "  \\end{array} } \\right]\n",
    "$"
   ]
  },
  {
   "cell_type": "code",
   "execution_count": 3,
   "metadata": {},
   "outputs": [
    {
     "data": {
      "text/plain": [
       "2×2 Array{Float64,2}:\n",
       " 2.0  1.0\n",
       " 0.0  2.0"
      ]
     },
     "execution_count": 3,
     "metadata": {},
     "output_type": "execute_result"
    }
   ],
   "source": [
    "F = [ 2.0 1.0\n",
    "      0.0 2.0]"
   ]
  },
  {
   "cell_type": "markdown",
   "metadata": {},
   "source": [
    "#### Un caso de \"Cizalla pura\", sería como sigue:\n",
    "$\n",
    "   F=\n",
    "  \\left[ {\\begin{array}{cc}\n",
    "   2.0 & 0.0 \\\\\n",
    "   0.0 & 3.0 \\\\\n",
    "  \\end{array} } \\right]\n",
    "$"
   ]
  },
  {
   "cell_type": "code",
   "execution_count": 4,
   "metadata": {},
   "outputs": [
    {
     "data": {
      "text/plain": [
       "2×2 Array{Float64,2}:\n",
       " 2.0  0.0\n",
       " 0.0  3.0"
      ]
     },
     "execution_count": 4,
     "metadata": {},
     "output_type": "execute_result"
    }
   ],
   "source": [
    "FP = [ 2.0 0.0\n",
    "0.0 3.0]       # caso de cizalla pura"
   ]
  },
  {
   "cell_type": "markdown",
   "metadata": {},
   "source": [
    "### Usando la matriz de cizalla simple podemos calcular una matriz de \"Gradiente de Desplazamiento\" (la matriz que especificamos como J) como sigue:\n",
    "$\n",
    "   J= F - I=\n",
    "  \\left[ {\\begin{array}{cc}\n",
    "   2.0 & 1.0 \\\\\n",
    "   0.0 & 2.0 \\\\\n",
    "  \\end{array} } \\right]-\n",
    "  \\left[ {\\begin{array}{cc}\n",
    "   1.0 & 0.0 \\\\\n",
    "   0.0 & 1.0 \\\\\n",
    "  \\end{array} } \\right]=\n",
    "  \\left[ {\\begin{array}{cc}\n",
    "   1.0 & 1.0 \\\\\n",
    "   0.0 & 1.0 \\\\\n",
    "  \\end{array} } \\right]\n",
    "$"
   ]
  },
  {
   "cell_type": "code",
   "execution_count": 5,
   "metadata": {},
   "outputs": [
    {
     "data": {
      "text/plain": [
       "2×2 Array{Float64,2}:\n",
       " 1.0  1.0\n",
       " 0.0  1.0"
      ]
     },
     "execution_count": 5,
     "metadata": {},
     "output_type": "execute_result"
    }
   ],
   "source": [
    "J = (F-I)"
   ]
  },
  {
   "cell_type": "markdown",
   "metadata": {},
   "source": [
    "### y ahora podemos encontrar la posición del punto x desplazado a x´ durante una cizalla simple:\n",
    " $\n",
    " x'= [J] x = \n",
    "  \\left[ {\\begin{array}{cc}\n",
    "  1.0 & 1.0 \\\\\n",
    "   0.0 & 1.0 \\\\\n",
    "  \\end{array} } \\right]\n",
    "   \\left[ {\\begin{array}{c}\n",
    "  1.0 \\\\\n",
    "   1.0 \\\\\n",
    "  \\end{array} } \\right] =\n",
    "   \\left[ {\\begin{array}{c}\n",
    "  2.0 \\\\\n",
    "   1.0 \\\\\n",
    "  \\end{array} } \\right] \n",
    "  $"
   ]
  },
  {
   "cell_type": "code",
   "execution_count": 6,
   "metadata": {},
   "outputs": [
    {
     "data": {
      "text/plain": [
       "2-element Array{Float64,1}:\n",
       " 2.0\n",
       " 1.0"
      ]
     },
     "execution_count": 6,
     "metadata": {},
     "output_type": "execute_result"
    }
   ],
   "source": [
    "xp = J*x"
   ]
  },
  {
   "cell_type": "markdown",
   "metadata": {},
   "source": [
    "### Ahora veamos qué pasa con los puntos que forman un cuadrado con un vértice en el origen"
   ]
  },
  {
   "cell_type": "code",
   "execution_count": 7,
   "metadata": {},
   "outputs": [
    {
     "data": {
      "text/plain": [
       "5×2 Array{Float64,2}:\n",
       " 1.0  1.0\n",
       " 1.0  0.0\n",
       " 0.0  0.0\n",
       " 0.0  1.0\n",
       " 1.0  1.0"
      ]
     },
     "execution_count": 7,
     "metadata": {},
     "output_type": "execute_result"
    }
   ],
   "source": [
    "x1 = [1.0,1.0]; x2 = [1.0,0.0]; x3 = [0.0,0.0]; x4 = [0.0,1.0];\n",
    "X = [x1'; x2'; x3'; x4' ; x1' ]"
   ]
  },
  {
   "cell_type": "code",
   "execution_count": 8,
   "metadata": {},
   "outputs": [
    {
     "data": {
      "image/svg+xml": [
       "<?xml version=\"1.0\" encoding=\"utf-8\"?>\n",
       "<svg xmlns=\"http://www.w3.org/2000/svg\" xmlns:xlink=\"http://www.w3.org/1999/xlink\" width=\"600\" height=\"400\" viewBox=\"0 0 2400 1600\">\n",
       "<defs>\n",
       "  <clipPath id=\"clip140\">\n",
       "    <rect x=\"0\" y=\"0\" width=\"2400\" height=\"1600\"/>\n",
       "  </clipPath>\n",
       "</defs>\n",
       "<path clip-path=\"url(#clip140)\" d=\"\n",
       "M0 1600 L2400 1600 L2400 0 L0 0  Z\n",
       "  \" fill=\"#ffffff\" fill-rule=\"evenodd\" fill-opacity=\"1\"/>\n",
       "<defs>\n",
       "  <clipPath id=\"clip141\">\n",
       "    <rect x=\"480\" y=\"0\" width=\"1681\" height=\"1600\"/>\n",
       "  </clipPath>\n",
       "</defs>\n",
       "<path clip-path=\"url(#clip140)\" d=\"\n",
       "M110.881 1486.45 L2352.76 1486.45 L2352.76 47.2441 L110.881 47.2441  Z\n",
       "  \" fill=\"#ffffff\" fill-rule=\"evenodd\" fill-opacity=\"1\"/>\n",
       "<defs>\n",
       "  <clipPath id=\"clip142\">\n",
       "    <rect x=\"110\" y=\"47\" width=\"2243\" height=\"1440\"/>\n",
       "  </clipPath>\n",
       "</defs>\n",
       "<polyline clip-path=\"url(#clip142)\" style=\"stroke:#000000; stroke-width:2; stroke-opacity:0.1; fill:none\" points=\"\n",
       "  110.881,1486.45 110.881,47.2441 \n",
       "  \"/>\n",
       "<polyline clip-path=\"url(#clip142)\" style=\"stroke:#000000; stroke-width:2; stroke-opacity:0.1; fill:none\" points=\"\n",
       "  858.173,1486.45 858.173,47.2441 \n",
       "  \"/>\n",
       "<polyline clip-path=\"url(#clip142)\" style=\"stroke:#000000; stroke-width:2; stroke-opacity:0.1; fill:none\" points=\"\n",
       "  1605.46,1486.45 1605.46,47.2441 \n",
       "  \"/>\n",
       "<polyline clip-path=\"url(#clip142)\" style=\"stroke:#000000; stroke-width:2; stroke-opacity:0.1; fill:none\" points=\"\n",
       "  2352.76,1486.45 2352.76,47.2441 \n",
       "  \"/>\n",
       "<polyline clip-path=\"url(#clip140)\" style=\"stroke:#000000; stroke-width:4; stroke-opacity:1; fill:none\" points=\"\n",
       "  110.881,1486.45 2352.76,1486.45 \n",
       "  \"/>\n",
       "<polyline clip-path=\"url(#clip140)\" style=\"stroke:#000000; stroke-width:4; stroke-opacity:1; fill:none\" points=\"\n",
       "  110.881,1486.45 110.881,1469.18 \n",
       "  \"/>\n",
       "<polyline clip-path=\"url(#clip140)\" style=\"stroke:#000000; stroke-width:4; stroke-opacity:1; fill:none\" points=\"\n",
       "  858.173,1486.45 858.173,1469.18 \n",
       "  \"/>\n",
       "<polyline clip-path=\"url(#clip140)\" style=\"stroke:#000000; stroke-width:4; stroke-opacity:1; fill:none\" points=\"\n",
       "  1605.46,1486.45 1605.46,1469.18 \n",
       "  \"/>\n",
       "<polyline clip-path=\"url(#clip140)\" style=\"stroke:#000000; stroke-width:4; stroke-opacity:1; fill:none\" points=\"\n",
       "  2352.76,1486.45 2352.76,1469.18 \n",
       "  \"/>\n",
       "<path clip-path=\"url(#clip140)\" d=\"M 0 0 M110.881 1515.64 Q107.27 1515.64 105.441 1519.2 Q103.636 1522.75 103.636 1529.87 Q103.636 1536.98 105.441 1540.55 Q107.27 1544.09 110.881 1544.09 Q114.515 1544.09 116.321 1540.55 Q118.149 1536.98 118.149 1529.87 Q118.149 1522.75 116.321 1519.2 Q114.515 1515.64 110.881 1515.64 M110.881 1511.93 Q116.691 1511.93 119.747 1516.54 Q122.825 1521.12 122.825 1529.87 Q122.825 1538.6 119.747 1543.21 Q116.691 1547.79 110.881 1547.79 Q105.071 1547.79 101.992 1543.21 Q98.9365 1538.6 98.9365 1529.87 Q98.9365 1521.12 101.992 1516.54 Q105.071 1511.93 110.881 1511.93 Z\" fill=\"#000000\" fill-rule=\"evenodd\" fill-opacity=\"1\" /><path clip-path=\"url(#clip140)\" d=\"M 0 0 M848.555 1543.18 L856.193 1543.18 L856.193 1516.82 L847.883 1518.49 L847.883 1514.23 L856.147 1512.56 L860.823 1512.56 L860.823 1543.18 L868.462 1543.18 L868.462 1547.12 L848.555 1547.12 L848.555 1543.18 Z\" fill=\"#000000\" fill-rule=\"evenodd\" fill-opacity=\"1\" /><path clip-path=\"url(#clip140)\" d=\"M 0 0 M1600.12 1543.18 L1616.44 1543.18 L1616.44 1547.12 L1594.49 1547.12 L1594.49 1543.18 Q1597.15 1540.43 1601.74 1535.8 Q1606.34 1531.15 1607.52 1529.81 Q1609.77 1527.28 1610.65 1525.55 Q1611.55 1523.79 1611.55 1522.1 Q1611.55 1519.34 1609.61 1517.61 Q1607.69 1515.87 1604.58 1515.87 Q1602.39 1515.87 1599.93 1516.63 Q1597.5 1517.4 1594.72 1518.95 L1594.72 1514.23 Q1597.55 1513.09 1600 1512.51 Q1602.45 1511.93 1604.49 1511.93 Q1609.86 1511.93 1613.06 1514.62 Q1616.25 1517.31 1616.25 1521.8 Q1616.25 1523.93 1615.44 1525.85 Q1614.65 1527.74 1612.55 1530.34 Q1611.97 1531.01 1608.87 1534.23 Q1605.77 1537.42 1600.12 1543.18 Z\" fill=\"#000000\" fill-rule=\"evenodd\" fill-opacity=\"1\" /><path clip-path=\"url(#clip140)\" d=\"M 0 0 M2357 1528.49 Q2360.36 1529.2 2362.24 1531.47 Q2364.13 1533.74 2364.13 1537.07 Q2364.13 1542.19 2360.61 1544.99 Q2357.1 1547.79 2350.61 1547.79 Q2348.44 1547.79 2346.12 1547.35 Q2343.83 1546.93 2341.38 1546.08 L2341.38 1541.56 Q2343.32 1542.7 2345.64 1543.28 Q2347.95 1543.86 2350.48 1543.86 Q2354.87 1543.86 2357.17 1542.12 Q2359.48 1540.38 2359.48 1537.07 Q2359.48 1534.02 2357.33 1532.31 Q2355.2 1530.57 2351.38 1530.57 L2347.35 1530.57 L2347.35 1526.73 L2351.56 1526.73 Q2355.01 1526.73 2356.84 1525.36 Q2358.67 1523.97 2358.67 1521.38 Q2358.67 1518.72 2356.77 1517.31 Q2354.9 1515.87 2351.38 1515.87 Q2349.46 1515.87 2347.26 1516.29 Q2345.06 1516.7 2342.42 1517.58 L2342.42 1513.42 Q2345.08 1512.68 2347.4 1512.31 Q2349.74 1511.93 2351.8 1511.93 Q2357.12 1511.93 2360.22 1514.37 Q2363.32 1516.77 2363.32 1520.89 Q2363.32 1523.76 2361.68 1525.75 Q2360.04 1527.72 2357 1528.49 Z\" fill=\"#000000\" fill-rule=\"evenodd\" fill-opacity=\"1\" /><polyline clip-path=\"url(#clip142)\" style=\"stroke:#000000; stroke-width:2; stroke-opacity:0.1; fill:none\" points=\"\n",
       "  110.881,1486.45 2352.76,1486.45 \n",
       "  \"/>\n",
       "<polyline clip-path=\"url(#clip142)\" style=\"stroke:#000000; stroke-width:2; stroke-opacity:0.1; fill:none\" points=\"\n",
       "  110.881,1006.71 2352.76,1006.71 \n",
       "  \"/>\n",
       "<polyline clip-path=\"url(#clip142)\" style=\"stroke:#000000; stroke-width:2; stroke-opacity:0.1; fill:none\" points=\"\n",
       "  110.881,526.979 2352.76,526.979 \n",
       "  \"/>\n",
       "<polyline clip-path=\"url(#clip142)\" style=\"stroke:#000000; stroke-width:2; stroke-opacity:0.1; fill:none\" points=\"\n",
       "  110.881,47.2441 2352.76,47.2441 \n",
       "  \"/>\n",
       "<polyline clip-path=\"url(#clip140)\" style=\"stroke:#000000; stroke-width:4; stroke-opacity:1; fill:none\" points=\"\n",
       "  110.881,1486.45 110.881,47.2441 \n",
       "  \"/>\n",
       "<polyline clip-path=\"url(#clip140)\" style=\"stroke:#000000; stroke-width:4; stroke-opacity:1; fill:none\" points=\"\n",
       "  110.881,1486.45 137.783,1486.45 \n",
       "  \"/>\n",
       "<polyline clip-path=\"url(#clip140)\" style=\"stroke:#000000; stroke-width:4; stroke-opacity:1; fill:none\" points=\"\n",
       "  110.881,1006.71 137.783,1006.71 \n",
       "  \"/>\n",
       "<polyline clip-path=\"url(#clip140)\" style=\"stroke:#000000; stroke-width:4; stroke-opacity:1; fill:none\" points=\"\n",
       "  110.881,526.979 137.783,526.979 \n",
       "  \"/>\n",
       "<polyline clip-path=\"url(#clip140)\" style=\"stroke:#000000; stroke-width:4; stroke-opacity:1; fill:none\" points=\"\n",
       "  110.881,47.2441 137.783,47.2441 \n",
       "  \"/>\n",
       "<path clip-path=\"url(#clip140)\" d=\"M 0 0 M62.9365 1472.25 Q59.3254 1472.25 57.4967 1475.81 Q55.6912 1479.35 55.6912 1486.48 Q55.6912 1493.59 57.4967 1497.15 Q59.3254 1500.7 62.9365 1500.7 Q66.5707 1500.7 68.3763 1497.15 Q70.205 1493.59 70.205 1486.48 Q70.205 1479.35 68.3763 1475.81 Q66.5707 1472.25 62.9365 1472.25 M62.9365 1468.54 Q68.7467 1468.54 71.8022 1473.15 Q74.8809 1477.73 74.8809 1486.48 Q74.8809 1495.21 71.8022 1499.82 Q68.7467 1504.4 62.9365 1504.4 Q57.1264 1504.4 54.0477 1499.82 Q50.9921 1495.21 50.9921 1486.48 Q50.9921 1477.73 54.0477 1473.15 Q57.1264 1468.54 62.9365 1468.54 Z\" fill=\"#000000\" fill-rule=\"evenodd\" fill-opacity=\"1\" /><path clip-path=\"url(#clip140)\" d=\"M 0 0 M54.9736 1020.06 L62.6124 1020.06 L62.6124 993.693 L54.3023 995.359 L54.3023 991.1 L62.5661 989.433 L67.242 989.433 L67.242 1020.06 L74.8809 1020.06 L74.8809 1023.99 L54.9736 1023.99 L54.9736 1020.06 Z\" fill=\"#000000\" fill-rule=\"evenodd\" fill-opacity=\"1\" /><path clip-path=\"url(#clip140)\" d=\"M 0 0 M58.5615 540.324 L74.8809 540.324 L74.8809 544.259 L52.9366 544.259 L52.9366 540.324 Q55.5986 537.569 60.1819 532.939 Q64.7883 528.287 65.9689 526.944 Q68.2143 524.421 69.0939 522.685 Q69.9967 520.925 69.9967 519.236 Q69.9967 516.481 68.0522 514.745 Q66.1309 513.009 63.0291 513.009 Q60.83 513.009 58.3763 513.773 Q55.9458 514.537 53.168 516.088 L53.168 511.365 Q55.9921 510.231 58.4458 509.652 Q60.8995 509.074 62.9365 509.074 Q68.3068 509.074 71.5013 511.759 Q74.6957 514.444 74.6957 518.935 Q74.6957 521.064 73.8855 522.986 Q73.0985 524.884 70.992 527.476 Q70.4133 528.148 67.3115 531.365 Q64.2096 534.56 58.5615 540.324 Z\" fill=\"#000000\" fill-rule=\"evenodd\" fill-opacity=\"1\" /><path clip-path=\"url(#clip140)\" d=\"M 0 0 M67.7513 45.8899 Q71.1078 46.6075 72.9827 48.876 Q74.8809 51.1445 74.8809 54.4779 Q74.8809 59.5936 71.3624 62.3945 Q67.8439 65.1954 61.3624 65.1954 Q59.1865 65.1954 56.8717 64.7556 Q54.5801 64.3389 52.1264 63.4824 L52.1264 58.9686 Q54.0708 60.1028 56.3856 60.6815 Q58.7004 61.2602 61.2236 61.2602 Q65.6217 61.2602 67.9133 59.5241 Q70.2281 57.788 70.2281 54.4779 Q70.2281 51.4223 68.0754 49.7094 Q65.9457 47.9733 62.1263 47.9733 L58.0986 47.9733 L58.0986 44.1307 L62.3115 44.1307 Q65.7606 44.1307 67.5893 42.765 Q69.418 41.3761 69.418 38.7835 Q69.418 36.1215 67.5198 34.7094 Q65.6448 33.2743 62.1263 33.2743 Q60.205 33.2743 58.006 33.6909 Q55.8069 34.1076 53.168 34.9872 L53.168 30.8206 Q55.8301 30.0798 58.1449 29.7095 Q60.4828 29.3391 62.543 29.3391 Q67.867 29.3391 70.9689 31.7696 Q74.0707 34.177 74.0707 38.2974 Q74.0707 41.1677 72.4272 43.1585 Q70.7837 45.1261 67.7513 45.8899 Z\" fill=\"#000000\" fill-rule=\"evenodd\" fill-opacity=\"1\" /><polyline clip-path=\"url(#clip142)\" style=\"stroke:#008000; stroke-width:12; stroke-opacity:1; fill:none\" stroke-dasharray=\"48, 30\" points=\"\n",
       "  858.173,1006.71 858.173,1486.45 110.881,1486.45 110.881,1006.71 858.173,1006.71 \n",
       "  \"/>\n",
       "<circle clip-path=\"url(#clip142)\" cx=\"858.173\" cy=\"1006.71\" r=\"28\" fill=\"#008000\" fill-rule=\"evenodd\" fill-opacity=\"1\" stroke=\"#000000\" stroke-opacity=\"1\" stroke-width=\"3.2\"/>\n",
       "<circle clip-path=\"url(#clip142)\" cx=\"858.173\" cy=\"1486.45\" r=\"28\" fill=\"#008000\" fill-rule=\"evenodd\" fill-opacity=\"1\" stroke=\"#000000\" stroke-opacity=\"1\" stroke-width=\"3.2\"/>\n",
       "<circle clip-path=\"url(#clip142)\" cx=\"110.881\" cy=\"1486.45\" r=\"28\" fill=\"#008000\" fill-rule=\"evenodd\" fill-opacity=\"1\" stroke=\"#000000\" stroke-opacity=\"1\" stroke-width=\"3.2\"/>\n",
       "<circle clip-path=\"url(#clip142)\" cx=\"110.881\" cy=\"1006.71\" r=\"28\" fill=\"#008000\" fill-rule=\"evenodd\" fill-opacity=\"1\" stroke=\"#000000\" stroke-opacity=\"1\" stroke-width=\"3.2\"/>\n",
       "<circle clip-path=\"url(#clip142)\" cx=\"858.173\" cy=\"1006.71\" r=\"28\" fill=\"#008000\" fill-rule=\"evenodd\" fill-opacity=\"1\" stroke=\"#000000\" stroke-opacity=\"1\" stroke-width=\"3.2\"/>\n",
       "</svg>\n"
      ]
     },
     "execution_count": 8,
     "metadata": {},
     "output_type": "execute_result"
    }
   ],
   "source": [
    "p1 = plot(X[:,1],X[:,2], line=(3,:dash,:green),m=(8,:green), leg = false, xlims = (0,3), ylims = (0,3))"
   ]
  },
  {
   "cell_type": "markdown",
   "metadata": {},
   "source": [
    "### transformando con la matriz de Gradiente de Desplazamiento de cizalla simple\n",
    "$\n",
    " x1'= [J] x1 = \n",
    "  \\left[ {\\begin{array}{cc}\n",
    "  1.0 & 1.0 \\\\\n",
    "   0.0 & 1.0 \\\\\n",
    "  \\end{array} } \\right]\n",
    "   \\left[ {\\begin{array}{c}\n",
    "  1.0 \\\\\n",
    "   1.0 \\\\\n",
    "  \\end{array} } \\right] =\n",
    "   \\left[ {\\begin{array}{c}\n",
    "  2.0 \\\\\n",
    "   1.0 \\\\\n",
    "  \\end{array} } \\right] \n",
    "  $\n",
    "  ### y así sucesivamente con cada punto"
   ]
  },
  {
   "cell_type": "code",
   "execution_count": 9,
   "metadata": {},
   "outputs": [
    {
     "data": {
      "text/plain": [
       "5×2 Array{Float64,2}:\n",
       " 2.0  1.0\n",
       " 1.0  0.0\n",
       " 0.0  0.0\n",
       " 1.0  1.0\n",
       " 2.0  1.0"
      ]
     },
     "execution_count": 9,
     "metadata": {},
     "output_type": "execute_result"
    }
   ],
   "source": [
    "x1p = J*x1; x2p = J*x2; x3p = J*x3; x4p = J*x4;\n",
    "XP = [x1p'; x2p'; x3p'; x4p' ; x1p']"
   ]
  },
  {
   "cell_type": "markdown",
   "metadata": {},
   "source": [
    "### El resultado es el cudrado rojo con los puntos desplazados, el verde son los puntos originales "
   ]
  },
  {
   "cell_type": "code",
   "execution_count": 10,
   "metadata": {},
   "outputs": [
    {
     "data": {
      "image/svg+xml": [
       "<?xml version=\"1.0\" encoding=\"utf-8\"?>\n",
       "<svg xmlns=\"http://www.w3.org/2000/svg\" xmlns:xlink=\"http://www.w3.org/1999/xlink\" width=\"600\" height=\"400\" viewBox=\"0 0 2400 1600\">\n",
       "<defs>\n",
       "  <clipPath id=\"clip180\">\n",
       "    <rect x=\"0\" y=\"0\" width=\"2400\" height=\"1600\"/>\n",
       "  </clipPath>\n",
       "</defs>\n",
       "<path clip-path=\"url(#clip180)\" d=\"\n",
       "M0 1600 L2400 1600 L2400 0 L0 0  Z\n",
       "  \" fill=\"#ffffff\" fill-rule=\"evenodd\" fill-opacity=\"1\"/>\n",
       "<defs>\n",
       "  <clipPath id=\"clip181\">\n",
       "    <rect x=\"480\" y=\"0\" width=\"1681\" height=\"1600\"/>\n",
       "  </clipPath>\n",
       "</defs>\n",
       "<path clip-path=\"url(#clip180)\" d=\"\n",
       "M110.881 1486.45 L2352.76 1486.45 L2352.76 47.2441 L110.881 47.2441  Z\n",
       "  \" fill=\"#ffffff\" fill-rule=\"evenodd\" fill-opacity=\"1\"/>\n",
       "<defs>\n",
       "  <clipPath id=\"clip182\">\n",
       "    <rect x=\"110\" y=\"47\" width=\"2243\" height=\"1440\"/>\n",
       "  </clipPath>\n",
       "</defs>\n",
       "<polyline clip-path=\"url(#clip182)\" style=\"stroke:#000000; stroke-width:2; stroke-opacity:0.1; fill:none\" points=\"\n",
       "  110.881,1486.45 110.881,47.2441 \n",
       "  \"/>\n",
       "<polyline clip-path=\"url(#clip182)\" style=\"stroke:#000000; stroke-width:2; stroke-opacity:0.1; fill:none\" points=\"\n",
       "  858.173,1486.45 858.173,47.2441 \n",
       "  \"/>\n",
       "<polyline clip-path=\"url(#clip182)\" style=\"stroke:#000000; stroke-width:2; stroke-opacity:0.1; fill:none\" points=\"\n",
       "  1605.46,1486.45 1605.46,47.2441 \n",
       "  \"/>\n",
       "<polyline clip-path=\"url(#clip182)\" style=\"stroke:#000000; stroke-width:2; stroke-opacity:0.1; fill:none\" points=\"\n",
       "  2352.76,1486.45 2352.76,47.2441 \n",
       "  \"/>\n",
       "<polyline clip-path=\"url(#clip180)\" style=\"stroke:#000000; stroke-width:4; stroke-opacity:1; fill:none\" points=\"\n",
       "  110.881,1486.45 2352.76,1486.45 \n",
       "  \"/>\n",
       "<polyline clip-path=\"url(#clip180)\" style=\"stroke:#000000; stroke-width:4; stroke-opacity:1; fill:none\" points=\"\n",
       "  110.881,1486.45 110.881,1469.18 \n",
       "  \"/>\n",
       "<polyline clip-path=\"url(#clip180)\" style=\"stroke:#000000; stroke-width:4; stroke-opacity:1; fill:none\" points=\"\n",
       "  858.173,1486.45 858.173,1469.18 \n",
       "  \"/>\n",
       "<polyline clip-path=\"url(#clip180)\" style=\"stroke:#000000; stroke-width:4; stroke-opacity:1; fill:none\" points=\"\n",
       "  1605.46,1486.45 1605.46,1469.18 \n",
       "  \"/>\n",
       "<polyline clip-path=\"url(#clip180)\" style=\"stroke:#000000; stroke-width:4; stroke-opacity:1; fill:none\" points=\"\n",
       "  2352.76,1486.45 2352.76,1469.18 \n",
       "  \"/>\n",
       "<path clip-path=\"url(#clip180)\" d=\"M 0 0 M110.881 1515.64 Q107.27 1515.64 105.441 1519.2 Q103.636 1522.75 103.636 1529.87 Q103.636 1536.98 105.441 1540.55 Q107.27 1544.09 110.881 1544.09 Q114.515 1544.09 116.321 1540.55 Q118.149 1536.98 118.149 1529.87 Q118.149 1522.75 116.321 1519.2 Q114.515 1515.64 110.881 1515.64 M110.881 1511.93 Q116.691 1511.93 119.747 1516.54 Q122.825 1521.12 122.825 1529.87 Q122.825 1538.6 119.747 1543.21 Q116.691 1547.79 110.881 1547.79 Q105.071 1547.79 101.992 1543.21 Q98.9365 1538.6 98.9365 1529.87 Q98.9365 1521.12 101.992 1516.54 Q105.071 1511.93 110.881 1511.93 Z\" fill=\"#000000\" fill-rule=\"evenodd\" fill-opacity=\"1\" /><path clip-path=\"url(#clip180)\" d=\"M 0 0 M848.555 1543.18 L856.193 1543.18 L856.193 1516.82 L847.883 1518.49 L847.883 1514.23 L856.147 1512.56 L860.823 1512.56 L860.823 1543.18 L868.462 1543.18 L868.462 1547.12 L848.555 1547.12 L848.555 1543.18 Z\" fill=\"#000000\" fill-rule=\"evenodd\" fill-opacity=\"1\" /><path clip-path=\"url(#clip180)\" d=\"M 0 0 M1600.12 1543.18 L1616.44 1543.18 L1616.44 1547.12 L1594.49 1547.12 L1594.49 1543.18 Q1597.15 1540.43 1601.74 1535.8 Q1606.34 1531.15 1607.52 1529.81 Q1609.77 1527.28 1610.65 1525.55 Q1611.55 1523.79 1611.55 1522.1 Q1611.55 1519.34 1609.61 1517.61 Q1607.69 1515.87 1604.58 1515.87 Q1602.39 1515.87 1599.93 1516.63 Q1597.5 1517.4 1594.72 1518.95 L1594.72 1514.23 Q1597.55 1513.09 1600 1512.51 Q1602.45 1511.93 1604.49 1511.93 Q1609.86 1511.93 1613.06 1514.62 Q1616.25 1517.31 1616.25 1521.8 Q1616.25 1523.93 1615.44 1525.85 Q1614.65 1527.74 1612.55 1530.34 Q1611.97 1531.01 1608.87 1534.23 Q1605.77 1537.42 1600.12 1543.18 Z\" fill=\"#000000\" fill-rule=\"evenodd\" fill-opacity=\"1\" /><path clip-path=\"url(#clip180)\" d=\"M 0 0 M2357 1528.49 Q2360.36 1529.2 2362.24 1531.47 Q2364.13 1533.74 2364.13 1537.07 Q2364.13 1542.19 2360.61 1544.99 Q2357.1 1547.79 2350.61 1547.79 Q2348.44 1547.79 2346.12 1547.35 Q2343.83 1546.93 2341.38 1546.08 L2341.38 1541.56 Q2343.32 1542.7 2345.64 1543.28 Q2347.95 1543.86 2350.48 1543.86 Q2354.87 1543.86 2357.17 1542.12 Q2359.48 1540.38 2359.48 1537.07 Q2359.48 1534.02 2357.33 1532.31 Q2355.2 1530.57 2351.38 1530.57 L2347.35 1530.57 L2347.35 1526.73 L2351.56 1526.73 Q2355.01 1526.73 2356.84 1525.36 Q2358.67 1523.97 2358.67 1521.38 Q2358.67 1518.72 2356.77 1517.31 Q2354.9 1515.87 2351.38 1515.87 Q2349.46 1515.87 2347.26 1516.29 Q2345.06 1516.7 2342.42 1517.58 L2342.42 1513.42 Q2345.08 1512.68 2347.4 1512.31 Q2349.74 1511.93 2351.8 1511.93 Q2357.12 1511.93 2360.22 1514.37 Q2363.32 1516.77 2363.32 1520.89 Q2363.32 1523.76 2361.68 1525.75 Q2360.04 1527.72 2357 1528.49 Z\" fill=\"#000000\" fill-rule=\"evenodd\" fill-opacity=\"1\" /><polyline clip-path=\"url(#clip182)\" style=\"stroke:#000000; stroke-width:2; stroke-opacity:0.1; fill:none\" points=\"\n",
       "  110.881,1486.45 2352.76,1486.45 \n",
       "  \"/>\n",
       "<polyline clip-path=\"url(#clip182)\" style=\"stroke:#000000; stroke-width:2; stroke-opacity:0.1; fill:none\" points=\"\n",
       "  110.881,1006.71 2352.76,1006.71 \n",
       "  \"/>\n",
       "<polyline clip-path=\"url(#clip182)\" style=\"stroke:#000000; stroke-width:2; stroke-opacity:0.1; fill:none\" points=\"\n",
       "  110.881,526.979 2352.76,526.979 \n",
       "  \"/>\n",
       "<polyline clip-path=\"url(#clip182)\" style=\"stroke:#000000; stroke-width:2; stroke-opacity:0.1; fill:none\" points=\"\n",
       "  110.881,47.2441 2352.76,47.2441 \n",
       "  \"/>\n",
       "<polyline clip-path=\"url(#clip180)\" style=\"stroke:#000000; stroke-width:4; stroke-opacity:1; fill:none\" points=\"\n",
       "  110.881,1486.45 110.881,47.2441 \n",
       "  \"/>\n",
       "<polyline clip-path=\"url(#clip180)\" style=\"stroke:#000000; stroke-width:4; stroke-opacity:1; fill:none\" points=\"\n",
       "  110.881,1486.45 137.783,1486.45 \n",
       "  \"/>\n",
       "<polyline clip-path=\"url(#clip180)\" style=\"stroke:#000000; stroke-width:4; stroke-opacity:1; fill:none\" points=\"\n",
       "  110.881,1006.71 137.783,1006.71 \n",
       "  \"/>\n",
       "<polyline clip-path=\"url(#clip180)\" style=\"stroke:#000000; stroke-width:4; stroke-opacity:1; fill:none\" points=\"\n",
       "  110.881,526.979 137.783,526.979 \n",
       "  \"/>\n",
       "<polyline clip-path=\"url(#clip180)\" style=\"stroke:#000000; stroke-width:4; stroke-opacity:1; fill:none\" points=\"\n",
       "  110.881,47.2441 137.783,47.2441 \n",
       "  \"/>\n",
       "<path clip-path=\"url(#clip180)\" d=\"M 0 0 M62.9365 1472.25 Q59.3254 1472.25 57.4967 1475.81 Q55.6912 1479.35 55.6912 1486.48 Q55.6912 1493.59 57.4967 1497.15 Q59.3254 1500.7 62.9365 1500.7 Q66.5707 1500.7 68.3763 1497.15 Q70.205 1493.59 70.205 1486.48 Q70.205 1479.35 68.3763 1475.81 Q66.5707 1472.25 62.9365 1472.25 M62.9365 1468.54 Q68.7467 1468.54 71.8022 1473.15 Q74.8809 1477.73 74.8809 1486.48 Q74.8809 1495.21 71.8022 1499.82 Q68.7467 1504.4 62.9365 1504.4 Q57.1264 1504.4 54.0477 1499.82 Q50.9921 1495.21 50.9921 1486.48 Q50.9921 1477.73 54.0477 1473.15 Q57.1264 1468.54 62.9365 1468.54 Z\" fill=\"#000000\" fill-rule=\"evenodd\" fill-opacity=\"1\" /><path clip-path=\"url(#clip180)\" d=\"M 0 0 M54.9736 1020.06 L62.6124 1020.06 L62.6124 993.693 L54.3023 995.359 L54.3023 991.1 L62.5661 989.433 L67.242 989.433 L67.242 1020.06 L74.8809 1020.06 L74.8809 1023.99 L54.9736 1023.99 L54.9736 1020.06 Z\" fill=\"#000000\" fill-rule=\"evenodd\" fill-opacity=\"1\" /><path clip-path=\"url(#clip180)\" d=\"M 0 0 M58.5615 540.324 L74.8809 540.324 L74.8809 544.259 L52.9366 544.259 L52.9366 540.324 Q55.5986 537.569 60.1819 532.939 Q64.7883 528.287 65.9689 526.944 Q68.2143 524.421 69.0939 522.685 Q69.9967 520.925 69.9967 519.236 Q69.9967 516.481 68.0522 514.745 Q66.1309 513.009 63.0291 513.009 Q60.83 513.009 58.3763 513.773 Q55.9458 514.537 53.168 516.088 L53.168 511.365 Q55.9921 510.231 58.4458 509.652 Q60.8995 509.074 62.9365 509.074 Q68.3068 509.074 71.5013 511.759 Q74.6957 514.444 74.6957 518.935 Q74.6957 521.064 73.8855 522.986 Q73.0985 524.884 70.992 527.476 Q70.4133 528.148 67.3115 531.365 Q64.2096 534.56 58.5615 540.324 Z\" fill=\"#000000\" fill-rule=\"evenodd\" fill-opacity=\"1\" /><path clip-path=\"url(#clip180)\" d=\"M 0 0 M67.7513 45.8899 Q71.1078 46.6075 72.9827 48.876 Q74.8809 51.1445 74.8809 54.4779 Q74.8809 59.5936 71.3624 62.3945 Q67.8439 65.1954 61.3624 65.1954 Q59.1865 65.1954 56.8717 64.7556 Q54.5801 64.3389 52.1264 63.4824 L52.1264 58.9686 Q54.0708 60.1028 56.3856 60.6815 Q58.7004 61.2602 61.2236 61.2602 Q65.6217 61.2602 67.9133 59.5241 Q70.2281 57.788 70.2281 54.4779 Q70.2281 51.4223 68.0754 49.7094 Q65.9457 47.9733 62.1263 47.9733 L58.0986 47.9733 L58.0986 44.1307 L62.3115 44.1307 Q65.7606 44.1307 67.5893 42.765 Q69.418 41.3761 69.418 38.7835 Q69.418 36.1215 67.5198 34.7094 Q65.6448 33.2743 62.1263 33.2743 Q60.205 33.2743 58.006 33.6909 Q55.8069 34.1076 53.168 34.9872 L53.168 30.8206 Q55.8301 30.0798 58.1449 29.7095 Q60.4828 29.3391 62.543 29.3391 Q67.867 29.3391 70.9689 31.7696 Q74.0707 34.177 74.0707 38.2974 Q74.0707 41.1677 72.4272 43.1585 Q70.7837 45.1261 67.7513 45.8899 Z\" fill=\"#000000\" fill-rule=\"evenodd\" fill-opacity=\"1\" /><polyline clip-path=\"url(#clip182)\" style=\"stroke:#008000; stroke-width:12; stroke-opacity:1; fill:none\" stroke-dasharray=\"48, 30\" points=\"\n",
       "  858.173,1006.71 858.173,1486.45 110.881,1486.45 110.881,1006.71 858.173,1006.71 \n",
       "  \"/>\n",
       "<circle clip-path=\"url(#clip182)\" cx=\"858.173\" cy=\"1006.71\" r=\"28\" fill=\"#008000\" fill-rule=\"evenodd\" fill-opacity=\"1\" stroke=\"#000000\" stroke-opacity=\"1\" stroke-width=\"3.2\"/>\n",
       "<circle clip-path=\"url(#clip182)\" cx=\"858.173\" cy=\"1486.45\" r=\"28\" fill=\"#008000\" fill-rule=\"evenodd\" fill-opacity=\"1\" stroke=\"#000000\" stroke-opacity=\"1\" stroke-width=\"3.2\"/>\n",
       "<circle clip-path=\"url(#clip182)\" cx=\"110.881\" cy=\"1486.45\" r=\"28\" fill=\"#008000\" fill-rule=\"evenodd\" fill-opacity=\"1\" stroke=\"#000000\" stroke-opacity=\"1\" stroke-width=\"3.2\"/>\n",
       "<circle clip-path=\"url(#clip182)\" cx=\"110.881\" cy=\"1006.71\" r=\"28\" fill=\"#008000\" fill-rule=\"evenodd\" fill-opacity=\"1\" stroke=\"#000000\" stroke-opacity=\"1\" stroke-width=\"3.2\"/>\n",
       "<circle clip-path=\"url(#clip182)\" cx=\"858.173\" cy=\"1006.71\" r=\"28\" fill=\"#008000\" fill-rule=\"evenodd\" fill-opacity=\"1\" stroke=\"#000000\" stroke-opacity=\"1\" stroke-width=\"3.2\"/>\n",
       "<polyline clip-path=\"url(#clip182)\" style=\"stroke:#ff0000; stroke-width:16; stroke-opacity:1; fill:none\" stroke-dasharray=\"64, 40\" points=\"\n",
       "  1605.46,1006.71 858.173,1486.45 110.881,1486.45 858.173,1006.71 1605.46,1006.71 \n",
       "  \"/>\n",
       "<circle clip-path=\"url(#clip182)\" cx=\"1605.46\" cy=\"1006.71\" r=\"28\" fill=\"#ff0000\" fill-rule=\"evenodd\" fill-opacity=\"1\" stroke=\"#000000\" stroke-opacity=\"1\" stroke-width=\"3.2\"/>\n",
       "<circle clip-path=\"url(#clip182)\" cx=\"858.173\" cy=\"1486.45\" r=\"28\" fill=\"#ff0000\" fill-rule=\"evenodd\" fill-opacity=\"1\" stroke=\"#000000\" stroke-opacity=\"1\" stroke-width=\"3.2\"/>\n",
       "<circle clip-path=\"url(#clip182)\" cx=\"110.881\" cy=\"1486.45\" r=\"28\" fill=\"#ff0000\" fill-rule=\"evenodd\" fill-opacity=\"1\" stroke=\"#000000\" stroke-opacity=\"1\" stroke-width=\"3.2\"/>\n",
       "<circle clip-path=\"url(#clip182)\" cx=\"858.173\" cy=\"1006.71\" r=\"28\" fill=\"#ff0000\" fill-rule=\"evenodd\" fill-opacity=\"1\" stroke=\"#000000\" stroke-opacity=\"1\" stroke-width=\"3.2\"/>\n",
       "<circle clip-path=\"url(#clip182)\" cx=\"1605.46\" cy=\"1006.71\" r=\"28\" fill=\"#ff0000\" fill-rule=\"evenodd\" fill-opacity=\"1\" stroke=\"#000000\" stroke-opacity=\"1\" stroke-width=\"3.2\"/>\n",
       "</svg>\n"
      ]
     },
     "execution_count": 10,
     "metadata": {},
     "output_type": "execute_result"
    }
   ],
   "source": [
    "p1 = plot(X[:,1],X[:,2], line=(3,:dash,:green),m=(8,:green), leg = false, xlims = (0,3), ylims = (0,3))\n",
    "plot!(XP[:,1],XP[:,2],line=(4,:dash,:red),m=(8,:red), xlims = (0,3), ylims = (0,3))"
   ]
  },
  {
   "cell_type": "markdown",
   "metadata": {},
   "source": [
    "### Ahora veamos qué pasa al transformar con la matriz de Gradiente de Deformación\n",
    "$\n",
    " x1'= [F] x1 = \n",
    "  \\left[ {\\begin{array}{cc}\n",
    "  2.0 & 1.0 \\\\\n",
    "   0.0 & 2.0 \\\\\n",
    "  \\end{array} } \\right]\n",
    "   \\left[ {\\begin{array}{c}\n",
    "  1.0 \\\\\n",
    "   1.0 \\\\\n",
    "  \\end{array} } \\right] =\n",
    "   \\left[ {\\begin{array}{c}\n",
    "  3.0 \\\\\n",
    "   2.0 \\\\\n",
    "  \\end{array} } \\right] \n",
    "  $\n",
    "  ### y así sucesivamente con cada punto"
   ]
  },
  {
   "cell_type": "code",
   "execution_count": 11,
   "metadata": {},
   "outputs": [
    {
     "data": {
      "text/plain": [
       "5×2 Array{Float64,2}:\n",
       " 3.0  2.0\n",
       " 2.0  0.0\n",
       " 0.0  0.0\n",
       " 1.0  2.0\n",
       " 3.0  2.0"
      ]
     },
     "execution_count": 11,
     "metadata": {},
     "output_type": "execute_result"
    }
   ],
   "source": [
    "x1pp = F*x1; x2pp = F*x2; x3pp = F*x3; x4pp = F*x4;\n",
    "XPP = [x1pp'; x2pp'; x3pp'; x4pp'; x1pp' ]"
   ]
  },
  {
   "cell_type": "code",
   "execution_count": 12,
   "metadata": {},
   "outputs": [
    {
     "data": {
      "image/svg+xml": [
       "<?xml version=\"1.0\" encoding=\"utf-8\"?>\n",
       "<svg xmlns=\"http://www.w3.org/2000/svg\" xmlns:xlink=\"http://www.w3.org/1999/xlink\" width=\"600\" height=\"400\" viewBox=\"0 0 2400 1600\">\n",
       "<defs>\n",
       "  <clipPath id=\"clip220\">\n",
       "    <rect x=\"0\" y=\"0\" width=\"2400\" height=\"1600\"/>\n",
       "  </clipPath>\n",
       "</defs>\n",
       "<path clip-path=\"url(#clip220)\" d=\"\n",
       "M0 1600 L2400 1600 L2400 0 L0 0  Z\n",
       "  \" fill=\"#ffffff\" fill-rule=\"evenodd\" fill-opacity=\"1\"/>\n",
       "<defs>\n",
       "  <clipPath id=\"clip221\">\n",
       "    <rect x=\"480\" y=\"0\" width=\"1681\" height=\"1600\"/>\n",
       "  </clipPath>\n",
       "</defs>\n",
       "<path clip-path=\"url(#clip220)\" d=\"\n",
       "M110.881 1486.45 L2352.76 1486.45 L2352.76 47.2441 L110.881 47.2441  Z\n",
       "  \" fill=\"#ffffff\" fill-rule=\"evenodd\" fill-opacity=\"1\"/>\n",
       "<defs>\n",
       "  <clipPath id=\"clip222\">\n",
       "    <rect x=\"110\" y=\"47\" width=\"2243\" height=\"1440\"/>\n",
       "  </clipPath>\n",
       "</defs>\n",
       "<polyline clip-path=\"url(#clip222)\" style=\"stroke:#000000; stroke-width:2; stroke-opacity:0.1; fill:none\" points=\"\n",
       "  174.33,1486.45 174.33,47.2441 \n",
       "  \"/>\n",
       "<polyline clip-path=\"url(#clip222)\" style=\"stroke:#000000; stroke-width:2; stroke-opacity:0.1; fill:none\" points=\"\n",
       "  879.322,1486.45 879.322,47.2441 \n",
       "  \"/>\n",
       "<polyline clip-path=\"url(#clip222)\" style=\"stroke:#000000; stroke-width:2; stroke-opacity:0.1; fill:none\" points=\"\n",
       "  1584.31,1486.45 1584.31,47.2441 \n",
       "  \"/>\n",
       "<polyline clip-path=\"url(#clip222)\" style=\"stroke:#000000; stroke-width:2; stroke-opacity:0.1; fill:none\" points=\"\n",
       "  2289.31,1486.45 2289.31,47.2441 \n",
       "  \"/>\n",
       "<polyline clip-path=\"url(#clip220)\" style=\"stroke:#000000; stroke-width:4; stroke-opacity:1; fill:none\" points=\"\n",
       "  110.881,1486.45 2352.76,1486.45 \n",
       "  \"/>\n",
       "<polyline clip-path=\"url(#clip220)\" style=\"stroke:#000000; stroke-width:4; stroke-opacity:1; fill:none\" points=\"\n",
       "  174.33,1486.45 174.33,1469.18 \n",
       "  \"/>\n",
       "<polyline clip-path=\"url(#clip220)\" style=\"stroke:#000000; stroke-width:4; stroke-opacity:1; fill:none\" points=\"\n",
       "  879.322,1486.45 879.322,1469.18 \n",
       "  \"/>\n",
       "<polyline clip-path=\"url(#clip220)\" style=\"stroke:#000000; stroke-width:4; stroke-opacity:1; fill:none\" points=\"\n",
       "  1584.31,1486.45 1584.31,1469.18 \n",
       "  \"/>\n",
       "<polyline clip-path=\"url(#clip220)\" style=\"stroke:#000000; stroke-width:4; stroke-opacity:1; fill:none\" points=\"\n",
       "  2289.31,1486.45 2289.31,1469.18 \n",
       "  \"/>\n",
       "<path clip-path=\"url(#clip220)\" d=\"M 0 0 M174.33 1515.64 Q170.719 1515.64 168.89 1519.2 Q167.085 1522.75 167.085 1529.87 Q167.085 1536.98 168.89 1540.55 Q170.719 1544.09 174.33 1544.09 Q177.964 1544.09 179.77 1540.55 Q181.599 1536.98 181.599 1529.87 Q181.599 1522.75 179.77 1519.2 Q177.964 1515.64 174.33 1515.64 M174.33 1511.93 Q180.14 1511.93 183.196 1516.54 Q186.275 1521.12 186.275 1529.87 Q186.275 1538.6 183.196 1543.21 Q180.14 1547.79 174.33 1547.79 Q168.52 1547.79 165.441 1543.21 Q162.386 1538.6 162.386 1529.87 Q162.386 1521.12 165.441 1516.54 Q168.52 1511.93 174.33 1511.93 Z\" fill=\"#000000\" fill-rule=\"evenodd\" fill-opacity=\"1\" /><path clip-path=\"url(#clip220)\" d=\"M 0 0 M869.704 1543.18 L877.343 1543.18 L877.343 1516.82 L869.033 1518.49 L869.033 1514.23 L877.297 1512.56 L881.973 1512.56 L881.973 1543.18 L889.612 1543.18 L889.612 1547.12 L869.704 1547.12 L869.704 1543.18 Z\" fill=\"#000000\" fill-rule=\"evenodd\" fill-opacity=\"1\" /><path clip-path=\"url(#clip220)\" d=\"M 0 0 M1578.97 1543.18 L1595.29 1543.18 L1595.29 1547.12 L1573.34 1547.12 L1573.34 1543.18 Q1576 1540.43 1580.59 1535.8 Q1585.19 1531.15 1586.37 1529.81 Q1588.62 1527.28 1589.5 1525.55 Q1590.4 1523.79 1590.4 1522.1 Q1590.4 1519.34 1588.46 1517.61 Q1586.54 1515.87 1583.43 1515.87 Q1581.24 1515.87 1578.78 1516.63 Q1576.35 1517.4 1573.57 1518.95 L1573.57 1514.23 Q1576.4 1513.09 1578.85 1512.51 Q1581.31 1511.93 1583.34 1511.93 Q1588.71 1511.93 1591.91 1514.62 Q1595.1 1517.31 1595.1 1521.8 Q1595.1 1523.93 1594.29 1525.85 Q1593.5 1527.74 1591.4 1530.34 Q1590.82 1531.01 1587.72 1534.23 Q1584.62 1537.42 1578.97 1543.18 Z\" fill=\"#000000\" fill-rule=\"evenodd\" fill-opacity=\"1\" /><path clip-path=\"url(#clip220)\" d=\"M 0 0 M2293.55 1528.49 Q2296.91 1529.2 2298.79 1531.47 Q2300.68 1533.74 2300.68 1537.07 Q2300.68 1542.19 2297.17 1544.99 Q2293.65 1547.79 2287.17 1547.79 Q2284.99 1547.79 2282.67 1547.35 Q2280.38 1546.93 2277.93 1546.08 L2277.93 1541.56 Q2279.87 1542.7 2282.19 1543.28 Q2284.5 1543.86 2287.03 1543.86 Q2291.42 1543.86 2293.72 1542.12 Q2296.03 1540.38 2296.03 1537.07 Q2296.03 1534.02 2293.88 1532.31 Q2291.75 1530.57 2287.93 1530.57 L2283.9 1530.57 L2283.9 1526.73 L2288.11 1526.73 Q2291.56 1526.73 2293.39 1525.36 Q2295.22 1523.97 2295.22 1521.38 Q2295.22 1518.72 2293.32 1517.31 Q2291.45 1515.87 2287.93 1515.87 Q2286.01 1515.87 2283.81 1516.29 Q2281.61 1516.7 2278.97 1517.58 L2278.97 1513.42 Q2281.63 1512.68 2283.95 1512.31 Q2286.29 1511.93 2288.35 1511.93 Q2293.67 1511.93 2296.77 1514.37 Q2299.87 1516.77 2299.87 1520.89 Q2299.87 1523.76 2298.23 1525.75 Q2296.59 1527.72 2293.55 1528.49 Z\" fill=\"#000000\" fill-rule=\"evenodd\" fill-opacity=\"1\" /><polyline clip-path=\"url(#clip222)\" style=\"stroke:#000000; stroke-width:2; stroke-opacity:0.1; fill:none\" points=\"\n",
       "  110.881,1486.45 2352.76,1486.45 \n",
       "  \"/>\n",
       "<polyline clip-path=\"url(#clip222)\" style=\"stroke:#000000; stroke-width:2; stroke-opacity:0.1; fill:none\" points=\"\n",
       "  110.881,1006.71 2352.76,1006.71 \n",
       "  \"/>\n",
       "<polyline clip-path=\"url(#clip222)\" style=\"stroke:#000000; stroke-width:2; stroke-opacity:0.1; fill:none\" points=\"\n",
       "  110.881,526.979 2352.76,526.979 \n",
       "  \"/>\n",
       "<polyline clip-path=\"url(#clip222)\" style=\"stroke:#000000; stroke-width:2; stroke-opacity:0.1; fill:none\" points=\"\n",
       "  110.881,47.2441 2352.76,47.2441 \n",
       "  \"/>\n",
       "<polyline clip-path=\"url(#clip220)\" style=\"stroke:#000000; stroke-width:4; stroke-opacity:1; fill:none\" points=\"\n",
       "  110.881,1486.45 110.881,47.2441 \n",
       "  \"/>\n",
       "<polyline clip-path=\"url(#clip220)\" style=\"stroke:#000000; stroke-width:4; stroke-opacity:1; fill:none\" points=\"\n",
       "  110.881,1486.45 137.783,1486.45 \n",
       "  \"/>\n",
       "<polyline clip-path=\"url(#clip220)\" style=\"stroke:#000000; stroke-width:4; stroke-opacity:1; fill:none\" points=\"\n",
       "  110.881,1006.71 137.783,1006.71 \n",
       "  \"/>\n",
       "<polyline clip-path=\"url(#clip220)\" style=\"stroke:#000000; stroke-width:4; stroke-opacity:1; fill:none\" points=\"\n",
       "  110.881,526.979 137.783,526.979 \n",
       "  \"/>\n",
       "<polyline clip-path=\"url(#clip220)\" style=\"stroke:#000000; stroke-width:4; stroke-opacity:1; fill:none\" points=\"\n",
       "  110.881,47.2441 137.783,47.2441 \n",
       "  \"/>\n",
       "<path clip-path=\"url(#clip220)\" d=\"M 0 0 M62.9365 1472.25 Q59.3254 1472.25 57.4967 1475.81 Q55.6912 1479.35 55.6912 1486.48 Q55.6912 1493.59 57.4967 1497.15 Q59.3254 1500.7 62.9365 1500.7 Q66.5707 1500.7 68.3763 1497.15 Q70.205 1493.59 70.205 1486.48 Q70.205 1479.35 68.3763 1475.81 Q66.5707 1472.25 62.9365 1472.25 M62.9365 1468.54 Q68.7467 1468.54 71.8022 1473.15 Q74.8809 1477.73 74.8809 1486.48 Q74.8809 1495.21 71.8022 1499.82 Q68.7467 1504.4 62.9365 1504.4 Q57.1264 1504.4 54.0477 1499.82 Q50.9921 1495.21 50.9921 1486.48 Q50.9921 1477.73 54.0477 1473.15 Q57.1264 1468.54 62.9365 1468.54 Z\" fill=\"#000000\" fill-rule=\"evenodd\" fill-opacity=\"1\" /><path clip-path=\"url(#clip220)\" d=\"M 0 0 M54.9736 1020.06 L62.6124 1020.06 L62.6124 993.693 L54.3023 995.359 L54.3023 991.1 L62.5661 989.433 L67.242 989.433 L67.242 1020.06 L74.8809 1020.06 L74.8809 1023.99 L54.9736 1023.99 L54.9736 1020.06 Z\" fill=\"#000000\" fill-rule=\"evenodd\" fill-opacity=\"1\" /><path clip-path=\"url(#clip220)\" d=\"M 0 0 M58.5615 540.324 L74.8809 540.324 L74.8809 544.259 L52.9366 544.259 L52.9366 540.324 Q55.5986 537.569 60.1819 532.939 Q64.7883 528.287 65.9689 526.944 Q68.2143 524.421 69.0939 522.685 Q69.9967 520.925 69.9967 519.236 Q69.9967 516.481 68.0522 514.745 Q66.1309 513.009 63.0291 513.009 Q60.83 513.009 58.3763 513.773 Q55.9458 514.537 53.168 516.088 L53.168 511.365 Q55.9921 510.231 58.4458 509.652 Q60.8995 509.074 62.9365 509.074 Q68.3068 509.074 71.5013 511.759 Q74.6957 514.444 74.6957 518.935 Q74.6957 521.064 73.8855 522.986 Q73.0985 524.884 70.992 527.476 Q70.4133 528.148 67.3115 531.365 Q64.2096 534.56 58.5615 540.324 Z\" fill=\"#000000\" fill-rule=\"evenodd\" fill-opacity=\"1\" /><path clip-path=\"url(#clip220)\" d=\"M 0 0 M67.7513 45.8899 Q71.1078 46.6075 72.9827 48.876 Q74.8809 51.1445 74.8809 54.4779 Q74.8809 59.5936 71.3624 62.3945 Q67.8439 65.1954 61.3624 65.1954 Q59.1865 65.1954 56.8717 64.7556 Q54.5801 64.3389 52.1264 63.4824 L52.1264 58.9686 Q54.0708 60.1028 56.3856 60.6815 Q58.7004 61.2602 61.2236 61.2602 Q65.6217 61.2602 67.9133 59.5241 Q70.2281 57.788 70.2281 54.4779 Q70.2281 51.4223 68.0754 49.7094 Q65.9457 47.9733 62.1263 47.9733 L58.0986 47.9733 L58.0986 44.1307 L62.3115 44.1307 Q65.7606 44.1307 67.5893 42.765 Q69.418 41.3761 69.418 38.7835 Q69.418 36.1215 67.5198 34.7094 Q65.6448 33.2743 62.1263 33.2743 Q60.205 33.2743 58.006 33.6909 Q55.8069 34.1076 53.168 34.9872 L53.168 30.8206 Q55.8301 30.0798 58.1449 29.7095 Q60.4828 29.3391 62.543 29.3391 Q67.867 29.3391 70.9689 31.7696 Q74.0707 34.177 74.0707 38.2974 Q74.0707 41.1677 72.4272 43.1585 Q70.7837 45.1261 67.7513 45.8899 Z\" fill=\"#000000\" fill-rule=\"evenodd\" fill-opacity=\"1\" /><polyline clip-path=\"url(#clip222)\" style=\"stroke:#008000; stroke-width:12; stroke-opacity:1; fill:none\" stroke-dasharray=\"48, 30\" points=\"\n",
       "  879.322,1006.71 879.322,1486.45 174.33,1486.45 174.33,1006.71 879.322,1006.71 \n",
       "  \"/>\n",
       "<circle clip-path=\"url(#clip222)\" cx=\"879.322\" cy=\"1006.71\" r=\"28\" fill=\"#008000\" fill-rule=\"evenodd\" fill-opacity=\"1\" stroke=\"#000000\" stroke-opacity=\"1\" stroke-width=\"3.2\"/>\n",
       "<circle clip-path=\"url(#clip222)\" cx=\"879.322\" cy=\"1486.45\" r=\"28\" fill=\"#008000\" fill-rule=\"evenodd\" fill-opacity=\"1\" stroke=\"#000000\" stroke-opacity=\"1\" stroke-width=\"3.2\"/>\n",
       "<circle clip-path=\"url(#clip222)\" cx=\"174.33\" cy=\"1486.45\" r=\"28\" fill=\"#008000\" fill-rule=\"evenodd\" fill-opacity=\"1\" stroke=\"#000000\" stroke-opacity=\"1\" stroke-width=\"3.2\"/>\n",
       "<circle clip-path=\"url(#clip222)\" cx=\"174.33\" cy=\"1006.71\" r=\"28\" fill=\"#008000\" fill-rule=\"evenodd\" fill-opacity=\"1\" stroke=\"#000000\" stroke-opacity=\"1\" stroke-width=\"3.2\"/>\n",
       "<circle clip-path=\"url(#clip222)\" cx=\"879.322\" cy=\"1006.71\" r=\"28\" fill=\"#008000\" fill-rule=\"evenodd\" fill-opacity=\"1\" stroke=\"#000000\" stroke-opacity=\"1\" stroke-width=\"3.2\"/>\n",
       "<polyline clip-path=\"url(#clip222)\" style=\"stroke:#ff0000; stroke-width:16; stroke-opacity:1; fill:none\" stroke-dasharray=\"64, 40\" points=\"\n",
       "  2289.31,526.979 1584.31,1486.45 174.33,1486.45 879.322,526.979 2289.31,526.979 \n",
       "  \"/>\n",
       "<circle clip-path=\"url(#clip222)\" cx=\"2289.31\" cy=\"526.979\" r=\"28\" fill=\"#ff0000\" fill-rule=\"evenodd\" fill-opacity=\"1\" stroke=\"#000000\" stroke-opacity=\"1\" stroke-width=\"3.2\"/>\n",
       "<circle clip-path=\"url(#clip222)\" cx=\"1584.31\" cy=\"1486.45\" r=\"28\" fill=\"#ff0000\" fill-rule=\"evenodd\" fill-opacity=\"1\" stroke=\"#000000\" stroke-opacity=\"1\" stroke-width=\"3.2\"/>\n",
       "<circle clip-path=\"url(#clip222)\" cx=\"174.33\" cy=\"1486.45\" r=\"28\" fill=\"#ff0000\" fill-rule=\"evenodd\" fill-opacity=\"1\" stroke=\"#000000\" stroke-opacity=\"1\" stroke-width=\"3.2\"/>\n",
       "<circle clip-path=\"url(#clip222)\" cx=\"879.322\" cy=\"526.979\" r=\"28\" fill=\"#ff0000\" fill-rule=\"evenodd\" fill-opacity=\"1\" stroke=\"#000000\" stroke-opacity=\"1\" stroke-width=\"3.2\"/>\n",
       "<circle clip-path=\"url(#clip222)\" cx=\"2289.31\" cy=\"526.979\" r=\"28\" fill=\"#ff0000\" fill-rule=\"evenodd\" fill-opacity=\"1\" stroke=\"#000000\" stroke-opacity=\"1\" stroke-width=\"3.2\"/>\n",
       "</svg>\n"
      ]
     },
     "execution_count": 12,
     "metadata": {},
     "output_type": "execute_result"
    }
   ],
   "source": [
    "p1 = plot(X[:,1],X[:,2], line=(3,:dash,:green),m=(8,:green))\n",
    "plot!(XPP[:,1],XPP[:,2],line=(4,:dash,:red),m=(8,:red), leg = false, ylims = ((0,3)))"
   ]
  },
  {
   "cell_type": "markdown",
   "metadata": {},
   "source": [
    "### Podemos ver que además de la cizalla, se produce un cambio de volumen (expansión)\n",
    "\n",
    "## Tensor de Deformación\n",
    "### Vamos a crear un tensor de Deformación, promediando los valores fuera de la diagonal de la matriz de Gradiente de Deformación, de manera que sea simétrica, es decir:\n",
    "$\n",
    "   D=\n",
    "  \\left[ {\\begin{array}{cc}\n",
    "   2.0 & (1.0+0.0)/2 \\\\\n",
    "   (1.0+0.0)/2 & 2.0 \\\\\n",
    "  \\end{array} } \\right] = \n",
    "  \\left[ {\\begin{array}{cc}\n",
    "   2.0 & 0.5 \\\\\n",
    "   0.5 & 2.0 \\\\\n",
    "  \\end{array} } \\right] \n",
    "$\n",
    "### Notar que esta matriz es simétrica, mientras que las anteriores no lo son"
   ]
  },
  {
   "cell_type": "code",
   "execution_count": 13,
   "metadata": {},
   "outputs": [
    {
     "data": {
      "text/plain": [
       "2×2 Array{Float64,2}:\n",
       " 2.0  0.5\n",
       " 0.5  2.0"
      ]
     },
     "execution_count": 13,
     "metadata": {},
     "output_type": "execute_result"
    }
   ],
   "source": [
    "D = [ 2.0 (F[1,2]+F[2,1])/2\n",
    "      (F[1,2]+F[2,1])/2 2.0]"
   ]
  },
  {
   "cell_type": "markdown",
   "metadata": {},
   "source": [
    "### Y ahora transformamos nuestro cuadrado usando el Tensor de Deformación, y vemos qué pasa\n",
    "$\n",
    " x1''= [D] x1 = \n",
    "  \\left[ {\\begin{array}{cc}\n",
    "  2.0 & 0.5 \\\\\n",
    "   0.5 & 2.0 \\\\\n",
    "  \\end{array} } \\right]\n",
    "   \\left[ {\\begin{array}{c}\n",
    "  1.0 \\\\\n",
    "   1.0 \\\\\n",
    "  \\end{array} } \\right] =\n",
    "   \\left[ {\\begin{array}{c}\n",
    "  2.5 \\\\\n",
    "   2.5 \\\\\n",
    "  \\end{array} } \\right] \n",
    "  $\n",
    "  ### y así sucesivamente con cada punto"
   ]
  },
  {
   "cell_type": "code",
   "execution_count": 14,
   "metadata": {},
   "outputs": [
    {
     "data": {
      "text/plain": [
       "5×2 Array{Float64,2}:\n",
       " 2.5  2.5\n",
       " 2.0  0.5\n",
       " 0.0  0.0\n",
       " 0.5  2.0\n",
       " 2.5  2.5"
      ]
     },
     "execution_count": 14,
     "metadata": {},
     "output_type": "execute_result"
    }
   ],
   "source": [
    "x1pp = D*x1; x2pp = D*x2; x3pp = D*x3; x4pp = D*x4;\n",
    "XPP = [x1pp'; x2pp'; x3pp'; x4pp'; x1pp' ]"
   ]
  },
  {
   "cell_type": "code",
   "execution_count": 15,
   "metadata": {},
   "outputs": [
    {
     "data": {
      "image/svg+xml": [
       "<?xml version=\"1.0\" encoding=\"utf-8\"?>\n",
       "<svg xmlns=\"http://www.w3.org/2000/svg\" xmlns:xlink=\"http://www.w3.org/1999/xlink\" width=\"600\" height=\"400\" viewBox=\"0 0 2400 1600\">\n",
       "<defs>\n",
       "  <clipPath id=\"clip260\">\n",
       "    <rect x=\"0\" y=\"0\" width=\"2400\" height=\"1600\"/>\n",
       "  </clipPath>\n",
       "</defs>\n",
       "<path clip-path=\"url(#clip260)\" d=\"\n",
       "M0 1600 L2400 1600 L2400 0 L0 0  Z\n",
       "  \" fill=\"#ffffff\" fill-rule=\"evenodd\" fill-opacity=\"1\"/>\n",
       "<defs>\n",
       "  <clipPath id=\"clip261\">\n",
       "    <rect x=\"480\" y=\"0\" width=\"1681\" height=\"1600\"/>\n",
       "  </clipPath>\n",
       "</defs>\n",
       "<path clip-path=\"url(#clip260)\" d=\"\n",
       "M147.848 1486.45 L2352.76 1486.45 L2352.76 47.2441 L147.848 47.2441  Z\n",
       "  \" fill=\"#ffffff\" fill-rule=\"evenodd\" fill-opacity=\"1\"/>\n",
       "<defs>\n",
       "  <clipPath id=\"clip262\">\n",
       "    <rect x=\"147\" y=\"47\" width=\"2206\" height=\"1440\"/>\n",
       "  </clipPath>\n",
       "</defs>\n",
       "<polyline clip-path=\"url(#clip262)\" style=\"stroke:#000000; stroke-width:2; stroke-opacity:0.1; fill:none\" points=\"\n",
       "  210.251,1486.45 210.251,47.2441 \n",
       "  \"/>\n",
       "<polyline clip-path=\"url(#clip262)\" style=\"stroke:#000000; stroke-width:2; stroke-opacity:0.1; fill:none\" points=\"\n",
       "  626.272,1486.45 626.272,47.2441 \n",
       "  \"/>\n",
       "<polyline clip-path=\"url(#clip262)\" style=\"stroke:#000000; stroke-width:2; stroke-opacity:0.1; fill:none\" points=\"\n",
       "  1042.29,1486.45 1042.29,47.2441 \n",
       "  \"/>\n",
       "<polyline clip-path=\"url(#clip262)\" style=\"stroke:#000000; stroke-width:2; stroke-opacity:0.1; fill:none\" points=\"\n",
       "  1458.31,1486.45 1458.31,47.2441 \n",
       "  \"/>\n",
       "<polyline clip-path=\"url(#clip262)\" style=\"stroke:#000000; stroke-width:2; stroke-opacity:0.1; fill:none\" points=\"\n",
       "  1874.33,1486.45 1874.33,47.2441 \n",
       "  \"/>\n",
       "<polyline clip-path=\"url(#clip262)\" style=\"stroke:#000000; stroke-width:2; stroke-opacity:0.1; fill:none\" points=\"\n",
       "  2290.35,1486.45 2290.35,47.2441 \n",
       "  \"/>\n",
       "<polyline clip-path=\"url(#clip260)\" style=\"stroke:#000000; stroke-width:4; stroke-opacity:1; fill:none\" points=\"\n",
       "  147.848,1486.45 2352.76,1486.45 \n",
       "  \"/>\n",
       "<polyline clip-path=\"url(#clip260)\" style=\"stroke:#000000; stroke-width:4; stroke-opacity:1; fill:none\" points=\"\n",
       "  210.251,1486.45 210.251,1469.18 \n",
       "  \"/>\n",
       "<polyline clip-path=\"url(#clip260)\" style=\"stroke:#000000; stroke-width:4; stroke-opacity:1; fill:none\" points=\"\n",
       "  626.272,1486.45 626.272,1469.18 \n",
       "  \"/>\n",
       "<polyline clip-path=\"url(#clip260)\" style=\"stroke:#000000; stroke-width:4; stroke-opacity:1; fill:none\" points=\"\n",
       "  1042.29,1486.45 1042.29,1469.18 \n",
       "  \"/>\n",
       "<polyline clip-path=\"url(#clip260)\" style=\"stroke:#000000; stroke-width:4; stroke-opacity:1; fill:none\" points=\"\n",
       "  1458.31,1486.45 1458.31,1469.18 \n",
       "  \"/>\n",
       "<polyline clip-path=\"url(#clip260)\" style=\"stroke:#000000; stroke-width:4; stroke-opacity:1; fill:none\" points=\"\n",
       "  1874.33,1486.45 1874.33,1469.18 \n",
       "  \"/>\n",
       "<polyline clip-path=\"url(#clip260)\" style=\"stroke:#000000; stroke-width:4; stroke-opacity:1; fill:none\" points=\"\n",
       "  2290.35,1486.45 2290.35,1469.18 \n",
       "  \"/>\n",
       "<path clip-path=\"url(#clip260)\" d=\"M 0 0 M191.768 1515.64 Q188.157 1515.64 186.328 1519.2 Q184.522 1522.75 184.522 1529.87 Q184.522 1536.98 186.328 1540.55 Q188.157 1544.09 191.768 1544.09 Q195.402 1544.09 197.207 1540.55 Q199.036 1536.98 199.036 1529.87 Q199.036 1522.75 197.207 1519.2 Q195.402 1515.64 191.768 1515.64 M191.768 1511.93 Q197.578 1511.93 200.633 1516.54 Q203.712 1521.12 203.712 1529.87 Q203.712 1538.6 200.633 1543.21 Q197.578 1547.79 191.768 1547.79 Q185.957 1547.79 182.879 1543.21 Q179.823 1538.6 179.823 1529.87 Q179.823 1521.12 182.879 1516.54 Q185.957 1511.93 191.768 1511.93 Z\" fill=\"#000000\" fill-rule=\"evenodd\" fill-opacity=\"1\" /><path clip-path=\"url(#clip260)\" d=\"M 0 0 M208.781 1541.24 L213.666 1541.24 L213.666 1547.12 L208.781 1547.12 L208.781 1541.24 Z\" fill=\"#000000\" fill-rule=\"evenodd\" fill-opacity=\"1\" /><path clip-path=\"url(#clip260)\" d=\"M 0 0 M228.735 1515.64 Q225.124 1515.64 223.295 1519.2 Q221.49 1522.75 221.49 1529.87 Q221.49 1536.98 223.295 1540.55 Q225.124 1544.09 228.735 1544.09 Q232.369 1544.09 234.175 1540.55 Q236.004 1536.98 236.004 1529.87 Q236.004 1522.75 234.175 1519.2 Q232.369 1515.64 228.735 1515.64 M228.735 1511.93 Q234.545 1511.93 237.601 1516.54 Q240.679 1521.12 240.679 1529.87 Q240.679 1538.6 237.601 1543.21 Q234.545 1547.79 228.735 1547.79 Q222.925 1547.79 219.846 1543.21 Q216.791 1538.6 216.791 1529.87 Q216.791 1521.12 219.846 1516.54 Q222.925 1511.93 228.735 1511.93 Z\" fill=\"#000000\" fill-rule=\"evenodd\" fill-opacity=\"1\" /><path clip-path=\"url(#clip260)\" d=\"M 0 0 M608.286 1515.64 Q604.675 1515.64 602.846 1519.2 Q601.04 1522.75 601.04 1529.87 Q601.04 1536.98 602.846 1540.55 Q604.675 1544.09 608.286 1544.09 Q611.92 1544.09 613.725 1540.55 Q615.554 1536.98 615.554 1529.87 Q615.554 1522.75 613.725 1519.2 Q611.92 1515.64 608.286 1515.64 M608.286 1511.93 Q614.096 1511.93 617.151 1516.54 Q620.23 1521.12 620.23 1529.87 Q620.23 1538.6 617.151 1543.21 Q614.096 1547.79 608.286 1547.79 Q602.475 1547.79 599.397 1543.21 Q596.341 1538.6 596.341 1529.87 Q596.341 1521.12 599.397 1516.54 Q602.475 1511.93 608.286 1511.93 Z\" fill=\"#000000\" fill-rule=\"evenodd\" fill-opacity=\"1\" /><path clip-path=\"url(#clip260)\" d=\"M 0 0 M625.299 1541.24 L630.184 1541.24 L630.184 1547.12 L625.299 1547.12 L625.299 1541.24 Z\" fill=\"#000000\" fill-rule=\"evenodd\" fill-opacity=\"1\" /><path clip-path=\"url(#clip260)\" d=\"M 0 0 M635.299 1512.56 L653.656 1512.56 L653.656 1516.5 L639.582 1516.5 L639.582 1524.97 Q640.6 1524.62 641.619 1524.46 Q642.637 1524.27 643.656 1524.27 Q649.443 1524.27 652.822 1527.44 Q656.202 1530.62 656.202 1536.03 Q656.202 1541.61 652.73 1544.71 Q649.258 1547.79 642.938 1547.79 Q640.762 1547.79 638.494 1547.42 Q636.248 1547.05 633.841 1546.31 L633.841 1541.61 Q635.924 1542.74 638.147 1543.3 Q640.369 1543.86 642.846 1543.86 Q646.85 1543.86 649.188 1541.75 Q651.526 1539.64 651.526 1536.03 Q651.526 1532.42 649.188 1530.31 Q646.85 1528.21 642.846 1528.21 Q640.971 1528.21 639.096 1528.62 Q637.244 1529.04 635.299 1529.92 L635.299 1512.56 Z\" fill=\"#000000\" fill-rule=\"evenodd\" fill-opacity=\"1\" /><path clip-path=\"url(#clip260)\" d=\"M 0 0 M1014.19 1543.18 L1021.83 1543.18 L1021.83 1516.82 L1013.52 1518.49 L1013.52 1514.23 L1021.78 1512.56 L1026.46 1512.56 L1026.46 1543.18 L1034.1 1543.18 L1034.1 1547.12 L1014.19 1547.12 L1014.19 1543.18 Z\" fill=\"#000000\" fill-rule=\"evenodd\" fill-opacity=\"1\" /><path clip-path=\"url(#clip260)\" d=\"M 0 0 M1039.17 1541.24 L1044.05 1541.24 L1044.05 1547.12 L1039.17 1547.12 L1039.17 1541.24 Z\" fill=\"#000000\" fill-rule=\"evenodd\" fill-opacity=\"1\" /><path clip-path=\"url(#clip260)\" d=\"M 0 0 M1059.12 1515.64 Q1055.51 1515.64 1053.68 1519.2 Q1051.88 1522.75 1051.88 1529.87 Q1051.88 1536.98 1053.68 1540.55 Q1055.51 1544.09 1059.12 1544.09 Q1062.75 1544.09 1064.56 1540.55 Q1066.39 1536.98 1066.39 1529.87 Q1066.39 1522.75 1064.56 1519.2 Q1062.75 1515.64 1059.12 1515.64 M1059.12 1511.93 Q1064.93 1511.93 1067.99 1516.54 Q1071.06 1521.12 1071.06 1529.87 Q1071.06 1538.6 1067.99 1543.21 Q1064.93 1547.79 1059.12 1547.79 Q1053.31 1547.79 1050.23 1543.21 Q1047.18 1538.6 1047.18 1529.87 Q1047.18 1521.12 1050.23 1516.54 Q1053.31 1511.93 1059.12 1511.93 Z\" fill=\"#000000\" fill-rule=\"evenodd\" fill-opacity=\"1\" /><path clip-path=\"url(#clip260)\" d=\"M 0 0 M1430.71 1543.18 L1438.35 1543.18 L1438.35 1516.82 L1430.04 1518.49 L1430.04 1514.23 L1438.3 1512.56 L1442.98 1512.56 L1442.98 1543.18 L1450.62 1543.18 L1450.62 1547.12 L1430.71 1547.12 L1430.71 1543.18 Z\" fill=\"#000000\" fill-rule=\"evenodd\" fill-opacity=\"1\" /><path clip-path=\"url(#clip260)\" d=\"M 0 0 M1455.68 1541.24 L1460.57 1541.24 L1460.57 1547.12 L1455.68 1547.12 L1455.68 1541.24 Z\" fill=\"#000000\" fill-rule=\"evenodd\" fill-opacity=\"1\" /><path clip-path=\"url(#clip260)\" d=\"M 0 0 M1465.68 1512.56 L1484.04 1512.56 L1484.04 1516.5 L1469.97 1516.5 L1469.97 1524.97 Q1470.99 1524.62 1472 1524.46 Q1473.02 1524.27 1474.04 1524.27 Q1479.83 1524.27 1483.21 1527.44 Q1486.59 1530.62 1486.59 1536.03 Q1486.59 1541.61 1483.12 1544.71 Q1479.64 1547.79 1473.32 1547.79 Q1471.15 1547.79 1468.88 1547.42 Q1466.63 1547.05 1464.23 1546.31 L1464.23 1541.61 Q1466.31 1542.74 1468.53 1543.3 Q1470.75 1543.86 1473.23 1543.86 Q1477.24 1543.86 1479.57 1541.75 Q1481.91 1539.64 1481.91 1536.03 Q1481.91 1532.42 1479.57 1530.31 Q1477.24 1528.21 1473.23 1528.21 Q1471.36 1528.21 1469.48 1528.62 Q1467.63 1529.04 1465.68 1529.92 L1465.68 1512.56 Z\" fill=\"#000000\" fill-rule=\"evenodd\" fill-opacity=\"1\" /><path clip-path=\"url(#clip260)\" d=\"M 0 0 M1850.5 1543.18 L1866.82 1543.18 L1866.82 1547.12 L1844.88 1547.12 L1844.88 1543.18 Q1847.54 1540.43 1852.12 1535.8 Q1856.73 1531.15 1857.91 1529.81 Q1860.15 1527.28 1861.03 1525.55 Q1861.94 1523.79 1861.94 1522.1 Q1861.94 1519.34 1859.99 1517.61 Q1858.07 1515.87 1854.97 1515.87 Q1852.77 1515.87 1850.32 1516.63 Q1847.89 1517.4 1845.11 1518.95 L1845.11 1514.23 Q1847.93 1513.09 1850.39 1512.51 Q1852.84 1511.93 1854.88 1511.93 Q1860.25 1511.93 1863.44 1514.62 Q1866.64 1517.31 1866.64 1521.8 Q1866.64 1523.93 1865.83 1525.85 Q1865.04 1527.74 1862.93 1530.34 Q1862.35 1531.01 1859.25 1534.23 Q1856.15 1537.42 1850.5 1543.18 Z\" fill=\"#000000\" fill-rule=\"evenodd\" fill-opacity=\"1\" /><path clip-path=\"url(#clip260)\" d=\"M 0 0 M1871.89 1541.24 L1876.77 1541.24 L1876.77 1547.12 L1871.89 1547.12 L1871.89 1541.24 Z\" fill=\"#000000\" fill-rule=\"evenodd\" fill-opacity=\"1\" /><path clip-path=\"url(#clip260)\" d=\"M 0 0 M1891.84 1515.64 Q1888.23 1515.64 1886.4 1519.2 Q1884.6 1522.75 1884.6 1529.87 Q1884.6 1536.98 1886.4 1540.55 Q1888.23 1544.09 1891.84 1544.09 Q1895.48 1544.09 1897.28 1540.55 Q1899.11 1536.98 1899.11 1529.87 Q1899.11 1522.75 1897.28 1519.2 Q1895.48 1515.64 1891.84 1515.64 M1891.84 1511.93 Q1897.65 1511.93 1900.71 1516.54 Q1903.79 1521.12 1903.79 1529.87 Q1903.79 1538.6 1900.71 1543.21 Q1897.65 1547.79 1891.84 1547.79 Q1886.03 1547.79 1882.96 1543.21 Q1879.9 1538.6 1879.9 1529.87 Q1879.9 1521.12 1882.96 1516.54 Q1886.03 1511.93 1891.84 1511.93 Z\" fill=\"#000000\" fill-rule=\"evenodd\" fill-opacity=\"1\" /><path clip-path=\"url(#clip260)\" d=\"M 0 0 M2267.02 1543.18 L2283.34 1543.18 L2283.34 1547.12 L2261.39 1547.12 L2261.39 1543.18 Q2264.06 1540.43 2268.64 1535.8 Q2273.25 1531.15 2274.43 1529.81 Q2276.67 1527.28 2277.55 1525.55 Q2278.45 1523.79 2278.45 1522.1 Q2278.45 1519.34 2276.51 1517.61 Q2274.59 1515.87 2271.49 1515.87 Q2269.29 1515.87 2266.83 1516.63 Q2264.4 1517.4 2261.63 1518.95 L2261.63 1514.23 Q2264.45 1513.09 2266.9 1512.51 Q2269.36 1511.93 2271.39 1511.93 Q2276.76 1511.93 2279.96 1514.62 Q2283.15 1517.31 2283.15 1521.8 Q2283.15 1523.93 2282.34 1525.85 Q2281.56 1527.74 2279.45 1530.34 Q2278.87 1531.01 2275.77 1534.23 Q2272.67 1537.42 2267.02 1543.18 Z\" fill=\"#000000\" fill-rule=\"evenodd\" fill-opacity=\"1\" /><path clip-path=\"url(#clip260)\" d=\"M 0 0 M2288.41 1541.24 L2293.29 1541.24 L2293.29 1547.12 L2288.41 1547.12 L2288.41 1541.24 Z\" fill=\"#000000\" fill-rule=\"evenodd\" fill-opacity=\"1\" /><path clip-path=\"url(#clip260)\" d=\"M 0 0 M2298.41 1512.56 L2316.76 1512.56 L2316.76 1516.5 L2302.69 1516.5 L2302.69 1524.97 Q2303.71 1524.62 2304.73 1524.46 Q2305.75 1524.27 2306.76 1524.27 Q2312.55 1524.27 2315.93 1527.44 Q2319.31 1530.62 2319.31 1536.03 Q2319.31 1541.61 2315.84 1544.71 Q2312.37 1547.79 2306.05 1547.79 Q2303.87 1547.79 2301.6 1547.42 Q2299.36 1547.05 2296.95 1546.31 L2296.95 1541.61 Q2299.03 1542.74 2301.26 1543.3 Q2303.48 1543.86 2305.95 1543.86 Q2309.96 1543.86 2312.3 1541.75 Q2314.64 1539.64 2314.64 1536.03 Q2314.64 1532.42 2312.3 1530.31 Q2309.96 1528.21 2305.95 1528.21 Q2304.08 1528.21 2302.2 1528.62 Q2300.35 1529.04 2298.41 1529.92 L2298.41 1512.56 Z\" fill=\"#000000\" fill-rule=\"evenodd\" fill-opacity=\"1\" /><polyline clip-path=\"url(#clip262)\" style=\"stroke:#000000; stroke-width:2; stroke-opacity:0.1; fill:none\" points=\"\n",
       "  147.848,1445.72 2352.76,1445.72 \n",
       "  \"/>\n",
       "<polyline clip-path=\"url(#clip262)\" style=\"stroke:#000000; stroke-width:2; stroke-opacity:0.1; fill:none\" points=\"\n",
       "  147.848,1174.17 2352.76,1174.17 \n",
       "  \"/>\n",
       "<polyline clip-path=\"url(#clip262)\" style=\"stroke:#000000; stroke-width:2; stroke-opacity:0.1; fill:none\" points=\"\n",
       "  147.848,902.62 2352.76,902.62 \n",
       "  \"/>\n",
       "<polyline clip-path=\"url(#clip262)\" style=\"stroke:#000000; stroke-width:2; stroke-opacity:0.1; fill:none\" points=\"\n",
       "  147.848,631.072 2352.76,631.072 \n",
       "  \"/>\n",
       "<polyline clip-path=\"url(#clip262)\" style=\"stroke:#000000; stroke-width:2; stroke-opacity:0.1; fill:none\" points=\"\n",
       "  147.848,359.524 2352.76,359.524 \n",
       "  \"/>\n",
       "<polyline clip-path=\"url(#clip262)\" style=\"stroke:#000000; stroke-width:2; stroke-opacity:0.1; fill:none\" points=\"\n",
       "  147.848,87.9763 2352.76,87.9763 \n",
       "  \"/>\n",
       "<polyline clip-path=\"url(#clip260)\" style=\"stroke:#000000; stroke-width:4; stroke-opacity:1; fill:none\" points=\"\n",
       "  147.848,1486.45 147.848,47.2441 \n",
       "  \"/>\n",
       "<polyline clip-path=\"url(#clip260)\" style=\"stroke:#000000; stroke-width:4; stroke-opacity:1; fill:none\" points=\"\n",
       "  147.848,1445.72 174.307,1445.72 \n",
       "  \"/>\n",
       "<polyline clip-path=\"url(#clip260)\" style=\"stroke:#000000; stroke-width:4; stroke-opacity:1; fill:none\" points=\"\n",
       "  147.848,1174.17 174.307,1174.17 \n",
       "  \"/>\n",
       "<polyline clip-path=\"url(#clip260)\" style=\"stroke:#000000; stroke-width:4; stroke-opacity:1; fill:none\" points=\"\n",
       "  147.848,902.62 174.307,902.62 \n",
       "  \"/>\n",
       "<polyline clip-path=\"url(#clip260)\" style=\"stroke:#000000; stroke-width:4; stroke-opacity:1; fill:none\" points=\"\n",
       "  147.848,631.072 174.307,631.072 \n",
       "  \"/>\n",
       "<polyline clip-path=\"url(#clip260)\" style=\"stroke:#000000; stroke-width:4; stroke-opacity:1; fill:none\" points=\"\n",
       "  147.848,359.524 174.307,359.524 \n",
       "  \"/>\n",
       "<polyline clip-path=\"url(#clip260)\" style=\"stroke:#000000; stroke-width:4; stroke-opacity:1; fill:none\" points=\"\n",
       "  147.848,87.9763 174.307,87.9763 \n",
       "  \"/>\n",
       "<path clip-path=\"url(#clip260)\" d=\"M 0 0 M62.9365 1431.51 Q59.3254 1431.51 57.4967 1435.08 Q55.6912 1438.62 55.6912 1445.75 Q55.6912 1452.86 57.4967 1456.42 Q59.3254 1459.96 62.9365 1459.96 Q66.5707 1459.96 68.3763 1456.42 Q70.205 1452.86 70.205 1445.75 Q70.205 1438.62 68.3763 1435.08 Q66.5707 1431.51 62.9365 1431.51 M62.9365 1427.81 Q68.7467 1427.81 71.8022 1432.42 Q74.8809 1437 74.8809 1445.75 Q74.8809 1454.48 71.8022 1459.08 Q68.7467 1463.67 62.9365 1463.67 Q57.1264 1463.67 54.0477 1459.08 Q50.9921 1454.48 50.9921 1445.75 Q50.9921 1437 54.0477 1432.42 Q57.1264 1427.81 62.9365 1427.81 Z\" fill=\"#000000\" fill-rule=\"evenodd\" fill-opacity=\"1\" /><path clip-path=\"url(#clip260)\" d=\"M 0 0 M79.9503 1457.12 L84.8345 1457.12 L84.8345 1463 L79.9503 1463 L79.9503 1457.12 Z\" fill=\"#000000\" fill-rule=\"evenodd\" fill-opacity=\"1\" /><path clip-path=\"url(#clip260)\" d=\"M 0 0 M99.9039 1431.51 Q96.2928 1431.51 94.4641 1435.08 Q92.6586 1438.62 92.6586 1445.75 Q92.6586 1452.86 94.4641 1456.42 Q96.2928 1459.96 99.9039 1459.96 Q103.538 1459.96 105.344 1456.42 Q107.172 1452.86 107.172 1445.75 Q107.172 1438.62 105.344 1435.08 Q103.538 1431.51 99.9039 1431.51 M99.9039 1427.81 Q105.714 1427.81 108.77 1432.42 Q111.848 1437 111.848 1445.75 Q111.848 1454.48 108.77 1459.08 Q105.714 1463.67 99.9039 1463.67 Q94.0937 1463.67 91.0151 1459.08 Q87.9595 1454.48 87.9595 1445.75 Q87.9595 1437 91.0151 1432.42 Q94.0937 1427.81 99.9039 1427.81 Z\" fill=\"#000000\" fill-rule=\"evenodd\" fill-opacity=\"1\" /><path clip-path=\"url(#clip260)\" d=\"M 0 0 M63.9319 1159.97 Q60.3208 1159.97 58.4921 1163.53 Q56.6865 1167.07 56.6865 1174.2 Q56.6865 1181.31 58.4921 1184.87 Q60.3208 1188.42 63.9319 1188.42 Q67.5661 1188.42 69.3717 1184.87 Q71.2004 1181.31 71.2004 1174.2 Q71.2004 1167.07 69.3717 1163.53 Q67.5661 1159.97 63.9319 1159.97 M63.9319 1156.26 Q69.742 1156.26 72.7976 1160.87 Q75.8763 1165.45 75.8763 1174.2 Q75.8763 1182.93 72.7976 1187.54 Q69.742 1192.12 63.9319 1192.12 Q58.1217 1192.12 55.043 1187.54 Q51.9875 1182.93 51.9875 1174.2 Q51.9875 1165.45 55.043 1160.87 Q58.1217 1156.26 63.9319 1156.26 Z\" fill=\"#000000\" fill-rule=\"evenodd\" fill-opacity=\"1\" /><path clip-path=\"url(#clip260)\" d=\"M 0 0 M80.9457 1185.57 L85.8299 1185.57 L85.8299 1191.45 L80.9457 1191.45 L80.9457 1185.57 Z\" fill=\"#000000\" fill-rule=\"evenodd\" fill-opacity=\"1\" /><path clip-path=\"url(#clip260)\" d=\"M 0 0 M90.9456 1156.89 L109.302 1156.89 L109.302 1160.82 L95.228 1160.82 L95.228 1169.3 Q96.2465 1168.95 97.265 1168.79 Q98.2835 1168.6 99.3021 1168.6 Q105.089 1168.6 108.469 1171.77 Q111.848 1174.94 111.848 1180.36 Q111.848 1185.94 108.376 1189.04 Q104.904 1192.12 98.5845 1192.12 Q96.4085 1192.12 94.14 1191.75 Q91.8947 1191.38 89.4873 1190.64 L89.4873 1185.94 Q91.5706 1187.07 93.7928 1187.63 Q96.015 1188.18 98.4919 1188.18 Q102.496 1188.18 104.834 1186.08 Q107.172 1183.97 107.172 1180.36 Q107.172 1176.75 104.834 1174.64 Q102.496 1172.54 98.4919 1172.54 Q96.6169 1172.54 94.7419 1172.95 Q92.89 1173.37 90.9456 1174.25 L90.9456 1156.89 Z\" fill=\"#000000\" fill-rule=\"evenodd\" fill-opacity=\"1\" /><path clip-path=\"url(#clip260)\" d=\"M 0 0 M54.9736 915.965 L62.6124 915.965 L62.6124 889.599 L54.3023 891.266 L54.3023 887.007 L62.5661 885.34 L67.242 885.34 L67.242 915.965 L74.8809 915.965 L74.8809 919.9 L54.9736 919.9 L54.9736 915.965 Z\" fill=\"#000000\" fill-rule=\"evenodd\" fill-opacity=\"1\" /><path clip-path=\"url(#clip260)\" d=\"M 0 0 M79.9503 914.02 L84.8345 914.02 L84.8345 919.9 L79.9503 919.9 L79.9503 914.02 Z\" fill=\"#000000\" fill-rule=\"evenodd\" fill-opacity=\"1\" /><path clip-path=\"url(#clip260)\" d=\"M 0 0 M99.9039 888.419 Q96.2928 888.419 94.4641 891.983 Q92.6586 895.525 92.6586 902.655 Q92.6586 909.761 94.4641 913.326 Q96.2928 916.868 99.9039 916.868 Q103.538 916.868 105.344 913.326 Q107.172 909.761 107.172 902.655 Q107.172 895.525 105.344 891.983 Q103.538 888.419 99.9039 888.419 M99.9039 884.715 Q105.714 884.715 108.77 889.321 Q111.848 893.905 111.848 902.655 Q111.848 911.381 108.77 915.988 Q105.714 920.571 99.9039 920.571 Q94.0937 920.571 91.0151 915.988 Q87.9595 911.381 87.9595 902.655 Q87.9595 893.905 91.0151 889.321 Q94.0937 884.715 99.9039 884.715 Z\" fill=\"#000000\" fill-rule=\"evenodd\" fill-opacity=\"1\" /><path clip-path=\"url(#clip260)\" d=\"M 0 0 M55.969 644.417 L63.6078 644.417 L63.6078 618.051 L55.2977 619.718 L55.2977 615.459 L63.5615 613.792 L68.2374 613.792 L68.2374 644.417 L75.8763 644.417 L75.8763 648.352 L55.969 648.352 L55.969 644.417 Z\" fill=\"#000000\" fill-rule=\"evenodd\" fill-opacity=\"1\" /><path clip-path=\"url(#clip260)\" d=\"M 0 0 M80.9457 642.472 L85.8299 642.472 L85.8299 648.352 L80.9457 648.352 L80.9457 642.472 Z\" fill=\"#000000\" fill-rule=\"evenodd\" fill-opacity=\"1\" /><path clip-path=\"url(#clip260)\" d=\"M 0 0 M90.9456 613.792 L109.302 613.792 L109.302 617.727 L95.228 617.727 L95.228 626.199 Q96.2465 625.852 97.265 625.69 Q98.2835 625.505 99.3021 625.505 Q105.089 625.505 108.469 628.676 Q111.848 631.848 111.848 637.264 Q111.848 642.843 108.376 645.945 Q104.904 649.023 98.5845 649.023 Q96.4085 649.023 94.14 648.653 Q91.8947 648.283 89.4873 647.542 L89.4873 642.843 Q91.5706 643.977 93.7928 644.533 Q96.015 645.088 98.4919 645.088 Q102.496 645.088 104.834 642.982 Q107.172 640.875 107.172 637.264 Q107.172 633.653 104.834 631.547 Q102.496 629.44 98.4919 629.44 Q96.6169 629.44 94.7419 629.857 Q92.89 630.273 90.9456 631.153 L90.9456 613.792 Z\" fill=\"#000000\" fill-rule=\"evenodd\" fill-opacity=\"1\" /><path clip-path=\"url(#clip260)\" d=\"M 0 0 M58.5615 372.869 L74.8809 372.869 L74.8809 376.804 L52.9366 376.804 L52.9366 372.869 Q55.5986 370.114 60.1819 365.485 Q64.7883 360.832 65.9689 359.489 Q68.2143 356.966 69.0939 355.23 Q69.9967 353.471 69.9967 351.781 Q69.9967 349.027 68.0522 347.29 Q66.1309 345.554 63.0291 345.554 Q60.83 345.554 58.3763 346.318 Q55.9458 347.082 53.168 348.633 L53.168 343.911 Q55.9921 342.777 58.4458 342.198 Q60.8995 341.619 62.9365 341.619 Q68.3068 341.619 71.5013 344.304 Q74.6957 346.99 74.6957 351.48 Q74.6957 353.61 73.8855 355.531 Q73.0985 357.429 70.992 360.022 Q70.4133 360.693 67.3115 363.911 Q64.2096 367.105 58.5615 372.869 Z\" fill=\"#000000\" fill-rule=\"evenodd\" fill-opacity=\"1\" /><path clip-path=\"url(#clip260)\" d=\"M 0 0 M79.9503 370.925 L84.8345 370.925 L84.8345 376.804 L79.9503 376.804 L79.9503 370.925 Z\" fill=\"#000000\" fill-rule=\"evenodd\" fill-opacity=\"1\" /><path clip-path=\"url(#clip260)\" d=\"M 0 0 M99.9039 345.323 Q96.2928 345.323 94.4641 348.888 Q92.6586 352.429 92.6586 359.559 Q92.6586 366.665 94.4641 370.23 Q96.2928 373.772 99.9039 373.772 Q103.538 373.772 105.344 370.23 Q107.172 366.665 107.172 359.559 Q107.172 352.429 105.344 348.888 Q103.538 345.323 99.9039 345.323 M99.9039 341.619 Q105.714 341.619 108.77 346.226 Q111.848 350.809 111.848 359.559 Q111.848 368.286 108.77 372.892 Q105.714 377.475 99.9039 377.475 Q94.0937 377.475 91.0151 372.892 Q87.9595 368.286 87.9595 359.559 Q87.9595 350.809 91.0151 346.226 Q94.0937 341.619 99.9039 341.619 Z\" fill=\"#000000\" fill-rule=\"evenodd\" fill-opacity=\"1\" /><path clip-path=\"url(#clip260)\" d=\"M 0 0 M59.5569 101.321 L75.8763 101.321 L75.8763 105.256 L53.9319 105.256 L53.9319 101.321 Q56.5939 98.5665 61.1773 93.9369 Q65.7837 89.2841 66.9643 87.9416 Q69.2096 85.4184 70.0892 83.6823 Q70.992 81.9231 70.992 80.2333 Q70.992 77.4786 69.0476 75.7425 Q67.1263 74.0064 64.0245 74.0064 Q61.8254 74.0064 59.3717 74.7703 Q56.9412 75.5342 54.1634 77.0851 L54.1634 72.3629 Q56.9875 71.2287 59.4412 70.65 Q61.8948 70.0713 63.9319 70.0713 Q69.3022 70.0713 72.4966 72.7565 Q75.6911 75.4416 75.6911 79.9323 Q75.6911 82.062 74.8809 83.9832 Q74.0939 85.8814 71.9874 88.474 Q71.4087 89.1453 68.3068 92.3628 Q65.205 95.5573 59.5569 101.321 Z\" fill=\"#000000\" fill-rule=\"evenodd\" fill-opacity=\"1\" /><path clip-path=\"url(#clip260)\" d=\"M 0 0 M80.9457 99.3767 L85.8299 99.3767 L85.8299 105.256 L80.9457 105.256 L80.9457 99.3767 Z\" fill=\"#000000\" fill-rule=\"evenodd\" fill-opacity=\"1\" /><path clip-path=\"url(#clip260)\" d=\"M 0 0 M90.9456 70.6963 L109.302 70.6963 L109.302 74.6314 L95.228 74.6314 L95.228 83.1036 Q96.2465 82.7564 97.265 82.5944 Q98.2835 82.4092 99.3021 82.4092 Q105.089 82.4092 108.469 85.5805 Q111.848 88.7517 111.848 94.1684 Q111.848 99.747 108.376 102.849 Q104.904 105.928 98.5845 105.928 Q96.4085 105.928 94.14 105.557 Q91.8947 105.187 89.4873 104.446 L89.4873 99.747 Q91.5706 100.881 93.7928 101.437 Q96.015 101.992 98.4919 101.992 Q102.496 101.992 104.834 99.8859 Q107.172 97.7795 107.172 94.1684 Q107.172 90.5573 104.834 88.4508 Q102.496 86.3443 98.4919 86.3443 Q96.6169 86.3443 94.7419 86.761 Q92.89 87.1777 90.9456 88.0573 L90.9456 70.6963 Z\" fill=\"#000000\" fill-rule=\"evenodd\" fill-opacity=\"1\" /><polyline clip-path=\"url(#clip262)\" style=\"stroke:#008000; stroke-width:12; stroke-opacity:1; fill:none\" stroke-dasharray=\"48, 30\" points=\"\n",
       "  1042.29,902.62 1042.29,1445.72 210.251,1445.72 210.251,902.62 1042.29,902.62 \n",
       "  \"/>\n",
       "<circle clip-path=\"url(#clip262)\" cx=\"1042.29\" cy=\"902.62\" r=\"28\" fill=\"#008000\" fill-rule=\"evenodd\" fill-opacity=\"1\" stroke=\"#000000\" stroke-opacity=\"1\" stroke-width=\"3.2\"/>\n",
       "<circle clip-path=\"url(#clip262)\" cx=\"1042.29\" cy=\"1445.72\" r=\"28\" fill=\"#008000\" fill-rule=\"evenodd\" fill-opacity=\"1\" stroke=\"#000000\" stroke-opacity=\"1\" stroke-width=\"3.2\"/>\n",
       "<circle clip-path=\"url(#clip262)\" cx=\"210.251\" cy=\"1445.72\" r=\"28\" fill=\"#008000\" fill-rule=\"evenodd\" fill-opacity=\"1\" stroke=\"#000000\" stroke-opacity=\"1\" stroke-width=\"3.2\"/>\n",
       "<circle clip-path=\"url(#clip262)\" cx=\"210.251\" cy=\"902.62\" r=\"28\" fill=\"#008000\" fill-rule=\"evenodd\" fill-opacity=\"1\" stroke=\"#000000\" stroke-opacity=\"1\" stroke-width=\"3.2\"/>\n",
       "<circle clip-path=\"url(#clip262)\" cx=\"1042.29\" cy=\"902.62\" r=\"28\" fill=\"#008000\" fill-rule=\"evenodd\" fill-opacity=\"1\" stroke=\"#000000\" stroke-opacity=\"1\" stroke-width=\"3.2\"/>\n",
       "<polyline clip-path=\"url(#clip262)\" style=\"stroke:#ff0000; stroke-width:16; stroke-opacity:1; fill:none\" stroke-dasharray=\"64, 40\" points=\"\n",
       "  2290.35,87.9763 1874.33,1174.17 210.251,1445.72 626.272,359.524 2290.35,87.9763 \n",
       "  \"/>\n",
       "<circle clip-path=\"url(#clip262)\" cx=\"2290.35\" cy=\"87.9763\" r=\"28\" fill=\"#ff0000\" fill-rule=\"evenodd\" fill-opacity=\"1\" stroke=\"#000000\" stroke-opacity=\"1\" stroke-width=\"3.2\"/>\n",
       "<circle clip-path=\"url(#clip262)\" cx=\"1874.33\" cy=\"1174.17\" r=\"28\" fill=\"#ff0000\" fill-rule=\"evenodd\" fill-opacity=\"1\" stroke=\"#000000\" stroke-opacity=\"1\" stroke-width=\"3.2\"/>\n",
       "<circle clip-path=\"url(#clip262)\" cx=\"210.251\" cy=\"1445.72\" r=\"28\" fill=\"#ff0000\" fill-rule=\"evenodd\" fill-opacity=\"1\" stroke=\"#000000\" stroke-opacity=\"1\" stroke-width=\"3.2\"/>\n",
       "<circle clip-path=\"url(#clip262)\" cx=\"626.272\" cy=\"359.524\" r=\"28\" fill=\"#ff0000\" fill-rule=\"evenodd\" fill-opacity=\"1\" stroke=\"#000000\" stroke-opacity=\"1\" stroke-width=\"3.2\"/>\n",
       "<circle clip-path=\"url(#clip262)\" cx=\"2290.35\" cy=\"87.9763\" r=\"28\" fill=\"#ff0000\" fill-rule=\"evenodd\" fill-opacity=\"1\" stroke=\"#000000\" stroke-opacity=\"1\" stroke-width=\"3.2\"/>\n",
       "</svg>\n"
      ]
     },
     "execution_count": 15,
     "metadata": {},
     "output_type": "execute_result"
    }
   ],
   "source": [
    "p1 = plot(X[:,1],X[:,2], line=(3,:dash,:green),m=(8,:green))\n",
    "plot!(XPP[:,1],XPP[:,2],line=(4,:dash,:red),m=(8,:red), leg = false)"
   ]
  },
  {
   "cell_type": "markdown",
   "metadata": {},
   "source": [
    "### Puede verse que se obtendría el mismo caso de cizalla simple, pero añadiendo una pequeña rotación"
   ]
  },
  {
   "cell_type": "code",
   "execution_count": null,
   "metadata": {
    "collapsed": true,
    "scrolled": true
   },
   "outputs": [],
   "source": []
  }
 ],
 "metadata": {
  "@webio": {
   "lastCommId": null,
   "lastKernelId": null
  },
  "kernelspec": {
   "display_name": "Julia 1.5.3",
   "language": "julia",
   "name": "julia-1.5"
  },
  "language_info": {
   "file_extension": ".jl",
   "mimetype": "application/julia",
   "name": "julia",
   "version": "1.5.3"
  }
 },
 "nbformat": 4,
 "nbformat_minor": 2
}

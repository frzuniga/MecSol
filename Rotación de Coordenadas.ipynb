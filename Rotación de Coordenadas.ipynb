{
 "cells": [
  {
   "cell_type": "markdown",
   "metadata": {},
   "source": [
    "### Mecánica de Sólidos\n",
    "###  Transformación de coordenadas .\n",
    "\n",
    "#### En esta libreta se usan los paquetes ReferenceFrameRotations y StaticArrays  para generar Matrices de Cosenos directores\n",
    "#### https://juliaspace.github.io/ReferenceFrameRotations.jl/stable/"
   ]
  },
  {
   "cell_type": "code",
   "execution_count": 39,
   "metadata": {},
   "outputs": [
    {
     "name": "stderr",
     "output_type": "stream",
     "text": [
      "\u001b[32m\u001b[1m   Resolving\u001b[22m\u001b[39m package versions...\n",
      "\u001b[32m\u001b[1m   Installed\u001b[22m\u001b[39m PyPlot ─ v2.11.6\n",
      "\u001b[32m\u001b[1m    Updating\u001b[22m\u001b[39m `~/.julia/environments/v1.11/Project.toml`\n",
      "  \u001b[90m[d330b81b] \u001b[39m\u001b[92m+ PyPlot v2.11.6\u001b[39m\n",
      "\u001b[32m\u001b[1m    Updating\u001b[22m\u001b[39m `~/.julia/environments/v1.11/Manifest.toml`\n",
      "  \u001b[90m[438e738f] \u001b[39m\u001b[92m+ PyCall v1.96.4\u001b[39m\n",
      "  \u001b[90m[d330b81b] \u001b[39m\u001b[92m+ PyPlot v2.11.6\u001b[39m\n",
      "\u001b[92m\u001b[1mPrecompiling\u001b[22m\u001b[39m project...\n",
      "   7270.7 ms\u001b[32m  ✓ \u001b[39m\u001b[90mPyCall\u001b[39m\n",
      "   2226.6 ms\u001b[32m  ✓ \u001b[39mPyPlot\n",
      "  2 dependencies successfully precompiled in 12 seconds. 257 already precompiled.\n"
     ]
    }
   ],
   "source": [
    "using Pkg\n",
    "\n",
    "#Pkg.add(\"ReferenceFrameRotations\")\n",
    "#Pkg.add(\"StaticArrays\")\n",
    "Pkg.add(\"PyPlot\")"
   ]
  },
  {
   "cell_type": "code",
   "execution_count": 21,
   "metadata": {},
   "outputs": [
    {
     "ename": "LoadError",
     "evalue": "ArgumentError: Package PyPlot not found in current path.\n- Run `import Pkg; Pkg.add(\"PyPlot\")` to install the PyPlot package.",
     "output_type": "error",
     "traceback": [
      "ArgumentError: Package PyPlot not found in current path.\n- Run `import Pkg; Pkg.add(\"PyPlot\")` to install the PyPlot package.",
      "",
      "Stacktrace:",
      " [1] macro expansion",
      "   @ ./loading.jl:2296 [inlined]",
      " [2] macro expansion",
      "   @ ./lock.jl:273 [inlined]",
      " [3] __require(into::Module, mod::Symbol)",
      "   @ Base ./loading.jl:2271",
      " [4] #invoke_in_world#3",
      "   @ ./essentials.jl:1089 [inlined]",
      " [5] invoke_in_world",
      "   @ ./essentials.jl:1086 [inlined]",
      " [6] require(into::Module, mod::Symbol)",
      "   @ Base ./loading.jl:2260"
     ]
    }
   ],
   "source": [
    "using ReferenceFrameRotations\n",
    "using StaticArrays\n",
    "ENV[\"PYTHON\"] = \"\"  \n",
    "using PyPlot"
   ]
  },
  {
   "cell_type": "code",
   "execution_count": 22,
   "metadata": {},
   "outputs": [
    {
     "data": {
      "text/plain": [
       "3-element Vector{Int64}:\n",
       " 1\n",
       " 1\n",
       " 1"
      ]
     },
     "execution_count": 22,
     "metadata": {},
     "output_type": "execute_result"
    }
   ],
   "source": [
    "a = π/4;    # definimos un ángulo de rotación\n",
    "#v = [sqrt(3)/3;sqrt(3)/3;sqrt(3)/3]    # definimos un vector \n",
    "v = [1;1;1] "
   ]
  },
  {
   "cell_type": "code",
   "execution_count": 23,
   "metadata": {},
   "outputs": [
    {
     "data": {
      "text/plain": [
       "DCM{Float64}:\n",
       "  1.0        1.0       -0.414214\n",
       " -0.414214   1.0        1.0\n",
       "  1.0       -0.414214   1.0"
      ]
     },
     "execution_count": 23,
     "metadata": {},
     "output_type": "execute_result"
    }
   ],
   "source": [
    "MCD = angleaxis_to_dcm(a,v)      #  esto nos encuentra la matriz de cosenos directores para ese vector  "
   ]
  },
  {
   "cell_type": "code",
   "execution_count": 24,
   "metadata": {},
   "outputs": [],
   "source": [
    "# newv = MCD*v   #   probamos la transformación"
   ]
  },
  {
   "cell_type": "code",
   "execution_count": 25,
   "metadata": {},
   "outputs": [
    {
     "data": {
      "text/plain": [
       "DCM{Float64}"
      ]
     },
     "execution_count": 25,
     "metadata": {},
     "output_type": "execute_result"
    }
   ],
   "source": [
    "typeof(MCD)"
   ]
  },
  {
   "cell_type": "code",
   "execution_count": 26,
   "metadata": {},
   "outputs": [
    {
     "data": {
      "text/plain": [
       "DCM{Int64}:\n",
       " 1  0  0\n",
       " 0  1  0\n",
       " 0  0  1"
      ]
     },
     "execution_count": 26,
     "metadata": {},
     "output_type": "execute_result"
    }
   ],
   "source": [
    "dcm=DCM([1 0 0; 0 1 0; 0 0 1])    # usamos como ejemplo esta matriz de cosenos directores"
   ]
  },
  {
   "cell_type": "code",
   "execution_count": 27,
   "metadata": {},
   "outputs": [
    {
     "data": {
      "text/plain": [
       "EulerAngles{Float64}:\n",
       "\u001b[32;1m  R(X) : \u001b[0m 0.0 rad  ( 0.0°)\n",
       "\u001b[33;1m  R(Y) : \u001b[0m 0.0 rad  ( 0.0°)\n",
       "\u001b[34;1m  R(Z) : \u001b[0m 0.0 rad  ( 0.0°)"
      ]
     },
     "execution_count": 27,
     "metadata": {},
     "output_type": "execute_result"
    }
   ],
   "source": [
    "dcm_to_angle(dcm, :XYZ)    #  lo cual nos da los angulos de rotación con respecto a cada eje"
   ]
  },
  {
   "cell_type": "code",
   "execution_count": 28,
   "metadata": {},
   "outputs": [
    {
     "data": {
      "text/plain": [
       "EulerAngles{Float64}:\n",
       "\u001b[32;1m  R(X) : \u001b[0m 0.785398 rad  ( 45.0°)\n",
       "\u001b[33;1m  R(Y) : \u001b[0m 1.5708   rad  ( 90.0°)\n",
       "\u001b[34;1m  R(Z) : \u001b[0m 0.0      rad  ( 0.0°)"
      ]
     },
     "execution_count": 28,
     "metadata": {},
     "output_type": "execute_result"
    }
   ],
   "source": [
    "dcm_to_angle(MCD, :XYZ)  # probando con la matriz generada anteriormente"
   ]
  },
  {
   "cell_type": "code",
   "execution_count": 29,
   "metadata": {},
   "outputs": [
    {
     "data": {
      "text/plain": [
       "DCM{Float64}:\n",
       "  0.5        0.853553  0.146447\n",
       " -0.5        0.146447  0.853553\n",
       "  0.707107  -0.5       0.5"
      ]
     },
     "execution_count": 29,
     "metadata": {},
     "output_type": "execute_result"
    }
   ],
   "source": [
    "dcm = angle_to_dcm(pi/4, pi/4, pi/4, :XYZ) # conversión de ángulos de Euler a MCD"
   ]
  },
  {
   "cell_type": "code",
   "execution_count": 30,
   "metadata": {},
   "outputs": [
    {
     "data": {
      "text/plain": [
       "EulerAngles{Float64}:\n",
       "\u001b[32;1m  R(X) : \u001b[0m 0.785398 rad  ( 45.0°)\n",
       "\u001b[33;1m  R(Y) : \u001b[0m 0.785398 rad  ( 45.0°)\n",
       "\u001b[34;1m  R(Z) : \u001b[0m 0.785398 rad  ( 45.0°)"
      ]
     },
     "execution_count": 30,
     "metadata": {},
     "output_type": "execute_result"
    }
   ],
   "source": [
    "dcm_to_angle(dcm, :XYZ)        #.  :XYZ especifica la secuencia de rotación"
   ]
  },
  {
   "cell_type": "code",
   "execution_count": 31,
   "metadata": {},
   "outputs": [
    {
     "data": {
      "text/plain": [
       "DCM{Float64}:\n",
       " 0.5       -0.5        0.707107\n",
       " 0.853553   0.146447  -0.5\n",
       " 0.146447   0.853553   0.5"
      ]
     },
     "execution_count": 31,
     "metadata": {},
     "output_type": "execute_result"
    }
   ],
   "source": [
    "idcm = inv(dcm)  # calculamos la inversa de la matriz de cosenos directores"
   ]
  },
  {
   "cell_type": "code",
   "execution_count": 32,
   "metadata": {},
   "outputs": [
    {
     "data": {
      "text/plain": [
       "3-element Vector{Int64}:\n",
       " 1\n",
       " 0\n",
       " 0"
      ]
     },
     "execution_count": 32,
     "metadata": {},
     "output_type": "execute_result"
    }
   ],
   "source": [
    "vu = [1;0;0]   # definimos un vector unitario"
   ]
  },
  {
   "cell_type": "code",
   "execution_count": 33,
   "metadata": {},
   "outputs": [
    {
     "data": {
      "text/plain": [
       "3-element SVector{3, Float64} with indices SOneTo(3):\n",
       " 0.7071067811865476\n",
       " 0.5000000000000002\n",
       " 1.5"
      ]
     },
     "execution_count": 33,
     "metadata": {},
     "output_type": "execute_result"
    }
   ],
   "source": [
    "vuprima = idcm*v # calculamos el vector en el sistema coordenado rotado"
   ]
  },
  {
   "cell_type": "markdown",
   "metadata": {},
   "source": [
    "#### Vamos a graficar el vector original y el rotado"
   ]
  },
  {
   "cell_type": "code",
   "execution_count": 34,
   "metadata": {},
   "outputs": [
    {
     "ename": "LoadError",
     "evalue": "UndefVarError: `pygui` not defined in `Main`\nSuggestion: check for spelling errors or missing imports.",
     "output_type": "error",
     "traceback": [
      "UndefVarError: `pygui` not defined in `Main`\nSuggestion: check for spelling errors or missing imports.",
      "",
      "Stacktrace:",
      " [1] top-level scope",
      "   @ In[34]:1"
     ]
    }
   ],
   "source": [
    "pygui(true)  # para generar la ventana de graficación externa"
   ]
  },
  {
   "cell_type": "markdown",
   "metadata": {},
   "source": [
    "#### Definimos los extremos del vector para usar quiver"
   ]
  },
  {
   "cell_type": "code",
   "execution_count": 35,
   "metadata": {},
   "outputs": [
    {
     "ename": "LoadError",
     "evalue": "UndefVarError: `figure` not defined in `Main`\nSuggestion: check for spelling errors or missing imports.",
     "output_type": "error",
     "traceback": [
      "UndefVarError: `figure` not defined in `Main`\nSuggestion: check for spelling errors or missing imports.",
      "",
      "Stacktrace:",
      " [1] top-level scope",
      "   @ In[35]:2"
     ]
    }
   ],
   "source": [
    "x = [0;0;0]; y = [0;0;0]; z = [0;0;0]; u = [1;0;0]; v = [0;0;0]; w = [0;0;0]; \n",
    "fig = figure()\n",
    "xlim([-0.0, 1.5])\n",
    "ylim([-0.0, 1.5])\n",
    "zlim([-0.0, 1.5])\n",
    "quiver(x,y,z, u,v, w, lw =0.5)  # esto para inicializar quiver"
   ]
  },
  {
   "cell_type": "code",
   "execution_count": 36,
   "metadata": {},
   "outputs": [
    {
     "ename": "LoadError",
     "evalue": "UndefVarError: `figure` not defined in `Main`\nSuggestion: check for spelling errors or missing imports.",
     "output_type": "error",
     "traceback": [
      "UndefVarError: `figure` not defined in `Main`\nSuggestion: check for spelling errors or missing imports.",
      "",
      "Stacktrace:",
      " [1] top-level scope",
      "   @ In[36]:1"
     ]
    }
   ],
   "source": [
    "fig = figure()\n",
    "ax = fig[:gca](projection=\"3d\")  # grafica los vectores en 3D, los ejes se pueden girar interactivamente.\n",
    "ax[:quiver](x,y,z, u,v, w)\n",
    "xlim([-0.0, 1.5])\n",
    "ylim([-0.0, 1.5])\n",
    "zlim([-0.0, 1.5])\n",
    "\n"
   ]
  },
  {
   "cell_type": "markdown",
   "metadata": {},
   "source": [
    "#### usando los componentes del vector encontrado anteriormente"
   ]
  },
  {
   "cell_type": "code",
   "execution_count": 37,
   "metadata": {},
   "outputs": [],
   "source": [
    "u = [vuprima[1];0;0]; v = [vuprima[2];0;0]; w = [vuprima[3];0;0];"
   ]
  },
  {
   "cell_type": "code",
   "execution_count": 38,
   "metadata": {},
   "outputs": [
    {
     "ename": "LoadError",
     "evalue": "UndefVarError: `figure` not defined in `Main`\nSuggestion: check for spelling errors or missing imports.",
     "output_type": "error",
     "traceback": [
      "UndefVarError: `figure` not defined in `Main`\nSuggestion: check for spelling errors or missing imports.",
      "",
      "Stacktrace:",
      " [1] top-level scope",
      "   @ In[38]:1"
     ]
    }
   ],
   "source": [
    "fig = figure()\n",
    "ax = fig[:gca](projection=\"3d\")\n",
    "ax[:quiver](x,y,z, u,v, w)\n",
    "xlim([-0.0, 1.5])\n",
    "ylim([-0.0, 1.5])\n",
    "zlim([-0.0, 1.5])\n"
   ]
  },
  {
   "cell_type": "markdown",
   "metadata": {},
   "source": [
    "#### Notar que lo que hemos hecho es rotar el sistema de coordenadas, no el vector."
   ]
  },
  {
   "cell_type": "code",
   "execution_count": null,
   "metadata": {},
   "outputs": [],
   "source": []
  }
 ],
 "metadata": {
  "@webio": {
   "lastCommId": null,
   "lastKernelId": null
  },
  "kernelspec": {
   "display_name": "Julia 1.11.2",
   "language": "julia",
   "name": "julia-1.11"
  },
  "language_info": {
   "file_extension": ".jl",
   "mimetype": "application/julia",
   "name": "julia",
   "version": "1.11.2"
  }
 },
 "nbformat": 4,
 "nbformat_minor": 2
}
